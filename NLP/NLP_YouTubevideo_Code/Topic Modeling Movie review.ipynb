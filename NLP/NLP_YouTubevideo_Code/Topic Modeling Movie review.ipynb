{
 "cells": [
  {
   "cell_type": "markdown",
   "metadata": {},
   "source": [
    "### Topic Modeling: Movie review"
   ]
  },
  {
   "cell_type": "code",
   "execution_count": 2,
   "metadata": {},
   "outputs": [
    {
     "name": "stderr",
     "output_type": "stream",
     "text": [
      "C:\\Users\\Shashi\\anaconda3\\lib\\site-packages\\nltk\\decorators.py:68: DeprecationWarning: `formatargspec` is deprecated since Python 3.5. Use `signature` and the `Signature` object directly\n",
      "  regargs, varargs, varkwargs, defaults, formatvalue=lambda value: \"\"\n",
      "C:\\Users\\Shashi\\anaconda3\\lib\\site-packages\\nltk\\lm\\counter.py:15: DeprecationWarning: Using or importing the ABCs from 'collections' instead of from 'collections.abc' is deprecated since Python 3.3,and in 3.9 it will stop working\n",
      "  from collections import Sequence, defaultdict\n",
      "C:\\Users\\Shashi\\anaconda3\\lib\\site-packages\\nltk\\lm\\vocabulary.py:13: DeprecationWarning: Using or importing the ABCs from 'collections' instead of from 'collections.abc' is deprecated since Python 3.3,and in 3.9 it will stop working\n",
      "  from collections import Counter, Iterable\n"
     ]
    }
   ],
   "source": [
    "# Gensim\n",
    "import gensim\n",
    "import gensim.corpora as corpora\n",
    "from gensim.utils import simple_preprocess\n",
    "from gensim.models import CoherenceModel\n",
    "from gensim.models.ldamodel import LdaModel\n",
    "from gensim.corpora.dictionary import Dictionary\n",
    "from gensim import corpora, models\n",
    "\n",
    "# Plotting tools\n",
    "import pyLDAvis\n",
    "import pyLDAvis.gensim  # don't skip this\n",
    "import matplotlib.pyplot as plt\n",
    "%matplotlib inline\n",
    "import seaborn as sns\n",
    "\n",
    "import nltk\n",
    "from nltk import FreqDist\n",
    "import pandas as pd\n",
    "from nltk.stem import WordNetLemmatizer, SnowballStemmer\n",
    "from nltk.stem.porter import *\n",
    "\n",
    "# Import the wordcloud library\n",
    "from wordcloud import WordCloud"
   ]
  },
  {
   "cell_type": "code",
   "execution_count": 3,
   "metadata": {},
   "outputs": [],
   "source": [
    "#Import Data \n",
    "df = pd.read_csv('movie-Review.csv')"
   ]
  },
  {
   "cell_type": "code",
   "execution_count": 4,
   "metadata": {},
   "outputs": [],
   "source": [
    "import numpy as np\n",
    "np.random.seed(500)"
   ]
  },
  {
   "cell_type": "code",
   "execution_count": 5,
   "metadata": {},
   "outputs": [
    {
     "name": "stdout",
     "output_type": "stream",
     "text": [
      "       text\n",
      "class      \n",
      "Neg    1000\n",
      "Pos    1000\n"
     ]
    },
    {
     "data": {
      "image/png": "[encoded data removed]",
      "text/plain": [
       "<Figure size 432x288 with 1 Axes>"
      ]
     },
     "metadata": {
      "needs_background": "light"
     },
     "output_type": "display_data"
    }
   ],
   "source": [
    "class_count=df.groupby('class').count()\n",
    "print(class_count)\n",
    "import matplotlib.pyplot as plt\n",
    "plt.bar(class_count.index.values, class_count['text'])\n",
    "plt.xlabel('Review Sentiments')\n",
    "plt.ylabel('Number of Review')\n",
    "plt.show()"
   ]
  },
  {
   "cell_type": "code",
   "execution_count": 6,
   "metadata": {},
   "outputs": [
    {
     "name": "stderr",
     "output_type": "stream",
     "text": [
      "<>:3: DeprecationWarning: invalid escape sequence \\d\n",
      "<>:3: DeprecationWarning: invalid escape sequence \\d\n",
      "<>:3: DeprecationWarning: invalid escape sequence \\d\n",
      "<ipython-input-6-53debfa22243>:3: DeprecationWarning: invalid escape sequence \\d\n",
      "  df['text']=[re.sub('\\d','', i)for i in df['text']]\n"
     ]
    },
    {
     "data": {
      "text/html": [
       "<div>\n",
       "<style scoped>\n",
       "    .dataframe tbody tr th:only-of-type {\n",
       "        vertical-align: middle;\n",
       "    }\n",
       "\n",
       "    .dataframe tbody tr th {\n",
       "        vertical-align: top;\n",
       "    }\n",
       "\n",
       "    .dataframe thead th {\n",
       "        text-align: right;\n",
       "    }\n",
       "</style>\n",
       "<table border=\"1\" class=\"dataframe\">\n",
       "  <thead>\n",
       "    <tr style=\"text-align: right;\">\n",
       "      <th></th>\n",
       "      <th>class</th>\n",
       "      <th>text</th>\n",
       "    </tr>\n",
       "  </thead>\n",
       "  <tbody>\n",
       "    <tr>\n",
       "      <th>0</th>\n",
       "      <td>Pos</td>\n",
       "      <td>films adapted from comic books have had plent...</td>\n",
       "    </tr>\n",
       "    <tr>\n",
       "      <th>1</th>\n",
       "      <td>Pos</td>\n",
       "      <td>every now and then a movie comes along from a...</td>\n",
       "    </tr>\n",
       "    <tr>\n",
       "      <th>2</th>\n",
       "      <td>Pos</td>\n",
       "      <td>you ve got mail works alot better than it des...</td>\n",
       "    </tr>\n",
       "    <tr>\n",
       "      <th>3</th>\n",
       "      <td>Pos</td>\n",
       "      <td>jaws   is a rare film that grabs your atte...</td>\n",
       "    </tr>\n",
       "    <tr>\n",
       "      <th>4</th>\n",
       "      <td>Pos</td>\n",
       "      <td>moviemaking is a lot like being the general m...</td>\n",
       "    </tr>\n",
       "    <tr>\n",
       "      <th>5</th>\n",
       "      <td>Pos</td>\n",
       "      <td>on june       a self taught   idealistic   ye...</td>\n",
       "    </tr>\n",
       "    <tr>\n",
       "      <th>6</th>\n",
       "      <td>Pos</td>\n",
       "      <td>apparently   director tony kaye had a major b...</td>\n",
       "    </tr>\n",
       "    <tr>\n",
       "      <th>7</th>\n",
       "      <td>Pos</td>\n",
       "      <td>one of my colleagues was surprised when i tol...</td>\n",
       "    </tr>\n",
       "    <tr>\n",
       "      <th>8</th>\n",
       "      <td>Pos</td>\n",
       "      <td>after bloody clashes and independence won   l...</td>\n",
       "    </tr>\n",
       "    <tr>\n",
       "      <th>9</th>\n",
       "      <td>Pos</td>\n",
       "      <td>the american action film has been slowly drow...</td>\n",
       "    </tr>\n",
       "  </tbody>\n",
       "</table>\n",
       "</div>"
      ],
      "text/plain": [
       "  class                                               text\n",
       "0   Pos   films adapted from comic books have had plent...\n",
       "1   Pos   every now and then a movie comes along from a...\n",
       "2   Pos   you ve got mail works alot better than it des...\n",
       "3   Pos      jaws   is a rare film that grabs your atte...\n",
       "4   Pos   moviemaking is a lot like being the general m...\n",
       "5   Pos   on june       a self taught   idealistic   ye...\n",
       "6   Pos   apparently   director tony kaye had a major b...\n",
       "7   Pos   one of my colleagues was surprised when i tol...\n",
       "8   Pos   after bloody clashes and independence won   l...\n",
       "9   Pos   the american action film has been slowly drow..."
      ]
     },
     "execution_count": 6,
     "metadata": {},
     "output_type": "execute_result"
    }
   ],
   "source": [
    "#Remove number\n",
    "import re # import all Regular expression functions\n",
    "df['text']=[re.sub('\\d','', i)for i in df['text']]\n",
    "df.head(10)"
   ]
  },
  {
   "cell_type": "code",
   "execution_count": 7,
   "metadata": {},
   "outputs": [
    {
     "data": {
      "text/html": [
       "<div>\n",
       "<style scoped>\n",
       "    .dataframe tbody tr th:only-of-type {\n",
       "        vertical-align: middle;\n",
       "    }\n",
       "\n",
       "    .dataframe tbody tr th {\n",
       "        vertical-align: top;\n",
       "    }\n",
       "\n",
       "    .dataframe thead th {\n",
       "        text-align: right;\n",
       "    }\n",
       "</style>\n",
       "<table border=\"1\" class=\"dataframe\">\n",
       "  <thead>\n",
       "    <tr style=\"text-align: right;\">\n",
       "      <th></th>\n",
       "      <th>class</th>\n",
       "      <th>text</th>\n",
       "    </tr>\n",
       "  </thead>\n",
       "  <tbody>\n",
       "    <tr>\n",
       "      <th>0</th>\n",
       "      <td>Pos</td>\n",
       "      <td>films adapted from comic books have had plent...</td>\n",
       "    </tr>\n",
       "    <tr>\n",
       "      <th>1</th>\n",
       "      <td>Pos</td>\n",
       "      <td>every now and then a movie comes along from a...</td>\n",
       "    </tr>\n",
       "    <tr>\n",
       "      <th>2</th>\n",
       "      <td>Pos</td>\n",
       "      <td>you ve got mail works alot better than it des...</td>\n",
       "    </tr>\n",
       "    <tr>\n",
       "      <th>3</th>\n",
       "      <td>Pos</td>\n",
       "      <td>jaws   is a rare film that grabs your atte...</td>\n",
       "    </tr>\n",
       "    <tr>\n",
       "      <th>4</th>\n",
       "      <td>Pos</td>\n",
       "      <td>moviemaking is a lot like being the general m...</td>\n",
       "    </tr>\n",
       "    <tr>\n",
       "      <th>5</th>\n",
       "      <td>Pos</td>\n",
       "      <td>on june       a self taught   idealistic   ye...</td>\n",
       "    </tr>\n",
       "    <tr>\n",
       "      <th>6</th>\n",
       "      <td>Pos</td>\n",
       "      <td>apparently   director tony kaye had a major b...</td>\n",
       "    </tr>\n",
       "    <tr>\n",
       "      <th>7</th>\n",
       "      <td>Pos</td>\n",
       "      <td>one of my colleagues was surprised when i tol...</td>\n",
       "    </tr>\n",
       "    <tr>\n",
       "      <th>8</th>\n",
       "      <td>Pos</td>\n",
       "      <td>after bloody clashes and independence won   l...</td>\n",
       "    </tr>\n",
       "    <tr>\n",
       "      <th>9</th>\n",
       "      <td>Pos</td>\n",
       "      <td>the american action film has been slowly drow...</td>\n",
       "    </tr>\n",
       "  </tbody>\n",
       "</table>\n",
       "</div>"
      ],
      "text/plain": [
       "  class                                               text\n",
       "0   Pos   films adapted from comic books have had plent...\n",
       "1   Pos   every now and then a movie comes along from a...\n",
       "2   Pos   you ve got mail works alot better than it des...\n",
       "3   Pos      jaws   is a rare film that grabs your atte...\n",
       "4   Pos   moviemaking is a lot like being the general m...\n",
       "5   Pos   on june       a self taught   idealistic   ye...\n",
       "6   Pos   apparently   director tony kaye had a major b...\n",
       "7   Pos   one of my colleagues was surprised when i tol...\n",
       "8   Pos   after bloody clashes and independence won   l...\n",
       "9   Pos   the american action film has been slowly drow..."
      ]
     },
     "execution_count": 7,
     "metadata": {},
     "output_type": "execute_result"
    }
   ],
   "source": [
    "# Replace punctuations with a white space\n",
    "import string\n",
    "df['text']=[re.sub('[%s]' % re.escape(string.punctuation), ' ', i) for i in df['text']]\n",
    "df.head(10)"
   ]
  },
  {
   "cell_type": "code",
   "execution_count": 8,
   "metadata": {},
   "outputs": [],
   "source": [
    "#Convert into in lower case\n",
    "df['text']=[i.lower() for i in df['text']]"
   ]
  },
  {
   "cell_type": "code",
   "execution_count": 9,
   "metadata": {},
   "outputs": [
    {
     "data": {
      "text/html": [
       "<div>\n",
       "<style scoped>\n",
       "    .dataframe tbody tr th:only-of-type {\n",
       "        vertical-align: middle;\n",
       "    }\n",
       "\n",
       "    .dataframe tbody tr th {\n",
       "        vertical-align: top;\n",
       "    }\n",
       "\n",
       "    .dataframe thead th {\n",
       "        text-align: right;\n",
       "    }\n",
       "</style>\n",
       "<table border=\"1\" class=\"dataframe\">\n",
       "  <thead>\n",
       "    <tr style=\"text-align: right;\">\n",
       "      <th></th>\n",
       "      <th>class</th>\n",
       "      <th>text</th>\n",
       "      <th>text_wt</th>\n",
       "    </tr>\n",
       "  </thead>\n",
       "  <tbody>\n",
       "    <tr>\n",
       "      <th>0</th>\n",
       "      <td>Pos</td>\n",
       "      <td>films adapted from comic books have had plent...</td>\n",
       "      <td>[films, adapted, from, comic, books, have, had...</td>\n",
       "    </tr>\n",
       "    <tr>\n",
       "      <th>1</th>\n",
       "      <td>Pos</td>\n",
       "      <td>every now and then a movie comes along from a...</td>\n",
       "      <td>[every, now, and, then, a, movie, comes, along...</td>\n",
       "    </tr>\n",
       "    <tr>\n",
       "      <th>2</th>\n",
       "      <td>Pos</td>\n",
       "      <td>you ve got mail works alot better than it des...</td>\n",
       "      <td>[you, ve, got, mail, works, alot, better, than...</td>\n",
       "    </tr>\n",
       "    <tr>\n",
       "      <th>3</th>\n",
       "      <td>Pos</td>\n",
       "      <td>jaws   is a rare film that grabs your atte...</td>\n",
       "      <td>[jaws, is, a, rare, film, that, grabs, your, a...</td>\n",
       "    </tr>\n",
       "    <tr>\n",
       "      <th>4</th>\n",
       "      <td>Pos</td>\n",
       "      <td>moviemaking is a lot like being the general m...</td>\n",
       "      <td>[moviemaking, is, a, lot, like, being, the, ge...</td>\n",
       "    </tr>\n",
       "  </tbody>\n",
       "</table>\n",
       "</div>"
      ],
      "text/plain": [
       "  class                                               text  \\\n",
       "0   Pos   films adapted from comic books have had plent...   \n",
       "1   Pos   every now and then a movie comes along from a...   \n",
       "2   Pos   you ve got mail works alot better than it des...   \n",
       "3   Pos      jaws   is a rare film that grabs your atte...   \n",
       "4   Pos   moviemaking is a lot like being the general m...   \n",
       "\n",
       "                                             text_wt  \n",
       "0  [films, adapted, from, comic, books, have, had...  \n",
       "1  [every, now, and, then, a, movie, comes, along...  \n",
       "2  [you, ve, got, mail, works, alot, better, than...  \n",
       "3  [jaws, is, a, rare, film, that, grabs, your, a...  \n",
       "4  [moviemaking, is, a, lot, like, being, the, ge...  "
      ]
     },
     "execution_count": 9,
     "metadata": {},
     "output_type": "execute_result"
    }
   ],
   "source": [
    "# import pandas as pd \n",
    "import pandas as pd \n",
    "#Word Tokenization\n",
    "import nltk # import package for tokenization\n",
    "#nltk.download('punkt') # download all spporting function /files for NLTK package\n",
    "from nltk.tokenize import word_tokenize\n",
    "df['text_wt'] = [word_tokenize(i) for i in df['text']]\n",
    "df.head()"
   ]
  },
  {
   "cell_type": "code",
   "execution_count": 10,
   "metadata": {},
   "outputs": [
    {
     "data": {
      "text/html": [
       "<div>\n",
       "<style scoped>\n",
       "    .dataframe tbody tr th:only-of-type {\n",
       "        vertical-align: middle;\n",
       "    }\n",
       "\n",
       "    .dataframe tbody tr th {\n",
       "        vertical-align: top;\n",
       "    }\n",
       "\n",
       "    .dataframe thead th {\n",
       "        text-align: right;\n",
       "    }\n",
       "</style>\n",
       "<table border=\"1\" class=\"dataframe\">\n",
       "  <thead>\n",
       "    <tr style=\"text-align: right;\">\n",
       "      <th></th>\n",
       "      <th>class</th>\n",
       "      <th>text</th>\n",
       "      <th>text_wt</th>\n",
       "      <th>text_SW</th>\n",
       "    </tr>\n",
       "  </thead>\n",
       "  <tbody>\n",
       "    <tr>\n",
       "      <th>0</th>\n",
       "      <td>Pos</td>\n",
       "      <td>films adapted from comic books have had plent...</td>\n",
       "      <td>[films, adapted, from, comic, books, have, had...</td>\n",
       "      <td>[films, adapted, comic, books, plenty, success...</td>\n",
       "    </tr>\n",
       "    <tr>\n",
       "      <th>1</th>\n",
       "      <td>Pos</td>\n",
       "      <td>every now and then a movie comes along from a...</td>\n",
       "      <td>[every, now, and, then, a, movie, comes, along...</td>\n",
       "      <td>[every, movie, comes, along, suspect, studio, ...</td>\n",
       "    </tr>\n",
       "    <tr>\n",
       "      <th>2</th>\n",
       "      <td>Pos</td>\n",
       "      <td>you ve got mail works alot better than it des...</td>\n",
       "      <td>[you, ve, got, mail, works, alot, better, than...</td>\n",
       "      <td>[got, mail, works, alot, better, deserves, ord...</td>\n",
       "    </tr>\n",
       "    <tr>\n",
       "      <th>3</th>\n",
       "      <td>Pos</td>\n",
       "      <td>jaws   is a rare film that grabs your atte...</td>\n",
       "      <td>[jaws, is, a, rare, film, that, grabs, your, a...</td>\n",
       "      <td>[jaws, rare, film, grabs, attention, shows, si...</td>\n",
       "    </tr>\n",
       "    <tr>\n",
       "      <th>4</th>\n",
       "      <td>Pos</td>\n",
       "      <td>moviemaking is a lot like being the general m...</td>\n",
       "      <td>[moviemaking, is, a, lot, like, being, the, ge...</td>\n",
       "      <td>[moviemaking, lot, like, general, manager, nfl...</td>\n",
       "    </tr>\n",
       "  </tbody>\n",
       "</table>\n",
       "</div>"
      ],
      "text/plain": [
       "  class                                               text  \\\n",
       "0   Pos   films adapted from comic books have had plent...   \n",
       "1   Pos   every now and then a movie comes along from a...   \n",
       "2   Pos   you ve got mail works alot better than it des...   \n",
       "3   Pos      jaws   is a rare film that grabs your atte...   \n",
       "4   Pos   moviemaking is a lot like being the general m...   \n",
       "\n",
       "                                             text_wt  \\\n",
       "0  [films, adapted, from, comic, books, have, had...   \n",
       "1  [every, now, and, then, a, movie, comes, along...   \n",
       "2  [you, ve, got, mail, works, alot, better, than...   \n",
       "3  [jaws, is, a, rare, film, that, grabs, your, a...   \n",
       "4  [moviemaking, is, a, lot, like, being, the, ge...   \n",
       "\n",
       "                                             text_SW  \n",
       "0  [films, adapted, comic, books, plenty, success...  \n",
       "1  [every, movie, comes, along, suspect, studio, ...  \n",
       "2  [got, mail, works, alot, better, deserves, ord...  \n",
       "3  [jaws, rare, film, grabs, attention, shows, si...  \n",
       "4  [moviemaking, lot, like, general, manager, nfl...  "
      ]
     },
     "execution_count": 10,
     "metadata": {},
     "output_type": "execute_result"
    }
   ],
   "source": [
    "#To show the stop words\n",
    "#nltk.download('stopwords') #download Stopwords\n",
    "from nltk.corpus import stopwords\n",
    "stop_words = set(stopwords.words('english'))\n",
    "#Remove All Stop Word\n",
    "df['text_SW'] = [[i for i in j if not i in stop_words] for j in df['text_wt']]# remove the word which is aviable in stopword libr\n",
    "df.head()"
   ]
  },
  {
   "cell_type": "code",
   "execution_count": 11,
   "metadata": {},
   "outputs": [],
   "source": [
    "#nltk.download('tagsets')\n",
    "#nltk.help.upenn_tagset()# tagset documentation\n",
    "#nltk.download('wordnet')\n",
    "from collections import defaultdict #Default Dictionary is imported from collections\n",
    "from nltk.corpus import wordnet as wn #the corpus reader wordnet is imported.\n",
    "from nltk.tag import pos_tag\n",
    "# WordNetLemmatizer requires Pos tags to understand if the word is noun or verb or adjective etc. \n",
    "#By default it is set to Noun\n",
    "tag_map = defaultdict(lambda : wn.NOUN) #Dictionary is created where pos_tag (first letter) are the key values \n",
    "tag_map['J'] = wn.ADJ                   #whose values are mapped with the value \n",
    "tag_map['V'] = wn.VERB                  #from wordnet dictionary. We have taken the only first letter as \n",
    "tag_map['R'] = wn.ADV\n",
    "# we will use it later in the loop.\n",
    "#tag_map"
   ]
  },
  {
   "cell_type": "code",
   "execution_count": 12,
   "metadata": {},
   "outputs": [
    {
     "data": {
      "text/html": [
       "<div>\n",
       "<style scoped>\n",
       "    .dataframe tbody tr th:only-of-type {\n",
       "        vertical-align: middle;\n",
       "    }\n",
       "\n",
       "    .dataframe tbody tr th {\n",
       "        vertical-align: top;\n",
       "    }\n",
       "\n",
       "    .dataframe thead th {\n",
       "        text-align: right;\n",
       "    }\n",
       "</style>\n",
       "<table border=\"1\" class=\"dataframe\">\n",
       "  <thead>\n",
       "    <tr style=\"text-align: right;\">\n",
       "      <th></th>\n",
       "      <th>class</th>\n",
       "      <th>text</th>\n",
       "      <th>text_wt</th>\n",
       "      <th>text_SW</th>\n",
       "      <th>lemma</th>\n",
       "    </tr>\n",
       "  </thead>\n",
       "  <tbody>\n",
       "    <tr>\n",
       "      <th>0</th>\n",
       "      <td>Pos</td>\n",
       "      <td>films adapted from comic books have had plent...</td>\n",
       "      <td>[films, adapted, from, comic, books, have, had...</td>\n",
       "      <td>[films, adapted, comic, books, plenty, success...</td>\n",
       "      <td>[film, adapt, comic, book, plenty, success, wh...</td>\n",
       "    </tr>\n",
       "    <tr>\n",
       "      <th>1</th>\n",
       "      <td>Pos</td>\n",
       "      <td>every now and then a movie comes along from a...</td>\n",
       "      <td>[every, now, and, then, a, movie, comes, along...</td>\n",
       "      <td>[every, movie, comes, along, suspect, studio, ...</td>\n",
       "      <td>[every, movie, come, along, suspect, studio, e...</td>\n",
       "    </tr>\n",
       "    <tr>\n",
       "      <th>2</th>\n",
       "      <td>Pos</td>\n",
       "      <td>you ve got mail works alot better than it des...</td>\n",
       "      <td>[you, ve, got, mail, works, alot, better, than...</td>\n",
       "      <td>[got, mail, works, alot, better, deserves, ord...</td>\n",
       "      <td>[get, mail, work, alot, good, deserves, order,...</td>\n",
       "    </tr>\n",
       "    <tr>\n",
       "      <th>3</th>\n",
       "      <td>Pos</td>\n",
       "      <td>jaws   is a rare film that grabs your atte...</td>\n",
       "      <td>[jaws, is, a, rare, film, that, grabs, your, a...</td>\n",
       "      <td>[jaws, rare, film, grabs, attention, shows, si...</td>\n",
       "      <td>[jaw, rare, film, grab, attention, show, singl...</td>\n",
       "    </tr>\n",
       "    <tr>\n",
       "      <th>4</th>\n",
       "      <td>Pos</td>\n",
       "      <td>moviemaking is a lot like being the general m...</td>\n",
       "      <td>[moviemaking, is, a, lot, like, being, the, ge...</td>\n",
       "      <td>[moviemaking, lot, like, general, manager, nfl...</td>\n",
       "      <td>[moviemaking, lot, like, general, manager, nfl...</td>\n",
       "    </tr>\n",
       "  </tbody>\n",
       "</table>\n",
       "</div>"
      ],
      "text/plain": [
       "  class                                               text  \\\n",
       "0   Pos   films adapted from comic books have had plent...   \n",
       "1   Pos   every now and then a movie comes along from a...   \n",
       "2   Pos   you ve got mail works alot better than it des...   \n",
       "3   Pos      jaws   is a rare film that grabs your atte...   \n",
       "4   Pos   moviemaking is a lot like being the general m...   \n",
       "\n",
       "                                             text_wt  \\\n",
       "0  [films, adapted, from, comic, books, have, had...   \n",
       "1  [every, now, and, then, a, movie, comes, along...   \n",
       "2  [you, ve, got, mail, works, alot, better, than...   \n",
       "3  [jaws, is, a, rare, film, that, grabs, your, a...   \n",
       "4  [moviemaking, is, a, lot, like, being, the, ge...   \n",
       "\n",
       "                                             text_SW  \\\n",
       "0  [films, adapted, comic, books, plenty, success...   \n",
       "1  [every, movie, comes, along, suspect, studio, ...   \n",
       "2  [got, mail, works, alot, better, deserves, ord...   \n",
       "3  [jaws, rare, film, grabs, attention, shows, si...   \n",
       "4  [moviemaking, lot, like, general, manager, nfl...   \n",
       "\n",
       "                                               lemma  \n",
       "0  [film, adapt, comic, book, plenty, success, wh...  \n",
       "1  [every, movie, come, along, suspect, studio, e...  \n",
       "2  [get, mail, work, alot, good, deserves, order,...  \n",
       "3  [jaw, rare, film, grab, attention, show, singl...  \n",
       "4  [moviemaking, lot, like, general, manager, nfl...  "
      ]
     },
     "execution_count": 12,
     "metadata": {},
     "output_type": "execute_result"
    }
   ],
   "source": [
    "#nltk.download('averaged_perceptron_tagger')\n",
    "#lemmatization\n",
    "from nltk.stem import WordNetLemmatizer \n",
    " # Initializing WordNetLemmatizer()\n",
    "lemmatizer = WordNetLemmatizer()\n",
    "\n",
    "df['lemma']=[[lemmatizer.lemmatize(word,tag_map[tag[0]]) for word ,tag in pos_tag(i)] for i in df['text_SW']] \n",
    "df.head()"
   ]
  },
  {
   "cell_type": "code",
   "execution_count": 13,
   "metadata": {},
   "outputs": [],
   "source": [
    " df['lemma2']= df['lemma'].apply(lambda x: ' '.join(x))"
   ]
  },
  {
   "cell_type": "code",
   "execution_count": 14,
   "metadata": {},
   "outputs": [
    {
     "data": {
      "text/plain": [
       "0    film adapt comic book plenty success whether s...\n",
       "1    every movie come along suspect studio every in...\n",
       "2    get mail work alot good deserves order make fi...\n",
       "3    jaw rare film grab attention show single image...\n",
       "4    moviemaking lot like general manager nfl team ...\n",
       "Name: lemma2, dtype: object"
      ]
     },
     "execution_count": 14,
     "metadata": {},
     "output_type": "execute_result"
    }
   ],
   "source": [
    "df['lemma2'].head()"
   ]
  },
  {
   "cell_type": "markdown",
   "metadata": {},
   "source": [
    "### Plot a bar graph of n most frequent words in the data."
   ]
  },
  {
   "cell_type": "code",
   "execution_count": 15,
   "metadata": {},
   "outputs": [],
   "source": [
    "# function to plot most frequent terms\n",
    "def freq_words(x, terms = 20):\n",
    "    all_words = ' '.join([text for text in x])\n",
    "    all_words = all_words.split()\n",
    "\n",
    "    fdist = FreqDist(all_words)\n",
    "    words_df = pd.DataFrame({'word':list(fdist.keys()), 'count':list(fdist.values())})\n",
    "\n",
    "  # selecting top 20 most frequent words\n",
    "    d = words_df.nlargest(columns=\"count\", n = terms) \n",
    "    plt.figure(figsize=(20,5))\n",
    "    ax = sns.barplot(data=d, x= \"word\", y = \"count\")\n",
    "    ax.set(ylabel = 'Count')\n",
    "    plt.show()"
   ]
  },
  {
   "cell_type": "code",
   "execution_count": 16,
   "metadata": {},
   "outputs": [
    {
     "data": {
      "image/png": "[encoded data removed]",
      "text/plain": [
       "<Figure size 1440x360 with 1 Axes>"
      ]
     },
     "metadata": {
      "needs_background": "light"
     },
     "output_type": "display_data"
    }
   ],
   "source": [
    "freq_words(df['lemma2'])"
   ]
  },
  {
   "cell_type": "code",
   "execution_count": 17,
   "metadata": {},
   "outputs": [
    {
     "data": {
      "image/png": "[encoded data removed]",
      "text/plain": [
       "<PIL.Image.Image image mode=RGB size=400x200 at 0x1A36DFB5B08>"
      ]
     },
     "execution_count": 17,
     "metadata": {},
     "output_type": "execute_result"
    }
   ],
   "source": [
    "\n",
    "# Join the different processed titles together.\n",
    "long_string = ','.join(list(df['lemma2'].values))\n",
    "# Create a WordCloud object\n",
    "wordcloud = WordCloud(background_color=\"white\", max_words=5000, contour_width=3, contour_color='steelblue')\n",
    "# Generate a word cloud\n",
    "wordcloud.generate(long_string)\n",
    "# Visualize the word cloud\n",
    "wordcloud.to_image()"
   ]
  },
  {
   "cell_type": "markdown",
   "metadata": {},
   "source": [
    "### Create the Dictionary and Corpus needed for Topic Modeling\n",
    "The two main inputs to the LDA topic model are <br>\n",
    "1.The dictionary(id2word) <br>\n",
    "2.The corpus <br>\n",
    "\n",
    "Next, we need to generate a document term frequency matrix to create an LDA model. The document term frequency matrix counts how frequently a term appears in a document. For that, first, we create a dictionary of documents using the \"corpora.Dictionary()\" method.\n",
    "\n",
    "The \"Dictionary()\" function traverses each document and assigns a unique id to each unique token along with their counts.\n",
    "\n",
    "Next, the dictionary is converted into a bag-of-words using the \"doc2bow()\" method. The result is a list of vectors equal to the number of documents. Each document vector has a series of tuples with token id and token frequency pair (word_id, word_frequency).\n"
   ]
  },
  {
   "cell_type": "markdown",
   "metadata": {},
   "source": [
    "#### Method 1: Create Bag of words using Gensim Package"
   ]
  },
  {
   "cell_type": "code",
   "execution_count": 18,
   "metadata": {},
   "outputs": [],
   "source": [
    "# Create Dictionary\n",
    "id2word = corpora.Dictionary(df['lemma'])\n",
    "\n",
    "# Create Corpus\n",
    "texts = df['lemma']\n",
    "\n",
    "# Term Document Frequency\n",
    "corpus = [id2word.doc2bow(text) for text in texts]"
   ]
  },
  {
   "cell_type": "markdown",
   "metadata": {},
   "source": [
    "#### Method 2: Create TF-IDF using Gensim Package"
   ]
  },
  {
   "cell_type": "code",
   "execution_count": 19,
   "metadata": {},
   "outputs": [],
   "source": [
    "# Applying TF-IDF\n",
    "tfidf = models.TfidfModel(corpus)\n",
    "corpus_tfidf = tfidf[corpus]"
   ]
  },
  {
   "cell_type": "code",
   "execution_count": 20,
   "metadata": {},
   "outputs": [],
   "source": [
    "#[[(id2word[id], freq) for id, freq in cp] for cp in corpus[:1]]"
   ]
  },
  {
   "cell_type": "markdown",
   "metadata": {},
   "source": [
    "### Building the Topic Model"
   ]
  },
  {
   "cell_type": "code",
   "execution_count": 21,
   "metadata": {},
   "outputs": [],
   "source": [
    "# Build LDA model\n",
    "lda_model = gensim.models.ldamodel.LdaModel(corpus=corpus,\n",
    "                                           id2word=id2word,\n",
    "                                           num_topics=5, \n",
    "                                           random_state=100,\n",
    "                                           update_every=1,\n",
    "                                           chunksize=100,\n",
    "                                           passes=10,\n",
    "                                           alpha='auto',\n",
    "                                           per_word_topics=True)"
   ]
  },
  {
   "cell_type": "markdown",
   "metadata": {},
   "source": [
    "### View the topics in LDA model"
   ]
  },
  {
   "cell_type": "code",
   "execution_count": 22,
   "metadata": {},
   "outputs": [
    {
     "data": {
      "text/plain": [
       "[(0,\n",
       "  '0.018*\"vampire\" + 0.008*\"spice\" + 0.006*\"besson\" + 0.006*\"myers\" + 0.005*\"harrelson\" + 0.005*\"wrestle\" + 0.005*\"farrellys\" + 0.005*\"wcw\" + 0.005*\"austin\" + 0.005*\"osmosis\"'),\n",
       " (1,\n",
       "  '0.016*\"film\" + 0.011*\"movie\" + 0.007*\"one\" + 0.006*\"effect\" + 0.005*\"like\" + 0.005*\"make\" + 0.004*\"special\" + 0.004*\"look\" + 0.004*\"even\" + 0.004*\"action\"'),\n",
       " (2,\n",
       "  '0.010*\"jackie\" + 0.008*\"damme\" + 0.008*\"chan\" + 0.008*\"kong\" + 0.007*\"hong\" + 0.006*\"flubber\" + 0.006*\"jean\" + 0.006*\"li\" + 0.006*\"shakespeare\" + 0.005*\"chinese\"'),\n",
       " (3,\n",
       "  '0.010*\"film\" + 0.006*\"one\" + 0.005*\"life\" + 0.005*\"story\" + 0.005*\"make\" + 0.004*\"love\" + 0.004*\"character\" + 0.003*\"find\" + 0.003*\"like\" + 0.003*\"man\"'),\n",
       " (4,\n",
       "  '0.018*\"film\" + 0.017*\"movie\" + 0.011*\"one\" + 0.009*\"get\" + 0.008*\"like\" + 0.008*\"make\" + 0.008*\"character\" + 0.006*\"good\" + 0.006*\"go\" + 0.006*\"bad\"')]"
      ]
     },
     "execution_count": 22,
     "metadata": {},
     "output_type": "execute_result"
    }
   ],
   "source": [
    "# Print the Keyword in the 10 topics\n",
    "lda_model.print_topics()"
   ]
  },
  {
   "cell_type": "markdown",
   "metadata": {},
   "source": [
    "### Evaluation of Topic Modeling Performance"
   ]
  },
  {
   "cell_type": "markdown",
   "metadata": {},
   "source": [
    "1. Compute Model Perplexity :A measure of how good the model is. lower the better  <br>\n",
    "2.Coherence Score:The average /median of the pairwise word-similarity scores of the words in the topic"
   ]
  },
  {
   "cell_type": "code",
   "execution_count": 23,
   "metadata": {},
   "outputs": [
    {
     "name": "stdout",
     "output_type": "stream",
     "text": [
      "\n",
      "Perplexity:  -8.454916356709226\n",
      "\n",
      "Coherence Score:  0.37154298734812813\n"
     ]
    }
   ],
   "source": [
    "# Compute Perplexity\n",
    "print('\\nPerplexity: ', lda_model.log_perplexity(corpus))  # a measure of how good the model is. lower the better.\n",
    "\n",
    "# Compute Coherence Score\n",
    "coherence_model_lda = CoherenceModel(model=lda_model, texts=df['lemma'], dictionary=id2word, coherence='c_v')\n",
    "coherence_lda = coherence_model_lda.get_coherence()\n",
    "print('\\nCoherence Score: ', coherence_lda)"
   ]
  },
  {
   "cell_type": "markdown",
   "metadata": {},
   "source": [
    "### Visualize the topics-keywords"
   ]
  },
  {
   "cell_type": "markdown",
   "metadata": {},
   "source": [
    "From the below output, the bubbles on the left-side represents a topic and larger the bubble, the more prevalent is that topic. \n",
    "The topic model will be good if the topic model has big, non-overlapping bubbles scattered throughout the chart."
   ]
  },
  {
   "cell_type": "code",
   "execution_count": 24,
   "metadata": {},
   "outputs": [
    {
     "data": {
      "text/html": [
       "\n",
       "<link rel=\"stylesheet\" type=\"text/css\" href=\"https://cdn.rawgit.com/bmabey/pyLDAvis/files/ldavis.v1.0.0.css\">\n",
       "\n",
       "\n",
       "<div id=\"ldavis_el1686018015641616081772499522\"></div>\n",
       "<script type=\"text/javascript\">\n",
       "\n",
       "var ldavis_el1686018015641616081772499522_data = {\"mdsDat\": {\"x\": [0.2201146316526195, 0.14789178554820517, 0.15287848758770192, -0.2674569769061269, -0.25342792788239965], \"y\": [-0.00962617869699447, -0.14079444552243975, 0.15062803840931163, 0.009918457533525183, -0.010125871723402761], \"topics\": [1, 2, 3, 4, 5], \"cluster\": [1, 1, 1, 1, 1], \"Freq\": [45.34061050415039, 35.45684814453125, 17.600793838500977, 1.05461585521698, 0.5471373200416565]}, \"tinfo\": {\"Term\": [\"movie\", \"effect\", \"film\", \"action\", \"fight\", \"bad\", \"special\", \"art\", \"life\", \"van\", \"vampire\", \"alien\", \"series\", \"love\", \"family\", \"original\", \"human\", \"plot\", \"carry\", \"star\", \"good\", \"earth\", \"planet\", \"batman\", \"really\", \"war\", \"father\", \"ship\", \"jean\", \"funny\", \"scream\", \"kevin\", \"cop\", \"killer\", \"drug\", \"crime\", \"willis\", \"seagal\", \"teen\", \"smith\", \"l\", \"partner\", \"double\", \"julie\", \"door\", \"crap\", \"max\", \"jackson\", \"naked\", \"detective\", \"carrey\", \"wild\", \"pointless\", \"cash\", \"sean\", \"jay\", \"simon\", \"criminal\", \"offensive\", \"travolta\", \"thriller\", \"twist\", \"cliche\", \"ben\", \"dumb\", \"funny\", \"guy\", \"stupid\", \"lee\", \"murder\", \"movie\", \"bad\", \"joke\", \"really\", \"car\", \"get\", \"good\", \"waste\", \"pretty\", \"plot\", \"think\", \"sex\", \"thing\", \"film\", \"character\", \"like\", \"know\", \"one\", \"actor\", \"see\", \"go\", \"watch\", \"actually\", \"make\", \"play\", \"well\", \"scene\", \"even\", \"end\", \"time\", \"say\", \"would\", \"give\", \"try\", \"seem\", \"much\", \"look\", \"come\", \"two\", \"family\", \"harry\", \"romantic\", \"tom\", \"romance\", \"marry\", \"country\", \"grant\", \"adam\", \"frank\", \"charlie\", \"private\", \"fish\", \"julia\", \"mike\", \"thomas\", \"president\", \"patch\", \"stage\", \"hank\", \"horse\", \"jeff\", \"cindy\", \"stallone\", \"political\", \"wed\", \"conflict\", \"paint\", \"daniel\", \"dude\", \"ryan\", \"sweet\", \"struggle\", \"father\", \"joe\", \"meet\", \"child\", \"life\", \"daughter\", \"theme\", \"beautiful\", \"son\", \"love\", \"american\", \"mother\", \"parent\", \"men\", \"king\", \"woman\", \"story\", \"wife\", \"young\", \"old\", \"man\", \"relationship\", \"find\", \"home\", \"live\", \"film\", \"one\", \"two\", \"year\", \"tell\", \"make\", \"take\", \"character\", \"world\", \"work\", \"play\", \"time\", \"go\", \"like\", \"way\", \"come\", \"scene\", \"get\", \"give\", \"new\", \"would\", \"even\", \"movie\", \"see\", \"alien\", \"planet\", \"ship\", \"godzilla\", \"computer\", \"science\", \"ape\", \"scientist\", \"mar\", \"blade\", \"nbsp\", \"menace\", \"creature\", \"fi\", \"sci\", \"specie\", \"virus\", \"cheesy\", \"animate\", \"tarzan\", \"warrior\", \"bug\", \"trek\", \"phantom\", \"jungle\", \"file\", \"anaconda\", \"spawn\", \"animation\", \"toy\", \"effect\", \"batman\", \"webb\", \"mission\", \"special\", \"crew\", \"earth\", \"space\", \"monster\", \"disney\", \"soldier\", \"human\", \"series\", \"war\", \"film\", \"evil\", \"original\", \"movie\", \"action\", \"star\", \"one\", \"look\", \"first\", \"like\", \"make\", \"even\", \"time\", \"bad\", \"see\", \"much\", \"story\", \"go\", \"well\", \"good\", \"would\", \"plot\", \"new\", \"scene\", \"year\", \"character\", \"jackie\", \"chan\", \"damme\", \"kong\", \"hong\", \"li\", \"krippendorf\", \"romeo\", \"claude\", \"musketeer\", \"finn\", \"chow\", \"granger\", \"fu\", \"suvari\", \"kung\", \"juliet\", \"yang\", \"taiwan\", \"artagnan\", \"mena\", \"yun\", \"estella\", \"mulan\", \"asian\", \"alain\", \"condor\", \"tsui\", \"jia\", \"mirren\", \"shakespeare\", \"flubber\", \"chinese\", \"jean\", \"china\", \"martial\", \"dragon\", \"paris\", \"van\", \"jet\", \"fight\", \"art\", \"butcher\", \"stunt\", \"besson\", \"myers\", \"harrelson\", \"farrellys\", \"wcw\", \"farrelly\", \"wrestler\", \"osmosis\", \"palmetto\", \"schwimmer\", \"matilda\", \"wrestling\", \"valek\", \"vampires\", \"gordie\", \"jovovich\", \"fichtner\", \"deedles\", \"hedwig\", \"montoya\", \"flynt\", \"rubell\", \"sinclair\", \"lacrosse\", \"odette\", \"nitro\", \"brothel\", \"sevigny\", \"prentice\", \"bischoff\", \"gilbert\", \"thrax\", \"vampire\", \"austin\", \"spice\", \"wrestle\", \"shane\", \"princess\"], \"Freq\": [7541.0, 802.0, 10299.0, 1317.0, 501.0, 2432.0, 576.0, 273.0, 1513.0, 197.0, 137.0, 398.0, 618.0, 1320.0, 628.0, 730.0, 499.0, 1840.0, 226.0, 1299.0, 2649.0, 311.0, 266.0, 271.0, 1495.0, 371.0, 490.0, 256.0, 105.0, 1008.0, 328.61907958984375, 323.15814208984375, 307.28057861328125, 289.124267578125, 264.0220031738281, 211.4105682373047, 178.9071807861328, 168.95404052734375, 188.18417358398438, 235.25863647460938, 154.89901733398438, 153.54881286621094, 146.9568328857422, 143.368896484375, 145.6573028564453, 138.95249938964844, 134.72752380371094, 132.83485412597656, 127.31582641601562, 118.4988021850586, 117.15584564208984, 250.1359100341797, 116.97138977050781, 116.61652374267578, 134.9673614501953, 110.56705474853516, 108.82801818847656, 109.17965698242188, 110.40696716308594, 107.47575378417969, 330.0669860839844, 227.22671508789062, 186.13294982910156, 127.51364135742188, 180.94090270996094, 923.5901489257812, 915.8759765625, 341.5445251464844, 293.9847412109375, 319.2124328613281, 5565.06640625, 1956.308349609375, 478.0837707519531, 1236.4755859375, 340.1520080566406, 2867.65478515625, 2038.9920654296875, 354.2362976074219, 479.5676574707031, 1427.453125, 1184.4334716796875, 432.7756042480469, 1233.111328125, 5866.677734375, 2393.40576171875, 2522.214111328125, 1283.6510009765625, 3485.617919921875, 940.2988891601562, 1801.5426025390625, 1988.0948486328125, 898.2642822265625, 661.5044555664062, 2484.208984375, 1475.8607177734375, 1497.967041015625, 1653.734130859375, 1734.922607421875, 1132.5218505859375, 1670.9249267578125, 1064.64453125, 1325.919921875, 1184.7857666015625, 984.0582885742188, 1079.2720947265625, 1134.1912841796875, 1142.1265869140625, 1108.5118408203125, 1040.0528564453125, 628.0791625976562, 306.0326843261719, 287.14093017578125, 245.83050537109375, 210.4815216064453, 189.2390899658203, 177.1842803955078, 162.98660278320312, 161.26341247558594, 157.9815216064453, 147.7144775390625, 145.8516082763672, 131.7768096923828, 124.71636962890625, 125.50982666015625, 121.61927795410156, 120.3493423461914, 113.16265869140625, 116.4488754272461, 109.37349700927734, 106.43385314941406, 104.77330017089844, 113.33849334716797, 105.73717498779297, 101.21712493896484, 101.12812805175781, 125.52535247802734, 101.79725646972656, 99.39308166503906, 99.8338851928711, 231.44161987304688, 148.1309051513672, 159.27528381347656, 476.9636535644531, 320.8157043457031, 486.1819152832031, 521.0360717773438, 1245.5665283203125, 357.4089660644531, 197.2223663330078, 225.4271697998047, 331.630126953125, 1055.164794921875, 393.1368408203125, 308.83648681640625, 224.06112670898438, 379.7532653808594, 317.07598876953125, 598.578369140625, 1181.2447509765625, 434.62042236328125, 545.6295166015625, 619.35302734375, 804.8599243164062, 317.78753662109375, 838.1974487304688, 384.50286865234375, 480.33050537109375, 2451.712890625, 1588.2462158203125, 783.8134765625, 705.7484130859375, 483.9214172363281, 1174.0716552734375, 784.3121948242188, 1047.880615234375, 486.5461120605469, 631.858154296875, 698.2439575195312, 762.4329223632812, 762.6652221679688, 833.890625, 608.4239501953125, 631.6604614257812, 643.022705078125, 695.3401489257812, 582.3826293945312, 523.8621826171875, 552.5240478515625, 550.3840942382812, 576.7631225585938, 530.8275146484375, 397.933837890625, 265.6628112792969, 256.2764892578125, 236.4503631591797, 216.9445037841797, 186.69268798828125, 169.8153839111328, 151.82080078125, 146.02981567382812, 136.0514373779297, 141.37588500976562, 131.67007446289062, 127.59126281738281, 126.54425048828125, 126.3985824584961, 123.56648254394531, 121.09102630615234, 111.3838882446289, 107.0228500366211, 105.58329010009766, 105.04083251953125, 103.38853454589844, 99.53146362304688, 99.65601348876953, 96.60953521728516, 95.58596801757812, 95.6748275756836, 91.68659973144531, 85.18566131591797, 84.84711456298828, 793.3343505859375, 266.5472106933594, 106.09367370605469, 223.38978576660156, 551.8419799804688, 217.62466430664062, 297.2066345214844, 247.5779571533203, 193.9268341064453, 167.29318237304688, 165.05963134765625, 372.1893310546875, 431.9482727050781, 277.52264404296875, 1981.0057373046875, 258.2952575683594, 360.0970764160156, 1399.0101318359375, 488.6153259277344, 448.4555358886719, 903.8538208007812, 517.89990234375, 444.3929748535156, 637.593505859375, 628.201171875, 500.3203125, 487.3458557128906, 434.06573486328125, 448.0440673828125, 377.2410888671875, 382.48492431640625, 394.9116516113281, 363.7252197265625, 363.72515869140625, 349.04888916015625, 333.6679992675781, 305.1777038574219, 320.6906433105469, 308.42730712890625, 297.93212890625, 73.39197540283203, 62.28867721557617, 62.395347595214844, 57.523414611816406, 50.75619888305664, 45.028438568115234, 37.787933349609375, 34.26227569580078, 31.84673500061035, 27.694610595703125, 27.504671096801758, 24.039531707763672, 20.58873748779297, 20.124631881713867, 19.452312469482422, 18.855871200561523, 17.339536666870117, 16.085290908813477, 15.064338684082031, 14.452245712280273, 13.956583976745605, 13.376708030700684, 13.169839859008789, 13.036459922790527, 12.197444915771484, 11.792128562927246, 11.866192817687988, 11.361078262329102, 11.70505428314209, 11.2023344039917, 43.68755340576172, 47.41379165649414, 38.791080474853516, 46.533531188964844, 21.24658966064453, 30.296213150024414, 20.82122230529785, 21.659326553344727, 29.30317497253418, 19.11383628845215, 26.740009307861328, 23.359357833862305, 16.615320205688477, 17.05888557434082, 24.905879974365234, 23.484373092651367, 18.845849990844727, 18.4534854888916, 17.58092498779297, 16.87856101989746, 17.039411544799805, 17.32333755493164, 16.080549240112305, 16.768718719482422, 13.587165832519531, 12.149307250976562, 10.689785957336426, 10.331600189208984, 9.335478782653809, 9.243741035461426, 9.332242012023926, 8.847744941711426, 8.377479553222656, 7.483651638031006, 7.264969825744629, 7.178701400756836, 7.081701755523682, 7.143636226654053, 6.95097541809082, 7.095367908477783, 6.773776054382324, 6.423626899719238, 7.755822658538818, 6.186012268066406, 6.240293025970459, 6.584922790527344, 70.40665435791016, 17.35184097290039, 32.36189270019531, 18.595762252807617, 8.894867897033691, 9.165618896484375], \"Total\": [7541.0, 802.0, 10299.0, 1317.0, 501.0, 2432.0, 576.0, 273.0, 1513.0, 197.0, 137.0, 398.0, 618.0, 1320.0, 628.0, 730.0, 499.0, 1840.0, 226.0, 1299.0, 2649.0, 311.0, 266.0, 271.0, 1495.0, 371.0, 490.0, 256.0, 105.0, 1008.0, 329.27069091796875, 323.81427001953125, 307.93536376953125, 289.7754821777344, 264.6756591796875, 212.06373596191406, 179.56594848632812, 169.61949157714844, 188.92578125, 236.2370147705078, 155.5606689453125, 154.2062530517578, 147.61756896972656, 144.02352905273438, 146.33657836914062, 139.61141967773438, 135.3817138671875, 133.49290466308594, 127.97522735595703, 119.15155029296875, 117.80909729003906, 251.54019165039062, 117.63368225097656, 117.28016662597656, 135.7462158203125, 111.21930694580078, 109.47947692871094, 109.83374786376953, 111.07060241699219, 108.13784790039062, 334.1623229980469, 229.7374267578125, 187.9204864501953, 128.3981475830078, 183.3697509765625, 1008.6992797851562, 1015.245849609375, 365.325927734375, 311.87896728515625, 341.31640625, 7541.05419921875, 2432.92138671875, 531.8336181640625, 1495.3836669921875, 369.1905822753906, 3838.796630859375, 2649.3134765625, 387.4266357421875, 543.4642944335938, 1840.12548828125, 1493.612060546875, 493.77935791015625, 1639.8621826171875, 10299.611328125, 3739.432861328125, 3993.9130859375, 1802.4476318359375, 5977.9326171875, 1251.767578125, 2780.6279296875, 3145.885986328125, 1198.77880859375, 833.2368774414062, 4286.6962890625, 2245.742431640625, 2296.197021484375, 2617.662353515625, 2785.841552734375, 1728.166259765625, 2920.91845703125, 1631.68212890625, 2227.707275390625, 1958.46923828125, 1508.16064453125, 1800.859130859375, 2028.514404296875, 2098.467041015625, 1995.394775390625, 1940.6676025390625, 628.7103881835938, 306.6611328125, 287.75164794921875, 246.44027709960938, 211.09950256347656, 189.85179138183594, 177.79664611816406, 163.60337829589844, 161.87806701660156, 158.60438537597656, 148.33436584472656, 146.4661407470703, 132.39942932128906, 125.32758331298828, 126.12919616699219, 122.23816680908203, 120.96359252929688, 113.77357482910156, 117.0978012084961, 109.98500061035156, 107.0483169555664, 105.38334655761719, 113.99962615966797, 106.36663818359375, 101.8265609741211, 101.737548828125, 126.28699493408203, 102.41857147216797, 100.01539611816406, 100.46437072753906, 233.7840118408203, 149.46273803710938, 160.82933044433594, 490.3609924316406, 328.0060119628906, 545.2528686523438, 590.0936279296875, 1513.328857421875, 396.48956298828125, 207.81333923339844, 241.03977966308594, 368.97186279296875, 1320.1708984375, 475.52362060546875, 359.2674560546875, 249.2649383544922, 472.55352783203125, 385.7292175292969, 890.9112548828125, 2184.87744140625, 599.1066284179688, 834.0739135742188, 1010.8070678710938, 1460.0977783203125, 411.5663757324219, 1606.4486083984375, 555.8289794921875, 786.5269775390625, 10299.611328125, 5977.9326171875, 1940.6676025390625, 1638.7943115234375, 860.3471069335938, 4286.6962890625, 2104.183349609375, 3739.432861328125, 900.7761840820312, 1675.66064453125, 2245.742431640625, 2920.91845703125, 3145.885986328125, 3993.9130859375, 1750.6746826171875, 1995.394775390625, 2617.662353515625, 3838.796630859375, 1958.46923828125, 1315.614501953125, 2227.707275390625, 2785.841552734375, 7541.05419921875, 2780.6279296875, 398.57513427734375, 266.3074035644531, 256.92230224609375, 237.09417724609375, 217.58984375, 187.34054565429688, 170.45787048339844, 152.4729766845703, 146.67332458496094, 136.70164489746094, 142.0740203857422, 132.3203582763672, 128.23577880859375, 127.18855285644531, 127.04291534423828, 124.2138900756836, 121.73876190185547, 112.04896545410156, 107.67228698730469, 106.22554016113281, 105.68679809570312, 104.03719329833984, 100.17381286621094, 100.3006820678711, 97.26333618164062, 96.23493194580078, 96.33148956298828, 92.33489990234375, 85.83009338378906, 85.49629974365234, 802.8816528320312, 271.1612548828125, 106.95359802246094, 228.8207550048828, 576.0654907226562, 224.31900024414062, 311.18463134765625, 258.1957092285156, 201.5753631591797, 174.1896514892578, 176.19683837890625, 499.49615478515625, 618.8583984375, 371.9845275878906, 10299.611328125, 418.5840148925781, 730.785888671875, 7541.05419921875, 1317.9447021484375, 1299.4500732421875, 5977.9326171875, 2098.467041015625, 1722.1539306640625, 3993.9130859375, 4286.6962890625, 2785.841552734375, 2920.91845703125, 2432.92138671875, 2780.6279296875, 2028.514404296875, 2184.87744140625, 3145.885986328125, 2296.197021484375, 2649.3134765625, 2227.707275390625, 1840.12548828125, 1315.614501953125, 2617.662353515625, 1638.7943115234375, 3739.432861328125, 74.10130310058594, 62.99839782714844, 63.10736846923828, 58.24473571777344, 51.46586608886719, 45.73653793334961, 38.526920318603516, 34.981143951416016, 32.566612243652344, 28.41591453552246, 28.24386978149414, 24.753808975219727, 21.30305290222168, 20.842912673950195, 20.186386108398438, 19.572998046875, 18.06015396118164, 16.81131362915039, 15.788296699523926, 15.158474922180176, 14.692914962768555, 14.094367027282715, 13.886052131652832, 13.746378898620605, 12.927075386047363, 12.502191543579102, 12.590802192687988, 12.07001781463623, 12.500812530517578, 11.99932861328125, 61.64412307739258, 68.51030731201172, 63.40005874633789, 105.86613464355469, 31.606876373291016, 64.46648406982422, 35.727691650390625, 53.533058166503906, 197.6468048095703, 56.832820892333984, 501.9189758300781, 273.267333984375, 35.080467224121094, 109.88919067382812, 25.6806640625, 24.25108528137207, 19.61420249938965, 19.21858024597168, 18.336782455444336, 17.64247703552246, 17.84178924560547, 18.15207862854004, 16.861820220947266, 17.618507385253906, 14.35341739654541, 12.919132232666016, 11.458101272583008, 11.139596939086914, 10.090353012084961, 10.0087251663208, 10.105762481689453, 9.626006126403809, 9.134442329406738, 8.258275985717773, 8.018855094909668, 7.937460422515869, 7.838494300842285, 7.9082489013671875, 7.714113235473633, 7.882495403289795, 7.560827255249023, 7.184329032897949, 8.685853004455566, 6.944716453552246, 7.006559371948242, 7.465146064758301, 137.0828857421875, 29.324764251708984, 76.3216552734375, 36.6396484375, 25.102413177490234, 65.1036148071289], \"Category\": [\"Default\", \"Default\", \"Default\", \"Default\", \"Default\", \"Default\", \"Default\", \"Default\", \"Default\", \"Default\", \"Default\", \"Default\", \"Default\", \"Default\", \"Default\", \"Default\", \"Default\", \"Default\", \"Default\", \"Default\", \"Default\", \"Default\", \"Default\", \"Default\", \"Default\", \"Default\", \"Default\", \"Default\", \"Default\", \"Default\", \"Topic1\", \"Topic1\", \"Topic1\", \"Topic1\", \"Topic1\", \"Topic1\", \"Topic1\", \"Topic1\", \"Topic1\", \"Topic1\", \"Topic1\", \"Topic1\", \"Topic1\", \"Topic1\", \"Topic1\", \"Topic1\", \"Topic1\", \"Topic1\", \"Topic1\", \"Topic1\", \"Topic1\", \"Topic1\", \"Topic1\", \"Topic1\", \"Topic1\", \"Topic1\", \"Topic1\", \"Topic1\", \"Topic1\", \"Topic1\", \"Topic1\", \"Topic1\", \"Topic1\", \"Topic1\", \"Topic1\", \"Topic1\", \"Topic1\", \"Topic1\", \"Topic1\", \"Topic1\", \"Topic1\", \"Topic1\", \"Topic1\", \"Topic1\", \"Topic1\", \"Topic1\", \"Topic1\", \"Topic1\", \"Topic1\", \"Topic1\", \"Topic1\", \"Topic1\", \"Topic1\", \"Topic1\", \"Topic1\", \"Topic1\", \"Topic1\", \"Topic1\", \"Topic1\", \"Topic1\", \"Topic1\", \"Topic1\", \"Topic1\", \"Topic1\", \"Topic1\", \"Topic1\", \"Topic1\", \"Topic1\", \"Topic1\", \"Topic1\", \"Topic1\", \"Topic1\", \"Topic1\", \"Topic1\", \"Topic1\", \"Topic1\", \"Topic1\", \"Topic1\", \"Topic1\", \"Topic2\", \"Topic2\", \"Topic2\", \"Topic2\", \"Topic2\", \"Topic2\", \"Topic2\", \"Topic2\", \"Topic2\", \"Topic2\", \"Topic2\", \"Topic2\", \"Topic2\", \"Topic2\", \"Topic2\", \"Topic2\", \"Topic2\", \"Topic2\", \"Topic2\", \"Topic2\", \"Topic2\", \"Topic2\", \"Topic2\", \"Topic2\", \"Topic2\", \"Topic2\", \"Topic2\", \"Topic2\", \"Topic2\", \"Topic2\", \"Topic2\", \"Topic2\", \"Topic2\", \"Topic2\", \"Topic2\", \"Topic2\", \"Topic2\", \"Topic2\", \"Topic2\", \"Topic2\", \"Topic2\", \"Topic2\", \"Topic2\", \"Topic2\", \"Topic2\", \"Topic2\", \"Topic2\", \"Topic2\", \"Topic2\", \"Topic2\", \"Topic2\", \"Topic2\", \"Topic2\", \"Topic2\", \"Topic2\", \"Topic2\", \"Topic2\", \"Topic2\", \"Topic2\", \"Topic2\", \"Topic2\", \"Topic2\", \"Topic2\", \"Topic2\", \"Topic2\", \"Topic2\", \"Topic2\", \"Topic2\", \"Topic2\", \"Topic2\", \"Topic2\", \"Topic2\", \"Topic2\", \"Topic2\", \"Topic2\", \"Topic2\", \"Topic2\", \"Topic2\", \"Topic2\", \"Topic2\", \"Topic2\", \"Topic2\", \"Topic3\", \"Topic3\", \"Topic3\", \"Topic3\", \"Topic3\", \"Topic3\", \"Topic3\", \"Topic3\", \"Topic3\", \"Topic3\", \"Topic3\", \"Topic3\", \"Topic3\", \"Topic3\", \"Topic3\", \"Topic3\", \"Topic3\", \"Topic3\", \"Topic3\", \"Topic3\", \"Topic3\", \"Topic3\", \"Topic3\", \"Topic3\", \"Topic3\", \"Topic3\", \"Topic3\", \"Topic3\", \"Topic3\", \"Topic3\", \"Topic3\", \"Topic3\", \"Topic3\", \"Topic3\", \"Topic3\", \"Topic3\", \"Topic3\", \"Topic3\", \"Topic3\", \"Topic3\", \"Topic3\", \"Topic3\", \"Topic3\", \"Topic3\", \"Topic3\", \"Topic3\", \"Topic3\", \"Topic3\", \"Topic3\", \"Topic3\", \"Topic3\", \"Topic3\", \"Topic3\", \"Topic3\", \"Topic3\", \"Topic3\", \"Topic3\", \"Topic3\", \"Topic3\", \"Topic3\", \"Topic3\", \"Topic3\", \"Topic3\", \"Topic3\", \"Topic3\", \"Topic3\", \"Topic3\", \"Topic3\", \"Topic3\", \"Topic3\", \"Topic4\", \"Topic4\", \"Topic4\", \"Topic4\", \"Topic4\", \"Topic4\", \"Topic4\", \"Topic4\", \"Topic4\", \"Topic4\", \"Topic4\", \"Topic4\", \"Topic4\", \"Topic4\", \"Topic4\", \"Topic4\", \"Topic4\", \"Topic4\", \"Topic4\", \"Topic4\", \"Topic4\", \"Topic4\", \"Topic4\", \"Topic4\", \"Topic4\", \"Topic4\", \"Topic4\", \"Topic4\", \"Topic4\", \"Topic4\", \"Topic4\", \"Topic4\", \"Topic4\", \"Topic4\", \"Topic4\", \"Topic4\", \"Topic4\", \"Topic4\", \"Topic4\", \"Topic4\", \"Topic4\", \"Topic4\", \"Topic4\", \"Topic4\", \"Topic5\", \"Topic5\", \"Topic5\", \"Topic5\", \"Topic5\", \"Topic5\", \"Topic5\", \"Topic5\", \"Topic5\", \"Topic5\", \"Topic5\", \"Topic5\", \"Topic5\", \"Topic5\", \"Topic5\", \"Topic5\", \"Topic5\", \"Topic5\", \"Topic5\", \"Topic5\", \"Topic5\", \"Topic5\", \"Topic5\", \"Topic5\", \"Topic5\", \"Topic5\", \"Topic5\", \"Topic5\", \"Topic5\", \"Topic5\", \"Topic5\", \"Topic5\", \"Topic5\", \"Topic5\", \"Topic5\", \"Topic5\", \"Topic5\", \"Topic5\"], \"logprob\": [30.0, 29.0, 28.0, 27.0, 26.0, 25.0, 24.0, 23.0, 22.0, 21.0, 20.0, 19.0, 18.0, 17.0, 16.0, 15.0, 14.0, 13.0, 12.0, 11.0, 10.0, 9.0, 8.0, 7.0, 6.0, 5.0, 4.0, 3.0, 2.0, 1.0, -6.876399993896484, -6.893199920654297, -6.943600177764893, -7.004499912261963, -7.095300197601318, -7.317500114440918, -7.484499931335449, -7.5416998863220215, -7.433899879455566, -7.210700035095215, -7.628600120544434, -7.63730001449585, -7.68120002746582, -7.705900192260742, -7.690100193023682, -7.737199783325195, -7.768099784851074, -7.782199859619141, -7.824699878692627, -7.896399974822998, -7.907800197601318, -7.1493000984191895, -7.90939998626709, -7.912499904632568, -7.766300201416016, -7.965700149536133, -7.981599807739258, -7.978400230407715, -7.967199802398682, -7.994100093841553, -6.872099876403809, -7.2453999519348145, -7.444900035858154, -7.8231000900268555, -7.473199844360352, -5.843100070953369, -5.851500034332275, -6.837900161743164, -6.987800121307373, -6.9054999351501465, -4.047100067138672, -5.09250020980835, -6.5015997886657715, -5.551300048828125, -6.8420000076293945, -4.710100173950195, -5.05109977722168, -6.801400184631348, -6.498499870300293, -5.407700061798096, -5.594299793243408, -6.601099967956543, -5.554100036621094, -3.99429988861084, -4.890900135040283, -4.838500022888184, -5.513899803161621, -4.514900207519531, -5.825200080871582, -5.175000190734863, -5.076399803161621, -5.8709001541137695, -6.176799774169922, -4.853600025177002, -5.3744001388549805, -5.359499931335449, -5.2606000900268555, -5.212600231170654, -5.639100074768066, -5.250199794769287, -5.701000213623047, -5.481500148773193, -5.593999862670898, -5.779699802398682, -5.687300205230713, -5.637700080871582, -5.63070011138916, -5.660600185394287, -5.724299907684326, -5.982800006866455, -6.7017998695373535, -6.765500068664551, -6.92080020904541, -7.076099872589111, -7.182499885559082, -7.248300075531006, -7.3317999839782715, -7.342400074005127, -7.36299991607666, -7.430200099945068, -7.44290018081665, -7.544400215148926, -7.599400043487549, -7.593100070953369, -7.624599933624268, -7.6350998878479, -7.696599960327148, -7.668000221252441, -7.7307000160217285, -7.757900238037109, -7.77370023727417, -7.695099830627441, -7.764500141143799, -7.808199882507324, -7.809100151062012, -7.5929999351501465, -7.802499771118164, -7.826399803161621, -7.822000026702881, -6.981100082397461, -7.4274001121521, -7.354800224304199, -6.257999897003174, -6.654600143432617, -6.238900184631348, -6.169600009918213, -5.298099994659424, -6.546599864959717, -7.14109992980957, -7.007500171661377, -6.621399879455566, -5.464000225067139, -6.451300144195557, -6.692699909210205, -7.013500213623047, -6.485899925231934, -6.666299819946289, -6.030900001525879, -5.351099967956543, -6.35099983215332, -6.123499870300293, -5.996799945831299, -5.734799861907959, -6.664100170135498, -5.694200038909912, -6.473499774932861, -6.250999927520752, -4.6209001541137695, -5.055099964141846, -5.761300086975098, -5.866199970245361, -6.243500232696533, -5.3572001457214355, -5.760700225830078, -5.470900058746338, -6.238100051879883, -5.976799964904785, -5.8769001960754395, -5.788899898529053, -5.788599967956543, -5.699399948120117, -6.014599800109863, -5.977099895477295, -5.9593000411987305, -5.881100177764893, -6.058300018310547, -6.1641998291015625, -6.111000061035156, -6.114799976348877, -6.067999839782715, -6.151000022888184, -5.738800048828125, -6.142899990081787, -6.178800106048584, -6.259399890899658, -6.345399856567383, -6.49560022354126, -6.590400218963623, -6.702400207519531, -6.741300106048584, -6.812099933624268, -6.77370023727417, -6.844799995422363, -6.876299858093262, -6.884500026702881, -6.8856000900268555, -6.908299922943115, -6.928500175476074, -7.0121002197265625, -7.052000045776367, -7.0655999183654785, -7.070700168609619, -7.086599826812744, -7.124599933624268, -7.1234002113342285, -7.154399871826172, -7.16510009765625, -7.164100170135498, -7.206699848175049, -7.280300140380859, -7.284200191497803, -5.048799991607666, -6.139500141143799, -7.060800075531006, -6.316199779510498, -5.411799907684326, -6.342299938201904, -6.030700206756592, -6.213399887084961, -6.457600116729736, -6.605299949645996, -6.618800163269043, -5.805699825286865, -5.656799793243408, -6.0991997718811035, -4.133699893951416, -6.171000003814697, -5.838699817657471, -4.481599807739258, -5.5335001945495605, -5.61929988861084, -4.918399810791016, -5.475299835205078, -5.628399848937988, -5.267399787902832, -5.282199859619141, -5.509799957275391, -5.536099910736084, -5.651899814605713, -5.620200157165527, -5.792200088500977, -5.77839994430542, -5.746399879455566, -5.828700065612793, -5.828700065612793, -5.869900226593018, -5.914899826049805, -6.004199981689453, -5.954599857330322, -5.993599891662598, -6.028200149536133, -4.614500045776367, -4.778500080108643, -4.776800155639648, -4.858099937438965, -4.98330020904541, -5.103000164031982, -5.278299808502197, -5.376299858093262, -5.449399948120117, -5.589099884033203, -5.5960001945495605, -5.730599880218506, -5.8856000900268555, -5.908400058746338, -5.942399978637695, -5.973499774932861, -6.057300090789795, -6.132400035858154, -6.197999954223633, -6.239500045776367, -6.274400234222412, -6.316800117492676, -6.332399845123291, -6.342599868774414, -6.40910005569458, -6.44290018081665, -6.436600208282471, -6.480100154876709, -6.450300216674805, -6.494200229644775, -5.133299827575684, -5.051400184631348, -5.252099990844727, -5.070199966430664, -5.854100227355957, -5.499300003051758, -5.8744001388549805, -5.83489990234375, -5.532599925994873, -5.95989990234375, -5.624199867248535, -5.759300231933594, -6.099999904632568, -6.073699951171875, -5.039000034332275, -5.097799777984619, -5.317800045013428, -5.338799953460693, -5.38730001449585, -5.427999973297119, -5.418600082397461, -5.4019999504089355, -5.476500034332275, -5.434599876403809, -5.644999980926514, -5.756800174713135, -5.884799957275391, -5.918900012969971, -6.020299911499023, -6.030099868774414, -6.020599842071533, -6.07390022277832, -6.128499984741211, -6.241399765014648, -6.270999908447266, -6.2829999923706055, -6.296599864959717, -6.287899971008301, -6.315199851989746, -6.294600009918213, -6.341000080108643, -6.394100189208984, -6.205599784851074, -6.43179988861084, -6.423099994659424, -6.36929988861084, -3.999799966812134, -5.400400161743164, -4.777100086212158, -5.331200122833252, -6.068600177764893, -6.038599967956543], \"loglift\": [30.0, 29.0, 28.0, 27.0, 26.0, 25.0, 24.0, 23.0, 22.0, 21.0, 20.0, 19.0, 18.0, 17.0, 16.0, 15.0, 14.0, 13.0, 12.0, 11.0, 10.0, 9.0, 8.0, 7.0, 6.0, 5.0, 4.0, 3.0, 2.0, 1.0, 0.7889999747276306, 0.7889000177383423, 0.7888000011444092, 0.7886999845504761, 0.7885000109672546, 0.7878999710083008, 0.7872999906539917, 0.7870000004768372, 0.7870000004768372, 0.7868000268936157, 0.7867000102996826, 0.7867000102996826, 0.7864999771118164, 0.7864000201225281, 0.786300003528595, 0.7861999869346619, 0.7860999703407288, 0.7860000133514404, 0.7857999801635742, 0.7854999899864197, 0.7853999733924866, 0.7853999733924866, 0.7853000164031982, 0.7853000164031982, 0.7851999998092651, 0.785099983215332, 0.7850000262260437, 0.7850000262260437, 0.7850000262260437, 0.7847999930381775, 0.7785999774932861, 0.7799999713897705, 0.7814000248908997, 0.7840999960899353, 0.7775999903678894, 0.7027999758720398, 0.6880000233650208, 0.7236999869346619, 0.7318999767303467, 0.7239999771118164, 0.4871000051498413, 0.5728999972343445, 0.6844000220298767, 0.6007999777793884, 0.7089999914169312, 0.4993000030517578, 0.5291000008583069, 0.7013999819755554, 0.6658999919891357, 0.5370000004768372, 0.5590000152587891, 0.6590999960899353, 0.5059000253677368, 0.2281000018119812, 0.3447999954223633, 0.3312999904155731, 0.4514999985694885, 0.2515000104904175, 0.5048999786376953, 0.35690000653266907, 0.3319999873638153, 0.5023999810218811, 0.5601999759674072, 0.24539999663829803, 0.37119999527931213, 0.3637999892234802, 0.33169999718666077, 0.3174000084400177, 0.3684000074863434, 0.23240000009536743, 0.36399999260902405, 0.2721000015735626, 0.28839999437332153, 0.36399999260902405, 0.27900001406669617, 0.20960000157356262, 0.1826999932527542, 0.20309999585151672, 0.1671999990940094, 1.0357999801635742, 1.0348000526428223, 1.0347000360488892, 1.0343999862670898, 1.0339000225067139, 1.0335999727249146, 1.033400058746338, 1.0331000089645386, 1.0329999923706055, 1.0328999757766724, 1.0326999425888062, 1.0326000452041626, 1.032099962234497, 1.031999945640564, 1.0319000482559204, 1.0318000316619873, 1.0318000316619873, 1.031499981880188, 1.0312999486923218, 1.0312999486923218, 1.0311000347137451, 1.031000018119812, 1.031000018119812, 1.030900001525879, 1.030900001525879, 1.0307999849319458, 1.0307999849319458, 1.0307999849319458, 1.0305999517440796, 1.0305999517440796, 1.0268000364303589, 1.027899980545044, 1.0270999670028687, 1.0091999769210815, 1.0147000551223755, 0.9222000241279602, 0.9124000072479248, 0.8421000242233276, 0.9330999851226807, 0.984499990940094, 0.9699000120162964, 0.9301999807357788, 0.8127999901771545, 0.8465999960899353, 0.8855999708175659, 0.9302999973297119, 0.8181999921798706, 0.8409000039100647, 0.63919997215271, 0.4219000041484833, 0.7159000039100647, 0.612500011920929, 0.546999990940094, 0.44130000472068787, 0.7782999873161316, 0.3862999975681305, 0.6682999730110168, 0.5436999797821045, -0.398499995470047, -0.28859999775886536, 0.13019999861717224, 0.19439999759197235, 0.46140000224113464, -0.2581999897956848, 0.05000000074505806, -0.2353000044822693, 0.42089998722076416, 0.06159999966621399, -0.131400004029274, -0.30630001425743103, -0.38019999861717224, -0.5296000242233276, -0.019999999552965164, -0.11339999735355377, -0.367000013589859, -0.6717000007629395, -0.17589999735355377, 0.11599999666213989, -0.35740000009536743, -0.5848000049591064, -1.5338000059127808, -0.6190999746322632, 1.7355999946594238, 1.7347999811172485, 1.7346999645233154, 1.7345000505447388, 1.7343000173568726, 1.7338000535964966, 1.7333999872207642, 1.7329000234603882, 1.732800006866455, 1.7324999570846558, 1.732300043106079, 1.732300043106079, 1.732200026512146, 1.732100009918213, 1.732100009918213, 1.7319999933242798, 1.7318999767303467, 1.7312999963760376, 1.7311999797821045, 1.7311999797821045, 1.7310999631881714, 1.7309999465942383, 1.7308000326156616, 1.7308000326156616, 1.7304999828338623, 1.7304999828338623, 1.7303999662399292, 1.7302000522613525, 1.729699969291687, 1.729599952697754, 1.7252999544143677, 1.7201000452041626, 1.729200005531311, 1.7131999731063843, 1.6943000555038452, 1.7069000005722046, 1.6913000345230103, 1.695199966430664, 1.6985000371932983, 1.6967999935150146, 1.6719000339508057, 1.4429999589920044, 1.3776999711990356, 1.4443000555038452, 0.08869999647140503, 1.2545000314712524, 1.0295000076293945, 0.05260000005364418, 0.7450000047683716, 0.67330002784729, -0.15189999341964722, 0.33799999952316284, 0.38260000944137573, -0.09759999811649323, -0.18320000171661377, 0.02019999921321869, -0.05350000038743019, 0.01360000018030405, -0.08829999715089798, 0.05510000139474869, -0.005400000140070915, -0.33799999952316284, -0.10540000349283218, -0.2484000027179718, -0.11630000174045563, 0.02979999966919422, 0.2761000096797943, -0.36230000853538513, 0.06700000166893005, -0.7925999760627747, 4.542399883270264, 4.5406999588012695, 4.540599822998047, 4.5395002365112305, 4.538099765777588, 4.536399841308594, 4.532599925994873, 4.531199932098389, 4.529600143432617, 4.526299953460693, 4.5254998207092285, 4.52269983291626, 4.517899990081787, 4.516900062561035, 4.514999866485596, 4.514699935913086, 4.511300086975098, 4.507800102233887, 4.505099773406982, 4.504300117492676, 4.5005998611450195, 4.49970006942749, 4.499000072479248, 4.499000072479248, 4.493899822235107, 4.493500232696533, 4.492700099945068, 4.491499900817871, 4.486199855804443, 4.48330020904541, 4.207699775695801, 4.183899879455566, 4.060699939727783, 3.7300000190734863, 4.154799938201904, 3.7969000339508057, 4.01200008392334, 3.6470999717712402, 2.643199920654297, 3.4623000621795654, 1.6196999549865723, 2.0924999713897705, 3.8046998977661133, 2.689199924468994, 5.177599906921387, 5.17609977722168, 5.168300151824951, 5.167600154876709, 5.166100025177002, 5.164000034332275, 5.162199974060059, 5.161499977111816, 5.160799980163574, 5.15880012512207, 5.15339994430542, 5.1468000411987305, 5.138800144195557, 5.132900238037109, 5.130499839782715, 5.128699779510498, 5.128600120544434, 5.123899936676025, 5.121699810028076, 5.1097002029418945, 5.109499931335449, 5.107800006866455, 5.1066999435424805, 5.106500148773193, 5.104100227355957, 5.103000164031982, 5.098299980163574, 5.09630012512207, 5.09499979019165, 5.09250020980835, 5.092400074005127, 5.082799911499023, 4.541900157928467, 4.683499813079834, 4.350299835205078, 4.53000020980835, 4.1707000732421875, 3.2476999759674072]}, \"token.table\": {\"Topic\": [1, 2, 3, 4, 1, 2, 3, 1, 2, 3, 2, 4, 3, 1, 2, 3, 3, 3, 3, 1, 2, 3, 4, 4, 4, 2, 5, 1, 2, 3, 1, 3, 2, 3, 1, 5, 5, 3, 5, 3, 1, 3, 4, 1, 2, 1, 1, 2, 3, 4, 1, 4, 1, 2, 3, 2, 3, 1, 2, 3, 2, 4, 1, 4, 4, 2, 4, 1, 3, 1, 2, 3, 3, 4, 2, 1, 2, 1, 3, 2, 3, 1, 1, 4, 2, 1, 2, 5, 1, 3, 4, 1, 1, 2, 3, 4, 1, 2, 1, 3, 2, 3, 2, 3, 1, 2, 3, 4, 1, 2, 3, 1, 2, 3, 2, 5, 5, 1, 2, 3, 5, 1, 2, 3, 4, 3, 1, 2, 3, 1, 2, 3, 4, 1, 2, 3, 2, 2, 4, 5, 2, 4, 1, 2, 3, 1, 2, 3, 5, 1, 2, 3, 1, 2, 3, 3, 1, 2, 3, 5, 4, 2, 1, 2, 3, 2, 5, 2, 5, 1, 2, 3, 4, 2, 2, 3, 4, 1, 1, 2, 3, 4, 2, 1, 3, 4, 4, 1, 2, 1, 2, 3, 5, 2, 1, 4, 3, 1, 1, 1, 2, 3, 1, 2, 3, 4, 4, 4, 1, 5, 1, 2, 3, 4, 1, 2, 3, 1, 2, 3, 1, 2, 3, 1, 2, 3, 1, 2, 3, 1, 2, 3, 1, 2, 3, 3, 2, 3, 4, 5, 1, 1, 2, 3, 1, 2, 3, 4, 3, 2, 4, 1, 3, 1, 3, 5, 1, 2, 3, 1, 2, 3, 1, 2, 3, 4, 1, 2, 4, 5, 1, 3, 1, 2, 3, 5, 5, 1, 1, 2, 3, 1, 2, 3, 1, 2, 3, 5, 2, 5, 1, 2, 3, 1, 3, 4, 1, 2, 3, 3, 1, 2, 3, 1, 2, 3, 1, 2, 5, 2, 1, 2, 3, 2, 3, 5, 2, 1, 2, 3, 1, 2, 2, 2, 4, 5, 1, 2, 1, 2, 3, 1, 2, 3, 5, 3, 3, 3, 1, 1, 1, 1, 2, 3, 1, 2, 3, 1, 2, 3, 5, 1, 2, 1, 4, 1, 5, 3, 1, 5, 1, 3, 2, 3, 1, 2, 2, 3, 3, 2, 3, 3, 1, 2, 5, 2, 2, 1, 2, 3, 1, 2, 3, 2, 3, 1, 3, 4, 1, 3, 4, 1, 2, 4, 1, 2, 3, 3, 1, 1, 2, 3, 2, 3, 1, 2, 3, 1, 2, 3, 2, 5, 1, 2, 1, 2, 3, 2, 3, 1, 3, 1, 2, 3, 4, 1, 2, 1, 2, 3, 5, 1, 3, 5, 5, 1, 2, 3, 4, 3, 2, 3, 3, 1, 2, 3, 1, 2, 3, 1, 2, 3, 5, 3, 2, 1, 2, 3, 1, 2, 1, 3, 1, 1, 2, 1, 2, 3, 1, 2, 3, 1, 2, 3, 1, 3, 5, 5, 5, 4, 1, 2, 3, 1, 2, 3, 4], \"Freq\": [0.6032119393348694, 0.018210172653198242, 0.3710322678089142, 0.007587571628391743, 0.7509381175041199, 0.1757514774799347, 0.07349607348442078, 0.7944919466972351, 0.061207085847854614, 0.14521680772304535, 0.9945757389068604, 0.959831714630127, 0.9985570311546326, 0.1724414825439453, 0.8264573812484741, 0.9965588450431824, 0.9937561750411987, 0.9903286695480347, 0.9973138570785522, 0.26713767647743225, 0.3952173888683319, 0.2524999976158142, 0.08416666090488434, 0.923575758934021, 0.928284227848053, 0.37510958313941956, 0.579714834690094, 0.8039717078208923, 0.017263196408748627, 0.1783863604068756, 0.014751370064914227, 0.9846539497375488, 0.9334558844566345, 0.062230393290519714, 0.9968991279602051, 0.9734950661659241, 0.863966166973114, 0.9948673248291016, 0.9258246421813965, 0.9900305271148682, 0.4275883734226227, 0.08551767468452454, 0.48460015654563904, 0.9209335446357727, 0.07855021953582764, 0.9931321144104004, 0.2603059709072113, 0.525023877620697, 0.15000681579113007, 0.06617948412895203, 0.9976111054420471, 0.9841520190238953, 0.639936625957489, 0.28025639057159424, 0.07969123125076294, 0.9977458715438843, 0.9906383156776428, 0.0050839390605688095, 0.8829107284545898, 0.11184665560722351, 0.3163868486881256, 0.6644123792648315, 0.3785485327243805, 0.6151413917541504, 0.9695477485656738, 0.9912313222885132, 0.9826014637947083, 0.9897803068161011, 0.00532139977440238, 0.555779755115509, 0.3167293071746826, 0.1277942657470703, 0.9972891807556152, 0.9530766606330872, 0.9977274537086487, 0.9969624876976013, 0.9955193400382996, 0.9956205487251282, 0.9981613755226135, 0.026747623458504677, 0.9718303084373474, 0.9949839115142822, 0.9924089908599854, 0.9824526309967041, 0.9898476004600525, 0.0983632430434227, 0.9004020094871521, 0.9349672198295593, 0.9903354048728943, 0.9587251543998718, 0.03444521501660347, 0.9976999759674072, 0.9958164095878601, 0.1959264576435089, 0.1959264576435089, 0.5877793431282043, 0.9974471926689148, 0.995377779006958, 0.9870766401290894, 0.010906924493610859, 0.04498936980962753, 0.9544172883033752, 0.011209622025489807, 0.9876922965049744, 0.6556082367897034, 0.2401389330625534, 0.10415664315223694, 0.936191201210022, 0.6227920651435852, 0.19742687046527863, 0.1794789731502533, 0.3129598796367645, 0.0692811906337738, 0.6163637042045593, 0.9988700747489929, 0.9635835289955139, 0.9365936517715454, 0.02651108056306839, 0.9727527499198914, 0.9985175132751465, 0.8905810117721558, 0.14743416011333466, 0.3526465594768524, 0.4462871849536896, 0.053793542087078094, 0.9975587725639343, 0.5696331262588501, 0.23806723952293396, 0.19233734905719757, 0.3448600769042969, 0.521647572517395, 0.1332131028175354, 0.9913655519485474, 0.4407271444797516, 0.3007861077785492, 0.2578166723251343, 0.9969831705093384, 0.30652323365211487, 0.6860281825065613, 0.8729425668716431, 0.9961893558502197, 0.9595587849617004, 0.9160311818122864, 0.080301433801651, 0.003965503070503473, 0.7471091151237488, 0.18104632198810577, 0.07189752906560898, 0.8563404083251953, 0.6050643920898438, 0.29717087745666504, 0.09752514958381653, 0.6319364309310913, 0.24253898859024048, 0.12556080520153046, 0.9953850507736206, 0.7696333527565002, 0.09285424649715424, 0.13739408552646637, 0.8919410705566406, 0.9857742190361023, 0.9963119626045227, 0.902244508266449, 0.05121912062168121, 0.046294204890728, 0.9910442233085632, 0.9686858057975769, 0.9978440999984741, 0.8758060932159424, 0.15832208096981049, 0.6926590800285339, 0.14932650327682495, 0.9909480810165405, 0.9902070760726929, 0.2542562186717987, 0.7447504997253418, 0.9851378798484802, 0.9963076114654541, 0.9980281591415405, 0.07556713372468948, 0.49118635058403015, 0.4439568817615509, 0.9963623881340027, 0.03519093245267868, 0.6158413290977478, 0.33431386947631836, 0.959937572479248, 0.021341072395443916, 0.978640615940094, 0.8987773060798645, 0.09213408082723618, 0.009401436895132065, 0.8992154002189636, 0.9973861575126648, 0.9928933382034302, 0.9412987232208252, 0.9972925186157227, 0.9974853992462158, 0.9973238706588745, 0.00777747668325901, 0.8218200206756592, 0.17110449075698853, 0.712364673614502, 0.14424829185009003, 0.14313869178295135, 0.9957981705665588, 0.9863232970237732, 0.9707250595092773, 0.9963958263397217, 0.8851516842842102, 0.94267338514328, 0.04809558019042015, 0.009619115851819515, 0.9838960766792297, 0.15859077870845795, 0.8233504295349121, 0.018502257764339447, 0.6314609050750732, 0.2088177651166916, 0.15974308550357819, 0.24792538583278656, 0.6102778315544128, 0.14112675189971924, 0.5442067980766296, 0.20872379839420319, 0.24684685468673706, 0.19467176496982574, 0.7991389632225037, 0.00605982169508934, 0.579467236995697, 0.273870587348938, 0.14649976789951324, 0.40339764952659607, 0.551332950592041, 0.045202452689409256, 0.995409369468689, 0.995513379573822, 0.527405858039856, 0.46535807847976685, 0.9753775000572205, 0.9971804618835449, 0.07702848315238953, 0.8913295865058899, 0.031178195029497147, 0.07194951921701431, 0.8041417002677917, 0.12273741513490677, 0.9528402090072632, 0.9975789189338684, 0.9989756941795349, 0.9167179465293884, 0.02185116522014141, 0.9745619297027588, 0.03472646698355675, 0.9624192118644714, 0.8476345539093018, 0.13082176446914673, 0.8600834608078003, 0.00835032481700182, 0.7379604578018188, 0.07651449739933014, 0.1855178326368332, 0.5590298175811768, 0.2548663318157196, 0.18585029244422913, 0.9457036256790161, 0.9346166849136353, 0.06445632129907608, 0.9853633046150208, 0.9484111666679382, 0.9923795461654663, 0.992440402507782, 0.36940911412239075, 0.3982929587364197, 0.23183083534240723, 0.8880436420440674, 0.9074276685714722, 0.9903610348701477, 0.2849208414554596, 0.6123819351196289, 0.10189877450466156, 0.5831447243690491, 0.2656436860561371, 0.1512228548526764, 0.5035674571990967, 0.0027367796283215284, 0.4926203489303589, 0.9365318417549133, 0.9959131479263306, 0.9488892555236816, 0.05616514012217522, 0.8986422419548035, 0.04412975162267685, 0.05604013800621033, 0.523041307926178, 0.41096100211143494, 0.9986624717712402, 0.9932007789611816, 0.9970021843910217, 0.9988456964492798, 0.6572436690330505, 0.3108103573322296, 0.03161538019776344, 0.7754905819892883, 0.04293185472488403, 0.1815093606710434, 0.9946131110191345, 0.9918826818466187, 0.9210379123687744, 0.9920340180397034, 0.8832226991653442, 0.007360189221799374, 0.11040283739566803, 0.38400325179100037, 0.4761640429496765, 0.13824117183685303, 0.996817409992218, 0.8265437483787537, 0.040792208164930344, 0.13173876702785492, 0.2259659767150879, 0.7726578712463379, 0.994791567325592, 0.9973878860473633, 0.9719521999359131, 0.8818941712379456, 0.008554904721677303, 0.9880915284156799, 0.652700662612915, 0.1795692890882492, 0.16792486608028412, 0.6318614482879639, 0.24563901126384735, 0.12262849509716034, 0.9648944735527039, 0.9917908310890198, 0.9981822371482849, 0.9968979358673096, 0.9991779327392578, 0.9963477849960327, 0.9945028424263, 0.6480550765991211, 0.19096405804157257, 0.16111469268798828, 0.5991584658622742, 0.28153228759765625, 0.11883217096328735, 0.2197594791650772, 0.0824098065495491, 0.6980594992637634, 0.8351510763168335, 0.8769099116325378, 0.12353695929050446, 0.2757765054702759, 0.7137744426727295, 0.6373889446258545, 0.35853126645088196, 0.9964101910591125, 0.9956203699111938, 0.8930286765098572, 0.9947636723518372, 0.004233037121593952, 0.06243017688393593, 0.9364526867866516, 0.10027864575386047, 0.8997976183891296, 0.03873031213879585, 0.9605116844177246, 0.9963729977607727, 0.041661929339170456, 0.958224356174469, 0.998278021812439, 0.5634049773216248, 0.013102441094815731, 0.4192781150341034, 0.9906249046325684, 0.9965530633926392, 0.5425372123718262, 0.11235521733760834, 0.3447612226009369, 0.2842264771461487, 0.5405337810516357, 0.17483818531036377, 0.9886256456375122, 0.0062177712097764015, 0.8190068602561951, 0.02730022743344307, 0.15470129251480103, 0.9361503720283508, 0.06295748054981232, 0.9412283897399902, 0.006690630689263344, 0.9902133345603943, 0.9500707983970642, 0.4914020299911499, 0.372591108083725, 0.1359197199344635, 0.997876763343811, 0.9950997829437256, 0.35683271288871765, 0.5625636577606201, 0.0802001878619194, 0.9479660987854004, 0.048120107501745224, 0.7518924474716187, 0.10976532101631165, 0.13781645894050598, 0.7927091717720032, 0.09641057997941971, 0.11047045141458511, 0.998051643371582, 0.9376909732818604, 0.9875440001487732, 0.011970230378210545, 0.5720803141593933, 0.2608768343925476, 0.16672837734222412, 0.9982134699821472, 0.9941950440406799, 0.989477813243866, 0.9982649087905884, 0.6524503827095032, 0.27848491072654724, 0.06895817071199417, 0.9113491177558899, 0.9880845546722412, 0.008705590851604939, 0.5358980298042297, 0.4039846956729889, 0.060288529843091965, 0.9600194692611694, 0.02188456989824772, 0.46687081456184387, 0.5106399655342102, 0.8976985216140747, 0.7285723686218262, 0.080952487885952, 0.040476243942976, 0.14672638475894928, 0.9939315915107727, 0.252698689699173, 0.7473428845405579, 0.9935015439987183, 0.9137213826179504, 0.010324534960091114, 0.07485288381576538, 0.7490956783294678, 0.11678551137447357, 0.13346916437149048, 0.5803476572036743, 0.3472946882247925, 0.07197225093841553, 0.9816334843635559, 0.9910839796066284, 0.9927504658699036, 0.652383029460907, 0.1890081763267517, 0.15852297842502594, 0.2737409174442291, 0.7260810732841492, 0.9938769340515137, 0.00397550780326128, 0.9968482255935669, 0.32775431871414185, 0.6723452806472778, 0.5651502013206482, 0.37716466188430786, 0.057887617498636246, 0.16319258511066437, 0.5406448245048523, 0.29641103744506836, 0.5952308177947998, 0.24823728203773499, 0.15666331350803375, 0.4366854131221771, 0.05458567664027214, 0.5185639262199402, 0.9528192281723022, 0.9288549423217773, 0.951740026473999, 0.38076773285865784, 0.4308045208454132, 0.18794305622577667, 0.20261992514133453, 0.6546182632446289, 0.14267320930957794, 0.9223542809486389], \"Term\": [\"action\", \"action\", \"action\", \"action\", \"actor\", \"actor\", \"actor\", \"actually\", \"actually\", \"actually\", \"adam\", \"alain\", \"alien\", \"american\", \"american\", \"anaconda\", \"animate\", \"animation\", \"ape\", \"art\", \"art\", \"art\", \"art\", \"artagnan\", \"asian\", \"austin\", \"austin\", \"bad\", \"bad\", \"bad\", \"batman\", \"batman\", \"beautiful\", \"beautiful\", \"ben\", \"besson\", \"bischoff\", \"blade\", \"brothel\", \"bug\", \"butcher\", \"butcher\", \"butcher\", \"car\", \"car\", \"carrey\", \"carry\", \"carry\", \"carry\", \"carry\", \"cash\", \"chan\", \"character\", \"character\", \"character\", \"charlie\", \"cheesy\", \"child\", \"child\", \"child\", \"china\", \"china\", \"chinese\", \"chinese\", \"chow\", \"cindy\", \"claude\", \"cliche\", \"cliche\", \"come\", \"come\", \"come\", \"computer\", \"condor\", \"conflict\", \"cop\", \"country\", \"crap\", \"creature\", \"crew\", \"crew\", \"crime\", \"criminal\", \"damme\", \"daniel\", \"daughter\", \"daughter\", \"deedles\", \"detective\", \"disney\", \"disney\", \"door\", \"double\", \"dragon\", \"dragon\", \"dragon\", \"drug\", \"dude\", \"dumb\", \"dumb\", \"earth\", \"earth\", \"effect\", \"effect\", \"end\", \"end\", \"end\", \"estella\", \"even\", \"even\", \"even\", \"evil\", \"evil\", \"evil\", \"family\", \"farrelly\", \"farrellys\", \"father\", \"father\", \"fi\", \"fichtner\", \"fight\", \"fight\", \"fight\", \"fight\", \"file\", \"film\", \"film\", \"film\", \"find\", \"find\", \"find\", \"finn\", \"first\", \"first\", \"first\", \"fish\", \"flubber\", \"flubber\", \"flynt\", \"frank\", \"fu\", \"funny\", \"funny\", \"funny\", \"get\", \"get\", \"get\", \"gilbert\", \"give\", \"give\", \"give\", \"go\", \"go\", \"go\", \"godzilla\", \"good\", \"good\", \"good\", \"gordie\", \"granger\", \"grant\", \"guy\", \"guy\", \"guy\", \"hank\", \"harrelson\", \"harry\", \"hedwig\", \"home\", \"home\", \"home\", \"hong\", \"horse\", \"human\", \"human\", \"jackie\", \"jackson\", \"jay\", \"jean\", \"jean\", \"jean\", \"jeff\", \"jet\", \"jet\", \"jet\", \"jia\", \"joe\", \"joe\", \"joke\", \"joke\", \"joke\", \"jovovich\", \"julia\", \"julie\", \"juliet\", \"jungle\", \"kevin\", \"killer\", \"king\", \"king\", \"king\", \"know\", \"know\", \"know\", \"kong\", \"krippendorf\", \"kung\", \"l\", \"lacrosse\", \"lee\", \"lee\", \"lee\", \"li\", \"life\", \"life\", \"life\", \"like\", \"like\", \"like\", \"live\", \"live\", \"live\", \"look\", \"look\", \"look\", \"love\", \"love\", \"love\", \"make\", \"make\", \"make\", \"man\", \"man\", \"man\", \"mar\", \"marry\", \"martial\", \"martial\", \"matilda\", \"max\", \"meet\", \"meet\", \"meet\", \"men\", \"men\", \"men\", \"mena\", \"menace\", \"mike\", \"mirren\", \"mission\", \"mission\", \"monster\", \"monster\", \"montoya\", \"mother\", \"mother\", \"mother\", \"movie\", \"movie\", \"movie\", \"much\", \"much\", \"much\", \"mulan\", \"murder\", \"murder\", \"musketeer\", \"myers\", \"naked\", \"nbsp\", \"new\", \"new\", \"new\", \"nitro\", \"odette\", \"offensive\", \"old\", \"old\", \"old\", \"one\", \"one\", \"one\", \"original\", \"original\", \"original\", \"osmosis\", \"paint\", \"palmetto\", \"parent\", \"parent\", \"parent\", \"paris\", \"paris\", \"paris\", \"partner\", \"patch\", \"phantom\", \"planet\", \"play\", \"play\", \"play\", \"plot\", \"plot\", \"plot\", \"pointless\", \"political\", \"prentice\", \"president\", \"pretty\", \"pretty\", \"pretty\", \"princess\", \"princess\", \"princess\", \"private\", \"really\", \"really\", \"really\", \"relationship\", \"relationship\", \"romance\", \"romantic\", \"romeo\", \"rubell\", \"ryan\", \"ryan\", \"say\", \"say\", \"say\", \"scene\", \"scene\", \"scene\", \"schwimmer\", \"sci\", \"science\", \"scientist\", \"scream\", \"seagal\", \"sean\", \"see\", \"see\", \"see\", \"seem\", \"seem\", \"seem\", \"series\", \"series\", \"series\", \"sevigny\", \"sex\", \"sex\", \"shakespeare\", \"shakespeare\", \"shane\", \"shane\", \"ship\", \"simon\", \"sinclair\", \"smith\", \"smith\", \"soldier\", \"soldier\", \"son\", \"son\", \"space\", \"space\", \"spawn\", \"special\", \"special\", \"specie\", \"spice\", \"spice\", \"spice\", \"stage\", \"stallone\", \"star\", \"star\", \"star\", \"story\", \"story\", \"story\", \"struggle\", \"struggle\", \"stunt\", \"stunt\", \"stunt\", \"stupid\", \"stupid\", \"suvari\", \"sweet\", \"sweet\", \"taiwan\", \"take\", \"take\", \"take\", \"tarzan\", \"teen\", \"tell\", \"tell\", \"tell\", \"theme\", \"theme\", \"thing\", \"thing\", \"thing\", \"think\", \"think\", \"think\", \"thomas\", \"thrax\", \"thriller\", \"thriller\", \"time\", \"time\", \"time\", \"tom\", \"toy\", \"travolta\", \"trek\", \"try\", \"try\", \"try\", \"tsui\", \"twist\", \"twist\", \"two\", \"two\", \"two\", \"valek\", \"vampire\", \"vampire\", \"vampire\", \"vampires\", \"van\", \"van\", \"van\", \"van\", \"virus\", \"war\", \"war\", \"warrior\", \"waste\", \"waste\", \"waste\", \"watch\", \"watch\", \"watch\", \"way\", \"way\", \"way\", \"wcw\", \"webb\", \"wed\", \"well\", \"well\", \"well\", \"wife\", \"wife\", \"wild\", \"wild\", \"willis\", \"woman\", \"woman\", \"work\", \"work\", \"work\", \"world\", \"world\", \"world\", \"would\", \"would\", \"would\", \"wrestle\", \"wrestle\", \"wrestle\", \"wrestler\", \"wrestling\", \"yang\", \"year\", \"year\", \"year\", \"young\", \"young\", \"young\", \"yun\"]}, \"R\": 30, \"lambda.step\": 0.01, \"plot.opts\": {\"xlab\": \"PC1\", \"ylab\": \"PC2\"}, \"topic.order\": [5, 4, 2, 3, 1]};\n",
       "\n",
       "function LDAvis_load_lib(url, callback){\n",
       "  var s = document.createElement('script');\n",
       "  s.src = url;\n",
       "  s.async = true;\n",
       "  s.onreadystatechange = s.onload = callback;\n",
       "  s.onerror = function(){console.warn(\"failed to load library \" + url);};\n",
       "  document.getElementsByTagName(\"head\")[0].appendChild(s);\n",
       "}\n",
       "\n",
       "if(typeof(LDAvis) !== \"undefined\"){\n",
       "   // already loaded: just create the visualization\n",
       "   !function(LDAvis){\n",
       "       new LDAvis(\"#\" + \"ldavis_el1686018015641616081772499522\", ldavis_el1686018015641616081772499522_data);\n",
       "   }(LDAvis);\n",
       "}else if(typeof define === \"function\" && define.amd){\n",
       "   // require.js is available: use it to load d3/LDAvis\n",
       "   require.config({paths: {d3: \"https://cdnjs.cloudflare.com/ajax/libs/d3/3.5.5/d3.min\"}});\n",
       "   require([\"d3\"], function(d3){\n",
       "      window.d3 = d3;\n",
       "      LDAvis_load_lib(\"https://cdn.rawgit.com/bmabey/pyLDAvis/files/ldavis.v1.0.0.js\", function(){\n",
       "        new LDAvis(\"#\" + \"ldavis_el1686018015641616081772499522\", ldavis_el1686018015641616081772499522_data);\n",
       "      });\n",
       "    });\n",
       "}else{\n",
       "    // require.js not available: dynamically load d3 & LDAvis\n",
       "    LDAvis_load_lib(\"https://cdnjs.cloudflare.com/ajax/libs/d3/3.5.5/d3.min.js\", function(){\n",
       "         LDAvis_load_lib(\"https://cdn.rawgit.com/bmabey/pyLDAvis/files/ldavis.v1.0.0.js\", function(){\n",
       "                 new LDAvis(\"#\" + \"ldavis_el1686018015641616081772499522\", ldavis_el1686018015641616081772499522_data);\n",
       "            })\n",
       "         });\n",
       "}\n",
       "</script>"
      ],
      "text/plain": [
       "PreparedData(topic_coordinates=              x         y  topics  cluster       Freq\n",
       "topic                                                \n",
       "4      0.220115 -0.009626       1        1  45.340611\n",
       "3      0.147892 -0.140794       2        1  35.456848\n",
       "1      0.152878  0.150628       3        1  17.600794\n",
       "2     -0.267457  0.009918       4        1   1.054616\n",
       "0     -0.253428 -0.010126       5        1   0.547137, topic_info=          Term          Freq         Total Category  logprob  loglift\n",
       "423      movie   7541.000000   7541.000000  Default  30.0000  30.0000\n",
       "698     effect    802.000000    802.000000  Default  29.0000  29.0000\n",
       "97        film  10299.000000  10299.000000  Default  28.0000  28.0000\n",
       "1683    action   1317.000000   1317.000000  Default  27.0000  27.0000\n",
       "979      fight    501.000000    501.000000  Default  26.0000  26.0000\n",
       "...        ...           ...           ...      ...      ...      ...\n",
       "4347    austin     17.351841     29.324764   Topic5  -5.4004   4.6835\n",
       "2257     spice     32.361893     76.321655   Topic5  -4.7771   4.3503\n",
       "7515   wrestle     18.595762     36.639648   Topic5  -5.3312   4.5300\n",
       "6670     shane      8.894868     25.102413   Topic5  -6.0686   4.1707\n",
       "5851  princess      9.165619     65.103615   Topic5  -6.0386   3.2477\n",
       "\n",
       "[343 rows x 6 columns], token_table=       Topic      Freq    Term\n",
       "term                          \n",
       "1683       1  0.603212  action\n",
       "1683       2  0.018210  action\n",
       "1683       3  0.371032  action\n",
       "1683       4  0.007588  action\n",
       "621        1  0.750938   actor\n",
       "...      ...       ...     ...\n",
       "504        3  0.187943    year\n",
       "921        1  0.202620   young\n",
       "921        2  0.654618   young\n",
       "921        3  0.142673   young\n",
       "17542      4  0.922354     yun\n",
       "\n",
       "[487 rows x 3 columns], R=30, lambda_step=0.01, plot_opts={'xlab': 'PC1', 'ylab': 'PC2'}, topic_order=[5, 4, 2, 3, 1])"
      ]
     },
     "execution_count": 24,
     "metadata": {},
     "output_type": "execute_result"
    }
   ],
   "source": [
    "# Visualize the topics\n",
    "pyLDAvis.enable_notebook()\n",
    "vis = pyLDAvis.gensim.prepare(lda_model, corpus, id2word)\n",
    "vis"
   ]
  },
  {
   "cell_type": "markdown",
   "metadata": {},
   "source": [
    "### How to find the optimal number of topics for LDA?"
   ]
  },
  {
   "cell_type": "code",
   "execution_count": 25,
   "metadata": {},
   "outputs": [],
   "source": [
    "def compute_coherence_values(dictionary, corpus, texts, limit, start=2, step=3):\n",
    "  \n",
    "    coherence_values = []\n",
    "    model_list = []\n",
    "    for num_topics in range(start, limit, step):\n",
    "        model=LdaModel(corpus=corpus, id2word=dictionary, num_topics=num_topics)\n",
    "        model_list.append(model)\n",
    "        coherencemodel = CoherenceModel(model=model, texts=texts, dictionary=dictionary, coherence='c_v')\n",
    "        coherence_values.append(coherencemodel.get_coherence())\n",
    "\n",
    "    return model_list, coherence_values"
   ]
  },
  {
   "cell_type": "code",
   "execution_count": 26,
   "metadata": {},
   "outputs": [
    {
     "data": {
      "image/png": "[encoded data removed]",
      "text/plain": [
       "<Figure size 432x288 with 1 Axes>"
      ]
     },
     "metadata": {
      "needs_background": "light"
     },
     "output_type": "display_data"
    }
   ],
   "source": [
    "model_list, coherence_values = compute_coherence_values(dictionary=id2word, corpus=corpus, texts=df['lemma'], start=2, limit=40, step=6)\n",
    "# Show graph\n",
    "import matplotlib.pyplot as plt\n",
    "limit=40; start=2; step=6;\n",
    "x = range(start, limit, step)\n",
    "plt.plot(x, coherence_values)\n",
    "plt.xlabel(\"Num Topics\")\n",
    "plt.ylabel(\"Coherence score\")\n",
    "plt.legend((\"coherence_values\"), loc='best')\n",
    "plt.show()"
   ]
  },
  {
   "cell_type": "code",
   "execution_count": 27,
   "metadata": {},
   "outputs": [
    {
     "name": "stdout",
     "output_type": "stream",
     "text": [
      "Num Topics = 2  has Coherence Value of 0.269\n",
      "Num Topics = 8  has Coherence Value of 0.2698\n",
      "Num Topics = 14  has Coherence Value of 0.2713\n",
      "Num Topics = 20  has Coherence Value of 0.2698\n",
      "Num Topics = 26  has Coherence Value of 0.2674\n",
      "Num Topics = 32  has Coherence Value of 0.2683\n",
      "Num Topics = 38  has Coherence Value of 0.2699\n"
     ]
    }
   ],
   "source": [
    "# Print the coherence scores\n",
    "for m, cv in zip(x, coherence_values):\n",
    "    print(\"Num Topics =\", m, \" has Coherence Value of\", round(cv, 4))"
   ]
  },
  {
   "cell_type": "markdown",
   "metadata": {},
   "source": [
    "### Finding the dominant topic in each sentence <br>\n",
    "We find the topic number that has the highest percentage contribution in that document."
   ]
  },
  {
   "cell_type": "code",
   "execution_count": 28,
   "metadata": {},
   "outputs": [
    {
     "data": {
      "text/html": [
       "<div>\n",
       "<style scoped>\n",
       "    .dataframe tbody tr th:only-of-type {\n",
       "        vertical-align: middle;\n",
       "    }\n",
       "\n",
       "    .dataframe tbody tr th {\n",
       "        vertical-align: top;\n",
       "    }\n",
       "\n",
       "    .dataframe thead th {\n",
       "        text-align: right;\n",
       "    }\n",
       "</style>\n",
       "<table border=\"1\" class=\"dataframe\">\n",
       "  <thead>\n",
       "    <tr style=\"text-align: right;\">\n",
       "      <th></th>\n",
       "      <th>Document_No</th>\n",
       "      <th>Dominant_Topic</th>\n",
       "      <th>Topic_Perc_Contrib</th>\n",
       "      <th>Keywords</th>\n",
       "      <th>Text</th>\n",
       "    </tr>\n",
       "  </thead>\n",
       "  <tbody>\n",
       "    <tr>\n",
       "      <th>0</th>\n",
       "      <td>0</td>\n",
       "      <td>4.0</td>\n",
       "      <td>0.5660</td>\n",
       "      <td>film, one, movie, make, go, get, see, time, li...</td>\n",
       "      <td>film adapt comic book plenty success whether s...</td>\n",
       "    </tr>\n",
       "    <tr>\n",
       "      <th>1</th>\n",
       "      <td>1</td>\n",
       "      <td>7.0</td>\n",
       "      <td>0.4182</td>\n",
       "      <td>film, one, movie, character, get, make, time, ...</td>\n",
       "      <td>every movie come along suspect studio every in...</td>\n",
       "    </tr>\n",
       "    <tr>\n",
       "      <th>2</th>\n",
       "      <td>2</td>\n",
       "      <td>16.0</td>\n",
       "      <td>0.3659</td>\n",
       "      <td>movie, film, one, make, character, even, story...</td>\n",
       "      <td>get mail work alot good deserves order make fi...</td>\n",
       "    </tr>\n",
       "    <tr>\n",
       "      <th>3</th>\n",
       "      <td>3</td>\n",
       "      <td>3.0</td>\n",
       "      <td>0.2482</td>\n",
       "      <td>film, movie, get, go, one, good, even, see, wo...</td>\n",
       "      <td>jaw rare film grab attention show single image...</td>\n",
       "    </tr>\n",
       "    <tr>\n",
       "      <th>4</th>\n",
       "      <td>4</td>\n",
       "      <td>11.0</td>\n",
       "      <td>0.9974</td>\n",
       "      <td>film, one, movie, like, character, get, make, ...</td>\n",
       "      <td>moviemaking lot like general manager nfl team ...</td>\n",
       "    </tr>\n",
       "    <tr>\n",
       "      <th>5</th>\n",
       "      <td>5</td>\n",
       "      <td>3.0</td>\n",
       "      <td>0.7576</td>\n",
       "      <td>film, movie, get, go, one, good, even, see, wo...</td>\n",
       "      <td>june self teach idealistic yet pragmatic young...</td>\n",
       "    </tr>\n",
       "    <tr>\n",
       "      <th>6</th>\n",
       "      <td>6</td>\n",
       "      <td>10.0</td>\n",
       "      <td>0.5744</td>\n",
       "      <td>film, character, one, make, movie, get, like, ...</td>\n",
       "      <td>apparently director tony kaye major battle new...</td>\n",
       "    </tr>\n",
       "    <tr>\n",
       "      <th>7</th>\n",
       "      <td>7</td>\n",
       "      <td>7.0</td>\n",
       "      <td>0.9862</td>\n",
       "      <td>film, one, movie, character, get, make, time, ...</td>\n",
       "      <td>one colleague surprise told willing see betsy ...</td>\n",
       "    </tr>\n",
       "    <tr>\n",
       "      <th>8</th>\n",
       "      <td>8</td>\n",
       "      <td>17.0</td>\n",
       "      <td>0.9939</td>\n",
       "      <td>film, one, make, like, movie, character, time,...</td>\n",
       "      <td>bloody clash independence lumumba refuse pande...</td>\n",
       "    </tr>\n",
       "    <tr>\n",
       "      <th>9</th>\n",
       "      <td>9</td>\n",
       "      <td>11.0</td>\n",
       "      <td>0.9807</td>\n",
       "      <td>film, one, movie, like, character, get, make, ...</td>\n",
       "      <td>american action film slowly drown death sea as...</td>\n",
       "    </tr>\n",
       "  </tbody>\n",
       "</table>\n",
       "</div>"
      ],
      "text/plain": [
       "   Document_No  Dominant_Topic  Topic_Perc_Contrib  \\\n",
       "0            0             4.0              0.5660   \n",
       "1            1             7.0              0.4182   \n",
       "2            2            16.0              0.3659   \n",
       "3            3             3.0              0.2482   \n",
       "4            4            11.0              0.9974   \n",
       "5            5             3.0              0.7576   \n",
       "6            6            10.0              0.5744   \n",
       "7            7             7.0              0.9862   \n",
       "8            8            17.0              0.9939   \n",
       "9            9            11.0              0.9807   \n",
       "\n",
       "                                            Keywords  \\\n",
       "0  film, one, movie, make, go, get, see, time, li...   \n",
       "1  film, one, movie, character, get, make, time, ...   \n",
       "2  movie, film, one, make, character, even, story...   \n",
       "3  film, movie, get, go, one, good, even, see, wo...   \n",
       "4  film, one, movie, like, character, get, make, ...   \n",
       "5  film, movie, get, go, one, good, even, see, wo...   \n",
       "6  film, character, one, make, movie, get, like, ...   \n",
       "7  film, one, movie, character, get, make, time, ...   \n",
       "8  film, one, make, like, movie, character, time,...   \n",
       "9  film, one, movie, like, character, get, make, ...   \n",
       "\n",
       "                                                Text  \n",
       "0  film adapt comic book plenty success whether s...  \n",
       "1  every movie come along suspect studio every in...  \n",
       "2  get mail work alot good deserves order make fi...  \n",
       "3  jaw rare film grab attention show single image...  \n",
       "4  moviemaking lot like general manager nfl team ...  \n",
       "5  june self teach idealistic yet pragmatic young...  \n",
       "6  apparently director tony kaye major battle new...  \n",
       "7  one colleague surprise told willing see betsy ...  \n",
       "8  bloody clash independence lumumba refuse pande...  \n",
       "9  american action film slowly drown death sea as...  "
      ]
     },
     "execution_count": 28,
     "metadata": {},
     "output_type": "execute_result"
    }
   ],
   "source": [
    "data=df['text']\n",
    "optimal_model = model_list[3]\n",
    "# Convert to list\n",
    "data = list(df['lemma2'])\n",
    "def format_topics_sentences(ldamodel=lda_model, corpus=corpus, texts=data):\n",
    "    # Init output\n",
    "    sent_topics_df = pd.DataFrame()\n",
    "\n",
    "    # Get main topic in each document\n",
    "    for i, row in enumerate(ldamodel[corpus]):\n",
    "        row = sorted(row, key=lambda x: (x[1]), reverse=True)\n",
    "        # Get the Dominant topic, Perc Contribution and Keywords for each document\n",
    "        for j, (topic_num, prop_topic) in enumerate(row):\n",
    "            if j == 0:  # => dominant topic\n",
    "                wp = ldamodel.show_topic(topic_num)\n",
    "                topic_keywords = \", \".join([word for word, prop in wp])\n",
    "                sent_topics_df = sent_topics_df.append(pd.Series([int(topic_num), round(prop_topic,4), topic_keywords]), ignore_index=True)\n",
    "            else:\n",
    "                break\n",
    "    sent_topics_df.columns = ['Dominant_Topic', 'Perc_Contribution', 'Topic_Keywords']\n",
    "\n",
    "    # Add original text to the end of the output\n",
    "    contents = pd.Series(texts)\n",
    "    sent_topics_df = pd.concat([sent_topics_df, contents], axis=1)\n",
    "    return(sent_topics_df)\n",
    "\n",
    "\n",
    "df_topic_sents_keywords = format_topics_sentences(ldamodel=optimal_model, corpus=corpus, texts=data)\n",
    "\n",
    "# Format\n",
    "df_dominant_topic = df_topic_sents_keywords.reset_index()\n",
    "df_dominant_topic.columns = ['Document_No', 'Dominant_Topic', 'Topic_Perc_Contrib', 'Keywords', 'Text']\n",
    "\n",
    "# Show\n",
    "df_dominant_topic.head(10)"
   ]
  },
  {
   "cell_type": "markdown",
   "metadata": {},
   "source": [
    "### Find the most representative document for each topic <br>\n",
    "Sometimes just the topic keywords may not be enough to make sense of what a topic is about. So, to help with understanding the topic, we can find the documents a given topic has contributed to the most and infer the topic by reading that document. "
   ]
  },
  {
   "cell_type": "code",
   "execution_count": 29,
   "metadata": {},
   "outputs": [
    {
     "data": {
      "text/html": [
       "<div>\n",
       "<style scoped>\n",
       "    .dataframe tbody tr th:only-of-type {\n",
       "        vertical-align: middle;\n",
       "    }\n",
       "\n",
       "    .dataframe tbody tr th {\n",
       "        vertical-align: top;\n",
       "    }\n",
       "\n",
       "    .dataframe thead th {\n",
       "        text-align: right;\n",
       "    }\n",
       "</style>\n",
       "<table border=\"1\" class=\"dataframe\">\n",
       "  <thead>\n",
       "    <tr style=\"text-align: right;\">\n",
       "      <th></th>\n",
       "      <th>Topic_Num</th>\n",
       "      <th>Topic_Perc_Contrib</th>\n",
       "      <th>Keywords</th>\n",
       "      <th>Text</th>\n",
       "    </tr>\n",
       "  </thead>\n",
       "  <tbody>\n",
       "    <tr>\n",
       "      <th>0</th>\n",
       "      <td>0.0</td>\n",
       "      <td>0.9983</td>\n",
       "      <td>film, one, movie, make, character, like, good,...</td>\n",
       "      <td>stand moment one soon forget giant green ogre ...</td>\n",
       "    </tr>\n",
       "    <tr>\n",
       "      <th>1</th>\n",
       "      <td>1.0</td>\n",
       "      <td>0.9958</td>\n",
       "      <td>film, one, movie, character, like, make, get, ...</td>\n",
       "      <td>summer one racially charge novel john grisham ...</td>\n",
       "    </tr>\n",
       "    <tr>\n",
       "      <th>2</th>\n",
       "      <td>2.0</td>\n",
       "      <td>0.9976</td>\n",
       "      <td>film, one, make, movie, character, like, go, g...</td>\n",
       "      <td>naturally core leon gast king fight fight than...</td>\n",
       "    </tr>\n",
       "    <tr>\n",
       "      <th>3</th>\n",
       "      <td>3.0</td>\n",
       "      <td>0.9981</td>\n",
       "      <td>film, movie, get, go, one, good, even, see, wo...</td>\n",
       "      <td>martin scorsese film use intimidate reputation...</td>\n",
       "    </tr>\n",
       "    <tr>\n",
       "      <th>4</th>\n",
       "      <td>4.0</td>\n",
       "      <td>0.9975</td>\n",
       "      <td>film, one, movie, make, go, get, see, time, li...</td>\n",
       "      <td>claus von bulow try kill wife sunny newport ma...</td>\n",
       "    </tr>\n",
       "    <tr>\n",
       "      <th>5</th>\n",
       "      <td>5.0</td>\n",
       "      <td>0.9974</td>\n",
       "      <td>film, one, movie, get, make, like, see, go, sc...</td>\n",
       "      <td>set harlem great depression rival gangster fam...</td>\n",
       "    </tr>\n",
       "    <tr>\n",
       "      <th>6</th>\n",
       "      <td>6.0</td>\n",
       "      <td>0.6947</td>\n",
       "      <td>film, one, movie, good, get, see, also, like, ...</td>\n",
       "      <td>see decent sport movie struggle break free oli...</td>\n",
       "    </tr>\n",
       "    <tr>\n",
       "      <th>7</th>\n",
       "      <td>7.0</td>\n",
       "      <td>0.9985</td>\n",
       "      <td>film, one, movie, character, get, make, time, ...</td>\n",
       "      <td>get love disney matter serve guarantee success...</td>\n",
       "    </tr>\n",
       "    <tr>\n",
       "      <th>8</th>\n",
       "      <td>8.0</td>\n",
       "      <td>0.9982</td>\n",
       "      <td>movie, film, like, see, make, one, even, much,...</td>\n",
       "      <td>inner flag half mast last year nick nite pulle...</td>\n",
       "    </tr>\n",
       "    <tr>\n",
       "      <th>9</th>\n",
       "      <td>9.0</td>\n",
       "      <td>0.9974</td>\n",
       "      <td>movie, one, get, film, like, make, see, story,...</td>\n",
       "      <td>ingredient lose parrot try get home friend syn...</td>\n",
       "    </tr>\n",
       "    <tr>\n",
       "      <th>10</th>\n",
       "      <td>10.0</td>\n",
       "      <td>0.9983</td>\n",
       "      <td>film, character, one, make, movie, get, like, ...</td>\n",
       "      <td>pre review note see concern body shot sex forc...</td>\n",
       "    </tr>\n",
       "    <tr>\n",
       "      <th>11</th>\n",
       "      <td>11.0</td>\n",
       "      <td>0.9978</td>\n",
       "      <td>film, one, movie, like, character, get, make, ...</td>\n",
       "      <td>titanic close perfect movie upsetting film cos...</td>\n",
       "    </tr>\n",
       "    <tr>\n",
       "      <th>12</th>\n",
       "      <td>12.0</td>\n",
       "      <td>0.9946</td>\n",
       "      <td>movie, film, one, make, character, like, time,...</td>\n",
       "      <td>synopsis bobby garfield yelchin live small tow...</td>\n",
       "    </tr>\n",
       "    <tr>\n",
       "      <th>13</th>\n",
       "      <td>13.0</td>\n",
       "      <td>0.9986</td>\n",
       "      <td>film, movie, like, one, make, get, character, ...</td>\n",
       "      <td>let start say lead release late bond film real...</td>\n",
       "    </tr>\n",
       "    <tr>\n",
       "      <th>14</th>\n",
       "      <td>14.0</td>\n",
       "      <td>0.9978</td>\n",
       "      <td>film, movie, one, see, like, make, get, charac...</td>\n",
       "      <td>meteor threat set blow away volcanoes twister ...</td>\n",
       "    </tr>\n",
       "    <tr>\n",
       "      <th>15</th>\n",
       "      <td>15.0</td>\n",
       "      <td>0.9972</td>\n",
       "      <td>film, one, movie, like, get, make, character, ...</td>\n",
       "      <td>perhaps dramatic change motion picture industr...</td>\n",
       "    </tr>\n",
       "    <tr>\n",
       "      <th>16</th>\n",
       "      <td>16.0</td>\n",
       "      <td>0.9982</td>\n",
       "      <td>movie, film, one, make, character, even, story...</td>\n",
       "      <td>major league baseball radio broadcast featurin...</td>\n",
       "    </tr>\n",
       "    <tr>\n",
       "      <th>17</th>\n",
       "      <td>17.0</td>\n",
       "      <td>0.9962</td>\n",
       "      <td>film, one, make, like, movie, character, time,...</td>\n",
       "      <td>modern audience likely familiar le misirables ...</td>\n",
       "    </tr>\n",
       "    <tr>\n",
       "      <th>18</th>\n",
       "      <td>18.0</td>\n",
       "      <td>0.9980</td>\n",
       "      <td>film, one, movie, character, like, make, good,...</td>\n",
       "      <td>plot young recruit get pluck nowhere number on...</td>\n",
       "    </tr>\n",
       "    <tr>\n",
       "      <th>19</th>\n",
       "      <td>19.0</td>\n",
       "      <td>0.9987</td>\n",
       "      <td>movie, one, film, make, scene, character, like...</td>\n",
       "      <td>star armand assante mike hammer barbara carrer...</td>\n",
       "    </tr>\n",
       "  </tbody>\n",
       "</table>\n",
       "</div>"
      ],
      "text/plain": [
       "    Topic_Num  Topic_Perc_Contrib  \\\n",
       "0         0.0              0.9983   \n",
       "1         1.0              0.9958   \n",
       "2         2.0              0.9976   \n",
       "3         3.0              0.9981   \n",
       "4         4.0              0.9975   \n",
       "5         5.0              0.9974   \n",
       "6         6.0              0.6947   \n",
       "7         7.0              0.9985   \n",
       "8         8.0              0.9982   \n",
       "9         9.0              0.9974   \n",
       "10       10.0              0.9983   \n",
       "11       11.0              0.9978   \n",
       "12       12.0              0.9946   \n",
       "13       13.0              0.9986   \n",
       "14       14.0              0.9978   \n",
       "15       15.0              0.9972   \n",
       "16       16.0              0.9982   \n",
       "17       17.0              0.9962   \n",
       "18       18.0              0.9980   \n",
       "19       19.0              0.9987   \n",
       "\n",
       "                                             Keywords  \\\n",
       "0   film, one, movie, make, character, like, good,...   \n",
       "1   film, one, movie, character, like, make, get, ...   \n",
       "2   film, one, make, movie, character, like, go, g...   \n",
       "3   film, movie, get, go, one, good, even, see, wo...   \n",
       "4   film, one, movie, make, go, get, see, time, li...   \n",
       "5   film, one, movie, get, make, like, see, go, sc...   \n",
       "6   film, one, movie, good, get, see, also, like, ...   \n",
       "7   film, one, movie, character, get, make, time, ...   \n",
       "8   movie, film, like, see, make, one, even, much,...   \n",
       "9   movie, one, get, film, like, make, see, story,...   \n",
       "10  film, character, one, make, movie, get, like, ...   \n",
       "11  film, one, movie, like, character, get, make, ...   \n",
       "12  movie, film, one, make, character, like, time,...   \n",
       "13  film, movie, like, one, make, get, character, ...   \n",
       "14  film, movie, one, see, like, make, get, charac...   \n",
       "15  film, one, movie, like, get, make, character, ...   \n",
       "16  movie, film, one, make, character, even, story...   \n",
       "17  film, one, make, like, movie, character, time,...   \n",
       "18  film, one, movie, character, like, make, good,...   \n",
       "19  movie, one, film, make, scene, character, like...   \n",
       "\n",
       "                                                 Text  \n",
       "0   stand moment one soon forget giant green ogre ...  \n",
       "1   summer one racially charge novel john grisham ...  \n",
       "2   naturally core leon gast king fight fight than...  \n",
       "3   martin scorsese film use intimidate reputation...  \n",
       "4   claus von bulow try kill wife sunny newport ma...  \n",
       "5   set harlem great depression rival gangster fam...  \n",
       "6   see decent sport movie struggle break free oli...  \n",
       "7   get love disney matter serve guarantee success...  \n",
       "8   inner flag half mast last year nick nite pulle...  \n",
       "9   ingredient lose parrot try get home friend syn...  \n",
       "10  pre review note see concern body shot sex forc...  \n",
       "11  titanic close perfect movie upsetting film cos...  \n",
       "12  synopsis bobby garfield yelchin live small tow...  \n",
       "13  let start say lead release late bond film real...  \n",
       "14  meteor threat set blow away volcanoes twister ...  \n",
       "15  perhaps dramatic change motion picture industr...  \n",
       "16  major league baseball radio broadcast featurin...  \n",
       "17  modern audience likely familiar le misirables ...  \n",
       "18  plot young recruit get pluck nowhere number on...  \n",
       "19  star armand assante mike hammer barbara carrer...  "
      ]
     },
     "execution_count": 29,
     "metadata": {},
     "output_type": "execute_result"
    }
   ],
   "source": [
    "# Group top 5 sentences under each topic\n",
    "sent_topics_sorteddf_mallet = pd.DataFrame()\n",
    "\n",
    "sent_topics_outdf_grpd = df_topic_sents_keywords.groupby('Dominant_Topic')\n",
    "\n",
    "for i, grp in sent_topics_outdf_grpd:\n",
    "    sent_topics_sorteddf_mallet = pd.concat([sent_topics_sorteddf_mallet, \n",
    "                                             grp.sort_values(['Perc_Contribution'], ascending=[0]).head(1)], axis=0)\n",
    "\n",
    "# Reset Index    \n",
    "sent_topics_sorteddf_mallet.reset_index(drop=True, inplace=True)\n",
    "\n",
    "# Format\n",
    "sent_topics_sorteddf_mallet.columns = ['Topic_Num', \"Topic_Perc_Contrib\", \"Keywords\", \"Text\"]\n",
    "\n",
    "# Show\n",
    "sent_topics_sorteddf_mallet"
   ]
  },
  {
   "cell_type": "markdown",
   "metadata": {},
   "source": [
    "The tabular output above actually has 20 rows, one each for a topic. It has the topic number, the keywords, and the most representative document. The Perc_Contribution column is nothing but the percentage contribution of the topic in the given document."
   ]
  },
  {
   "cell_type": "markdown",
   "metadata": {},
   "source": [
    "### Topic distribution across documents"
   ]
  },
  {
   "cell_type": "code",
   "execution_count": 64,
   "metadata": {},
   "outputs": [
    {
     "data": {
      "text/html": [
       "<div>\n",
       "<style scoped>\n",
       "    .dataframe tbody tr th:only-of-type {\n",
       "        vertical-align: middle;\n",
       "    }\n",
       "\n",
       "    .dataframe tbody tr th {\n",
       "        vertical-align: top;\n",
       "    }\n",
       "\n",
       "    .dataframe thead th {\n",
       "        text-align: right;\n",
       "    }\n",
       "</style>\n",
       "<table border=\"1\" class=\"dataframe\">\n",
       "  <thead>\n",
       "    <tr style=\"text-align: right;\">\n",
       "      <th></th>\n",
       "      <th>Dominant_Topic</th>\n",
       "      <th>Topic_Keywords</th>\n",
       "      <th>Num_Documents</th>\n",
       "      <th>Perc_Documents</th>\n",
       "    </tr>\n",
       "  </thead>\n",
       "  <tbody>\n",
       "    <tr>\n",
       "      <th>0.0</th>\n",
       "      <td>4.0</td>\n",
       "      <td>film, one, movie, make, go, get, see, time, li...</td>\n",
       "      <td>67.0</td>\n",
       "      <td>0.0335</td>\n",
       "    </tr>\n",
       "    <tr>\n",
       "      <th>1.0</th>\n",
       "      <td>7.0</td>\n",
       "      <td>film, one, movie, character, get, make, time, ...</td>\n",
       "      <td>37.0</td>\n",
       "      <td>0.0185</td>\n",
       "    </tr>\n",
       "    <tr>\n",
       "      <th>2.0</th>\n",
       "      <td>16.0</td>\n",
       "      <td>movie, film, one, make, character, even, story...</td>\n",
       "      <td>41.0</td>\n",
       "      <td>0.0205</td>\n",
       "    </tr>\n",
       "    <tr>\n",
       "      <th>3.0</th>\n",
       "      <td>3.0</td>\n",
       "      <td>film, movie, get, go, one, good, even, see, wo...</td>\n",
       "      <td>84.0</td>\n",
       "      <td>0.0420</td>\n",
       "    </tr>\n",
       "    <tr>\n",
       "      <th>4.0</th>\n",
       "      <td>11.0</td>\n",
       "      <td>film, one, movie, like, character, get, make, ...</td>\n",
       "      <td>68.0</td>\n",
       "      <td>0.0340</td>\n",
       "    </tr>\n",
       "    <tr>\n",
       "      <th>5.0</th>\n",
       "      <td>3.0</td>\n",
       "      <td>film, movie, get, go, one, good, even, see, wo...</td>\n",
       "      <td>18.0</td>\n",
       "      <td>0.0090</td>\n",
       "    </tr>\n",
       "    <tr>\n",
       "      <th>6.0</th>\n",
       "      <td>10.0</td>\n",
       "      <td>film, character, one, make, movie, get, like, ...</td>\n",
       "      <td>6.0</td>\n",
       "      <td>0.0030</td>\n",
       "    </tr>\n",
       "    <tr>\n",
       "      <th>7.0</th>\n",
       "      <td>7.0</td>\n",
       "      <td>film, one, movie, character, get, make, time, ...</td>\n",
       "      <td>149.0</td>\n",
       "      <td>0.0745</td>\n",
       "    </tr>\n",
       "    <tr>\n",
       "      <th>8.0</th>\n",
       "      <td>17.0</td>\n",
       "      <td>film, one, make, like, movie, character, time,...</td>\n",
       "      <td>140.0</td>\n",
       "      <td>0.0700</td>\n",
       "    </tr>\n",
       "    <tr>\n",
       "      <th>9.0</th>\n",
       "      <td>11.0</td>\n",
       "      <td>film, one, movie, like, character, get, make, ...</td>\n",
       "      <td>31.0</td>\n",
       "      <td>0.0155</td>\n",
       "    </tr>\n",
       "  </tbody>\n",
       "</table>\n",
       "</div>"
      ],
      "text/plain": [
       "     Dominant_Topic                                     Topic_Keywords  \\\n",
       "0.0             4.0  film, one, movie, make, go, get, see, time, li...   \n",
       "1.0             7.0  film, one, movie, character, get, make, time, ...   \n",
       "2.0            16.0  movie, film, one, make, character, even, story...   \n",
       "3.0             3.0  film, movie, get, go, one, good, even, see, wo...   \n",
       "4.0            11.0  film, one, movie, like, character, get, make, ...   \n",
       "5.0             3.0  film, movie, get, go, one, good, even, see, wo...   \n",
       "6.0            10.0  film, character, one, make, movie, get, like, ...   \n",
       "7.0             7.0  film, one, movie, character, get, make, time, ...   \n",
       "8.0            17.0  film, one, make, like, movie, character, time,...   \n",
       "9.0            11.0  film, one, movie, like, character, get, make, ...   \n",
       "\n",
       "     Num_Documents  Perc_Documents  \n",
       "0.0           67.0          0.0335  \n",
       "1.0           37.0          0.0185  \n",
       "2.0           41.0          0.0205  \n",
       "3.0           84.0          0.0420  \n",
       "4.0           68.0          0.0340  \n",
       "5.0           18.0          0.0090  \n",
       "6.0            6.0          0.0030  \n",
       "7.0          149.0          0.0745  \n",
       "8.0          140.0          0.0700  \n",
       "9.0           31.0          0.0155  "
      ]
     },
     "execution_count": 64,
     "metadata": {},
     "output_type": "execute_result"
    }
   ],
   "source": [
    "# Number of Documents for Each Topic\n",
    "topic_counts = df_topic_sents_keywords['Dominant_Topic'].value_counts()\n",
    "\n",
    "# Percentage of Documents for Each Topic\n",
    "topic_contribution = round(topic_counts/topic_counts.sum(), 4)\n",
    "\n",
    "# Topic Number and Keywords\n",
    "topic_num_keywords = df_topic_sents_keywords[['Dominant_Topic', 'Topic_Keywords']]\n",
    "\n",
    "# Concatenate Column wise\n",
    "df_dominant_topics = pd.concat([topic_num_keywords, topic_counts, topic_contribution], axis=1)\n",
    "\n",
    "# Change Column names\n",
    "df_dominant_topics.columns = ['Dominant_Topic', 'Topic_Keywords', 'Num_Documents', 'Perc_Documents']\n",
    "\n",
    "# Show\n",
    "#df_dominant_topics.sort_values(by=['Dominant_Topic'], inplace=True)\n",
    "df_dominant_topics.head(10)"
   ]
  },
  {
   "cell_type": "markdown",
   "metadata": {},
   "source": [
    "### Frequency Distribution of Word Counts in Documents <br>\n",
    "When working with a large number of documents, we want to know how big the documents are as a whole and by topic. Let’s plot the document word counts distribution."
   ]
  },
  {
   "cell_type": "code",
   "execution_count": 68,
   "metadata": {},
   "outputs": [
    {
     "name": "stdout",
     "output_type": "stream",
     "text": [
      "Mean   : 2355.0\n",
      "Median : 2182.0\n",
      "Stdev   : 1035.0\n",
      "1%ile    : 703.0\n",
      "99%ile  : 5574.0\n"
     ]
    },
    {
     "data": {
      "image/png": "[encoded data removed]",
      "text/plain": [
       "<Figure size 640x320 with 1 Axes>"
      ]
     },
     "metadata": {
      "needs_background": "light"
     },
     "output_type": "display_data"
    }
   ],
   "source": [
    "doc_lens = [len(d) for d in df_dominant_topic.Text]\n",
    "\n",
    "# Plot\n",
    "plt.figure(figsize=(4,2), dpi=160)\n",
    "plt.hist(doc_lens, bins = 1000, color='navy')\n",
    "print( \"Mean   : \" + str(round(np.mean(doc_lens))))\n",
    "print( \"Median : \" + str(round(np.median(doc_lens))))\n",
    "print(  \"Stdev   : \" + str(round(np.std(doc_lens))))\n",
    "print( \"1%ile    : \" + str(round(np.quantile(doc_lens, q=0.01))))\n",
    "print( \"99%ile  : \" + str(round(np.quantile(doc_lens, q=0.99))))\n",
    "\n",
    "plt.gca().set(xlim=(0, 1000), ylabel='Number of Documents', xlabel='Document Word Count')\n",
    "plt.tick_params(size=8)\n",
    "plt.xticks(np.linspace(0,1000,10))\n",
    "plt.title('Distribution of Document Word Counts', fontdict=dict(size=8))\n",
    "plt.show()"
   ]
  },
  {
   "cell_type": "markdown",
   "metadata": {},
   "source": [
    "Refrences:<br>\n",
    "1.https://www.machinelearningplus.com/nlp/topic-modeling-gensim-python/ <br>\n",
    "2.https://datascienceplus.com/evaluation-of-topic-modeling-topic-coherence/ <br>\n",
    "3.https://www.machinelearningplus.com/nlp/topic-modeling-visualization-how-to-present-results-lda-models/"
   ]
  },
  {
   "cell_type": "code",
   "execution_count": null,
   "metadata": {},
   "outputs": [],
   "source": []
  }
 ],
 "metadata": {
  "kernelspec": {
   "display_name": "Python 3",
   "language": "python",
   "name": "python3"
  },
  "language_info": {
   "codemirror_mode": {
    "name": "ipython",
    "version": 3
   },
   "file_extension": ".py",
   "mimetype": "text/x-python",
   "name": "python",
   "nbconvert_exporter": "python",
   "pygments_lexer": "ipython3",
   "version": "3.7.6"
  }
 },
 "nbformat": 4,
 "nbformat_minor": 4
}
