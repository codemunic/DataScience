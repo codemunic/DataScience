{
 "cells": [
  {
   "cell_type": "markdown",
   "metadata": {},
   "source": [
    "## Movie Review Analysis using Word2Vec"
   ]
  },
  {
   "cell_type": "markdown",
   "metadata": {},
   "source": [
    "<a href='https://www.youtube.com/c/ShashiSAS'> <img src='word2vec_flow.jpg' class=\"center\"></a>"
   ]
  },
  {
   "cell_type": "raw",
   "metadata": {},
   "source": [
    "#install pandas,matplotlib,numpy,nltk,gensim,scikit-learn,bokeh package\n",
    "#!pip install pandas\n",
    "#!pip install matplotlib\n",
    "#!pip install numpy\n",
    "#!pip install nltk\n",
    "#!pip install gensim\n",
    "#!pip install scikit-learn\n",
    "#!pip install bokeh\n",
    "#!pip install tensorflow\n",
    "#!pip install keras"
   ]
  },
  {
   "cell_type": "code",
   "execution_count": null,
   "metadata": {},
   "outputs": [],
   "source": [
    "#Import Data \n",
    "import pandas as pd\n",
    "df = pd.read_csv('movie-Review.csv')"
   ]
  },
  {
   "cell_type": "code",
   "execution_count": 3,
   "metadata": {},
   "outputs": [],
   "source": [
    "import numpy as np\n",
    "np.random.seed(500)"
   ]
  },
  {
   "cell_type": "code",
   "execution_count": 4,
   "metadata": {},
   "outputs": [
    {
     "name": "stdout",
     "output_type": "stream",
     "text": [
      "       text\n",
      "class      \n",
      "Neg    1000\n",
      "Pos    1000\n"
     ]
    },
    {
     "data": {
      "image/png": "[encoded data removed]",
      "text/plain": [
       "<Figure size 432x288 with 1 Axes>"
      ]
     },
     "metadata": {
      "needs_background": "light"
     },
     "output_type": "display_data"
    }
   ],
   "source": [
    "class_count=df.groupby('class').count()\n",
    "print(class_count)\n",
    "import matplotlib.pyplot as plt\n",
    "plt.bar(class_count.index.values, class_count['text'])\n",
    "plt.xlabel('Review Sentiments')\n",
    "plt.ylabel('Number of Review')\n",
    "plt.show()"
   ]
  },
  {
   "cell_type": "code",
   "execution_count": 5,
   "metadata": {},
   "outputs": [
    {
     "data": {
      "text/html": [
       "<div>\n",
       "<style scoped>\n",
       "    .dataframe tbody tr th:only-of-type {\n",
       "        vertical-align: middle;\n",
       "    }\n",
       "\n",
       "    .dataframe tbody tr th {\n",
       "        vertical-align: top;\n",
       "    }\n",
       "\n",
       "    .dataframe thead th {\n",
       "        text-align: right;\n",
       "    }\n",
       "</style>\n",
       "<table border=\"1\" class=\"dataframe\">\n",
       "  <thead>\n",
       "    <tr style=\"text-align: right;\">\n",
       "      <th></th>\n",
       "      <th>class</th>\n",
       "      <th>text</th>\n",
       "    </tr>\n",
       "  </thead>\n",
       "  <tbody>\n",
       "    <tr>\n",
       "      <th>0</th>\n",
       "      <td>Pos</td>\n",
       "      <td>films adapted from comic books have had plent...</td>\n",
       "    </tr>\n",
       "    <tr>\n",
       "      <th>1</th>\n",
       "      <td>Pos</td>\n",
       "      <td>every now and then a movie comes along from a...</td>\n",
       "    </tr>\n",
       "    <tr>\n",
       "      <th>2</th>\n",
       "      <td>Pos</td>\n",
       "      <td>you ve got mail works alot better than it des...</td>\n",
       "    </tr>\n",
       "    <tr>\n",
       "      <th>3</th>\n",
       "      <td>Pos</td>\n",
       "      <td>jaws   is a rare film that grabs your atte...</td>\n",
       "    </tr>\n",
       "    <tr>\n",
       "      <th>4</th>\n",
       "      <td>Pos</td>\n",
       "      <td>moviemaking is a lot like being the general m...</td>\n",
       "    </tr>\n",
       "    <tr>\n",
       "      <th>5</th>\n",
       "      <td>Pos</td>\n",
       "      <td>on june       a self taught   idealistic   ye...</td>\n",
       "    </tr>\n",
       "    <tr>\n",
       "      <th>6</th>\n",
       "      <td>Pos</td>\n",
       "      <td>apparently   director tony kaye had a major b...</td>\n",
       "    </tr>\n",
       "    <tr>\n",
       "      <th>7</th>\n",
       "      <td>Pos</td>\n",
       "      <td>one of my colleagues was surprised when i tol...</td>\n",
       "    </tr>\n",
       "    <tr>\n",
       "      <th>8</th>\n",
       "      <td>Pos</td>\n",
       "      <td>after bloody clashes and independence won   l...</td>\n",
       "    </tr>\n",
       "    <tr>\n",
       "      <th>9</th>\n",
       "      <td>Pos</td>\n",
       "      <td>the american action film has been slowly drow...</td>\n",
       "    </tr>\n",
       "  </tbody>\n",
       "</table>\n",
       "</div>"
      ],
      "text/plain": [
       "  class                                               text\n",
       "0   Pos   films adapted from comic books have had plent...\n",
       "1   Pos   every now and then a movie comes along from a...\n",
       "2   Pos   you ve got mail works alot better than it des...\n",
       "3   Pos      jaws   is a rare film that grabs your atte...\n",
       "4   Pos   moviemaking is a lot like being the general m...\n",
       "5   Pos   on june       a self taught   idealistic   ye...\n",
       "6   Pos   apparently   director tony kaye had a major b...\n",
       "7   Pos   one of my colleagues was surprised when i tol...\n",
       "8   Pos   after bloody clashes and independence won   l...\n",
       "9   Pos   the american action film has been slowly drow..."
      ]
     },
     "execution_count": 5,
     "metadata": {},
     "output_type": "execute_result"
    }
   ],
   "source": [
    "#Remove number\n",
    "import re # import all Regular expression functions\n",
    "df['text']=[re.sub('\\d','', i)for i in df['text']]\n",
    "df.head(10)"
   ]
  },
  {
   "cell_type": "code",
   "execution_count": 6,
   "metadata": {},
   "outputs": [
    {
     "data": {
      "text/html": [
       "<div>\n",
       "<style scoped>\n",
       "    .dataframe tbody tr th:only-of-type {\n",
       "        vertical-align: middle;\n",
       "    }\n",
       "\n",
       "    .dataframe tbody tr th {\n",
       "        vertical-align: top;\n",
       "    }\n",
       "\n",
       "    .dataframe thead th {\n",
       "        text-align: right;\n",
       "    }\n",
       "</style>\n",
       "<table border=\"1\" class=\"dataframe\">\n",
       "  <thead>\n",
       "    <tr style=\"text-align: right;\">\n",
       "      <th></th>\n",
       "      <th>class</th>\n",
       "      <th>text</th>\n",
       "    </tr>\n",
       "  </thead>\n",
       "  <tbody>\n",
       "    <tr>\n",
       "      <th>0</th>\n",
       "      <td>Pos</td>\n",
       "      <td>films adapted from comic books have had plent...</td>\n",
       "    </tr>\n",
       "    <tr>\n",
       "      <th>1</th>\n",
       "      <td>Pos</td>\n",
       "      <td>every now and then a movie comes along from a...</td>\n",
       "    </tr>\n",
       "    <tr>\n",
       "      <th>2</th>\n",
       "      <td>Pos</td>\n",
       "      <td>you ve got mail works alot better than it des...</td>\n",
       "    </tr>\n",
       "    <tr>\n",
       "      <th>3</th>\n",
       "      <td>Pos</td>\n",
       "      <td>jaws   is a rare film that grabs your atte...</td>\n",
       "    </tr>\n",
       "    <tr>\n",
       "      <th>4</th>\n",
       "      <td>Pos</td>\n",
       "      <td>moviemaking is a lot like being the general m...</td>\n",
       "    </tr>\n",
       "    <tr>\n",
       "      <th>5</th>\n",
       "      <td>Pos</td>\n",
       "      <td>on june       a self taught   idealistic   ye...</td>\n",
       "    </tr>\n",
       "    <tr>\n",
       "      <th>6</th>\n",
       "      <td>Pos</td>\n",
       "      <td>apparently   director tony kaye had a major b...</td>\n",
       "    </tr>\n",
       "    <tr>\n",
       "      <th>7</th>\n",
       "      <td>Pos</td>\n",
       "      <td>one of my colleagues was surprised when i tol...</td>\n",
       "    </tr>\n",
       "    <tr>\n",
       "      <th>8</th>\n",
       "      <td>Pos</td>\n",
       "      <td>after bloody clashes and independence won   l...</td>\n",
       "    </tr>\n",
       "    <tr>\n",
       "      <th>9</th>\n",
       "      <td>Pos</td>\n",
       "      <td>the american action film has been slowly drow...</td>\n",
       "    </tr>\n",
       "  </tbody>\n",
       "</table>\n",
       "</div>"
      ],
      "text/plain": [
       "  class                                               text\n",
       "0   Pos   films adapted from comic books have had plent...\n",
       "1   Pos   every now and then a movie comes along from a...\n",
       "2   Pos   you ve got mail works alot better than it des...\n",
       "3   Pos      jaws   is a rare film that grabs your atte...\n",
       "4   Pos   moviemaking is a lot like being the general m...\n",
       "5   Pos   on june       a self taught   idealistic   ye...\n",
       "6   Pos   apparently   director tony kaye had a major b...\n",
       "7   Pos   one of my colleagues was surprised when i tol...\n",
       "8   Pos   after bloody clashes and independence won   l...\n",
       "9   Pos   the american action film has been slowly drow..."
      ]
     },
     "execution_count": 6,
     "metadata": {},
     "output_type": "execute_result"
    }
   ],
   "source": [
    "# Replace punctuations with a white space\n",
    "import string\n",
    "df['text']=[re.sub('[%s]' % re.escape(string.punctuation), ' ', i) for i in df['text']]\n",
    "df.head(10)"
   ]
  },
  {
   "cell_type": "code",
   "execution_count": 7,
   "metadata": {},
   "outputs": [],
   "source": [
    "#Convert into in lower case\n",
    "df['text']=[i.lower() for i in df['text']]"
   ]
  },
  {
   "cell_type": "code",
   "execution_count": 8,
   "metadata": {},
   "outputs": [
    {
     "data": {
      "text/html": [
       "<div>\n",
       "<style scoped>\n",
       "    .dataframe tbody tr th:only-of-type {\n",
       "        vertical-align: middle;\n",
       "    }\n",
       "\n",
       "    .dataframe tbody tr th {\n",
       "        vertical-align: top;\n",
       "    }\n",
       "\n",
       "    .dataframe thead th {\n",
       "        text-align: right;\n",
       "    }\n",
       "</style>\n",
       "<table border=\"1\" class=\"dataframe\">\n",
       "  <thead>\n",
       "    <tr style=\"text-align: right;\">\n",
       "      <th></th>\n",
       "      <th>class</th>\n",
       "      <th>text</th>\n",
       "      <th>text_wt</th>\n",
       "    </tr>\n",
       "  </thead>\n",
       "  <tbody>\n",
       "    <tr>\n",
       "      <th>0</th>\n",
       "      <td>Pos</td>\n",
       "      <td>films adapted from comic books have had plent...</td>\n",
       "      <td>[films, adapted, from, comic, books, have, had...</td>\n",
       "    </tr>\n",
       "    <tr>\n",
       "      <th>1</th>\n",
       "      <td>Pos</td>\n",
       "      <td>every now and then a movie comes along from a...</td>\n",
       "      <td>[every, now, and, then, a, movie, comes, along...</td>\n",
       "    </tr>\n",
       "    <tr>\n",
       "      <th>2</th>\n",
       "      <td>Pos</td>\n",
       "      <td>you ve got mail works alot better than it des...</td>\n",
       "      <td>[you, ve, got, mail, works, alot, better, than...</td>\n",
       "    </tr>\n",
       "    <tr>\n",
       "      <th>3</th>\n",
       "      <td>Pos</td>\n",
       "      <td>jaws   is a rare film that grabs your atte...</td>\n",
       "      <td>[jaws, is, a, rare, film, that, grabs, your, a...</td>\n",
       "    </tr>\n",
       "    <tr>\n",
       "      <th>4</th>\n",
       "      <td>Pos</td>\n",
       "      <td>moviemaking is a lot like being the general m...</td>\n",
       "      <td>[moviemaking, is, a, lot, like, being, the, ge...</td>\n",
       "    </tr>\n",
       "  </tbody>\n",
       "</table>\n",
       "</div>"
      ],
      "text/plain": [
       "  class                                               text  \\\n",
       "0   Pos   films adapted from comic books have had plent...   \n",
       "1   Pos   every now and then a movie comes along from a...   \n",
       "2   Pos   you ve got mail works alot better than it des...   \n",
       "3   Pos      jaws   is a rare film that grabs your atte...   \n",
       "4   Pos   moviemaking is a lot like being the general m...   \n",
       "\n",
       "                                             text_wt  \n",
       "0  [films, adapted, from, comic, books, have, had...  \n",
       "1  [every, now, and, then, a, movie, comes, along...  \n",
       "2  [you, ve, got, mail, works, alot, better, than...  \n",
       "3  [jaws, is, a, rare, film, that, grabs, your, a...  \n",
       "4  [moviemaking, is, a, lot, like, being, the, ge...  "
      ]
     },
     "execution_count": 8,
     "metadata": {},
     "output_type": "execute_result"
    }
   ],
   "source": [
    "# import pandas as pd \n",
    "import pandas as pd \n",
    "#Word Tokenization\n",
    "import nltk # import package for tokenization\n",
    "#nltk.download('punkt') # download all spporting function /files for NLTK package\n",
    "from nltk.tokenize import word_tokenize\n",
    "df['text_wt'] = [word_tokenize(i) for i in df['text']]\n",
    "df.head()"
   ]
  },
  {
   "cell_type": "code",
   "execution_count": 9,
   "metadata": {},
   "outputs": [
    {
     "data": {
      "text/html": [
       "<div>\n",
       "<style scoped>\n",
       "    .dataframe tbody tr th:only-of-type {\n",
       "        vertical-align: middle;\n",
       "    }\n",
       "\n",
       "    .dataframe tbody tr th {\n",
       "        vertical-align: top;\n",
       "    }\n",
       "\n",
       "    .dataframe thead th {\n",
       "        text-align: right;\n",
       "    }\n",
       "</style>\n",
       "<table border=\"1\" class=\"dataframe\">\n",
       "  <thead>\n",
       "    <tr style=\"text-align: right;\">\n",
       "      <th></th>\n",
       "      <th>class</th>\n",
       "      <th>text</th>\n",
       "      <th>text_wt</th>\n",
       "      <th>text_SW</th>\n",
       "    </tr>\n",
       "  </thead>\n",
       "  <tbody>\n",
       "    <tr>\n",
       "      <th>0</th>\n",
       "      <td>Pos</td>\n",
       "      <td>films adapted from comic books have had plent...</td>\n",
       "      <td>[films, adapted, from, comic, books, have, had...</td>\n",
       "      <td>[films, adapted, comic, books, plenty, success...</td>\n",
       "    </tr>\n",
       "    <tr>\n",
       "      <th>1</th>\n",
       "      <td>Pos</td>\n",
       "      <td>every now and then a movie comes along from a...</td>\n",
       "      <td>[every, now, and, then, a, movie, comes, along...</td>\n",
       "      <td>[every, movie, comes, along, suspect, studio, ...</td>\n",
       "    </tr>\n",
       "    <tr>\n",
       "      <th>2</th>\n",
       "      <td>Pos</td>\n",
       "      <td>you ve got mail works alot better than it des...</td>\n",
       "      <td>[you, ve, got, mail, works, alot, better, than...</td>\n",
       "      <td>[got, mail, works, alot, better, deserves, ord...</td>\n",
       "    </tr>\n",
       "    <tr>\n",
       "      <th>3</th>\n",
       "      <td>Pos</td>\n",
       "      <td>jaws   is a rare film that grabs your atte...</td>\n",
       "      <td>[jaws, is, a, rare, film, that, grabs, your, a...</td>\n",
       "      <td>[jaws, rare, film, grabs, attention, shows, si...</td>\n",
       "    </tr>\n",
       "    <tr>\n",
       "      <th>4</th>\n",
       "      <td>Pos</td>\n",
       "      <td>moviemaking is a lot like being the general m...</td>\n",
       "      <td>[moviemaking, is, a, lot, like, being, the, ge...</td>\n",
       "      <td>[moviemaking, lot, like, general, manager, nfl...</td>\n",
       "    </tr>\n",
       "  </tbody>\n",
       "</table>\n",
       "</div>"
      ],
      "text/plain": [
       "  class                                               text  \\\n",
       "0   Pos   films adapted from comic books have had plent...   \n",
       "1   Pos   every now and then a movie comes along from a...   \n",
       "2   Pos   you ve got mail works alot better than it des...   \n",
       "3   Pos      jaws   is a rare film that grabs your atte...   \n",
       "4   Pos   moviemaking is a lot like being the general m...   \n",
       "\n",
       "                                             text_wt  \\\n",
       "0  [films, adapted, from, comic, books, have, had...   \n",
       "1  [every, now, and, then, a, movie, comes, along...   \n",
       "2  [you, ve, got, mail, works, alot, better, than...   \n",
       "3  [jaws, is, a, rare, film, that, grabs, your, a...   \n",
       "4  [moviemaking, is, a, lot, like, being, the, ge...   \n",
       "\n",
       "                                             text_SW  \n",
       "0  [films, adapted, comic, books, plenty, success...  \n",
       "1  [every, movie, comes, along, suspect, studio, ...  \n",
       "2  [got, mail, works, alot, better, deserves, ord...  \n",
       "3  [jaws, rare, film, grabs, attention, shows, si...  \n",
       "4  [moviemaking, lot, like, general, manager, nfl...  "
      ]
     },
     "execution_count": 9,
     "metadata": {},
     "output_type": "execute_result"
    }
   ],
   "source": [
    "#To show the stop words\n",
    "#nltk.download('stopwords') #download Stopwords\n",
    "from nltk.corpus import stopwords\n",
    "stop_words = set(stopwords.words('english'))\n",
    "#Remove All Stop Word\n",
    "df['text_SW'] = [[i for i in j if not i in stop_words] for j in df['text_wt']]# remove the word which is aviable in stopword libr\n",
    "df.head()"
   ]
  },
  {
   "cell_type": "code",
   "execution_count": 10,
   "metadata": {},
   "outputs": [],
   "source": [
    "#nltk.download('tagsets')\n",
    "#nltk.help.upenn_tagset()# tagset documentation\n",
    "#nltk.download('wordnet')\n",
    "from collections import defaultdict #Default Dictionary is imported from collections\n",
    "from nltk.corpus import wordnet as wn #the corpus reader wordnet is imported.\n",
    "from nltk.tag import pos_tag\n",
    "# WordNetLemmatizer requires Pos tags to understand if the word is noun or verb or adjective etc. \n",
    "#By default it is set to Noun\n",
    "tag_map = defaultdict(lambda : wn.NOUN) #Dictionary is created where pos_tag (first letter) are the key values \n",
    "tag_map['J'] = wn.ADJ                   #whose values are mapped with the value \n",
    "tag_map['V'] = wn.VERB                  #from wordnet dictionary. We have taken the only first letter as \n",
    "tag_map['R'] = wn.ADV\n",
    "# we will use it later in the loop.\n",
    "#tag_map"
   ]
  },
  {
   "cell_type": "code",
   "execution_count": 11,
   "metadata": {},
   "outputs": [
    {
     "data": {
      "text/html": [
       "<div>\n",
       "<style scoped>\n",
       "    .dataframe tbody tr th:only-of-type {\n",
       "        vertical-align: middle;\n",
       "    }\n",
       "\n",
       "    .dataframe tbody tr th {\n",
       "        vertical-align: top;\n",
       "    }\n",
       "\n",
       "    .dataframe thead th {\n",
       "        text-align: right;\n",
       "    }\n",
       "</style>\n",
       "<table border=\"1\" class=\"dataframe\">\n",
       "  <thead>\n",
       "    <tr style=\"text-align: right;\">\n",
       "      <th></th>\n",
       "      <th>class</th>\n",
       "      <th>text</th>\n",
       "      <th>text_wt</th>\n",
       "      <th>text_SW</th>\n",
       "      <th>lemma</th>\n",
       "    </tr>\n",
       "  </thead>\n",
       "  <tbody>\n",
       "    <tr>\n",
       "      <th>0</th>\n",
       "      <td>Pos</td>\n",
       "      <td>films adapted from comic books have had plent...</td>\n",
       "      <td>[films, adapted, from, comic, books, have, had...</td>\n",
       "      <td>[films, adapted, comic, books, plenty, success...</td>\n",
       "      <td>[film, adapt, comic, book, plenty, success, wh...</td>\n",
       "    </tr>\n",
       "    <tr>\n",
       "      <th>1</th>\n",
       "      <td>Pos</td>\n",
       "      <td>every now and then a movie comes along from a...</td>\n",
       "      <td>[every, now, and, then, a, movie, comes, along...</td>\n",
       "      <td>[every, movie, comes, along, suspect, studio, ...</td>\n",
       "      <td>[every, movie, come, along, suspect, studio, e...</td>\n",
       "    </tr>\n",
       "    <tr>\n",
       "      <th>2</th>\n",
       "      <td>Pos</td>\n",
       "      <td>you ve got mail works alot better than it des...</td>\n",
       "      <td>[you, ve, got, mail, works, alot, better, than...</td>\n",
       "      <td>[got, mail, works, alot, better, deserves, ord...</td>\n",
       "      <td>[get, mail, work, alot, good, deserves, order,...</td>\n",
       "    </tr>\n",
       "    <tr>\n",
       "      <th>3</th>\n",
       "      <td>Pos</td>\n",
       "      <td>jaws   is a rare film that grabs your atte...</td>\n",
       "      <td>[jaws, is, a, rare, film, that, grabs, your, a...</td>\n",
       "      <td>[jaws, rare, film, grabs, attention, shows, si...</td>\n",
       "      <td>[jaw, rare, film, grab, attention, show, singl...</td>\n",
       "    </tr>\n",
       "    <tr>\n",
       "      <th>4</th>\n",
       "      <td>Pos</td>\n",
       "      <td>moviemaking is a lot like being the general m...</td>\n",
       "      <td>[moviemaking, is, a, lot, like, being, the, ge...</td>\n",
       "      <td>[moviemaking, lot, like, general, manager, nfl...</td>\n",
       "      <td>[moviemaking, lot, like, general, manager, nfl...</td>\n",
       "    </tr>\n",
       "  </tbody>\n",
       "</table>\n",
       "</div>"
      ],
      "text/plain": [
       "  class                                               text  \\\n",
       "0   Pos   films adapted from comic books have had plent...   \n",
       "1   Pos   every now and then a movie comes along from a...   \n",
       "2   Pos   you ve got mail works alot better than it des...   \n",
       "3   Pos      jaws   is a rare film that grabs your atte...   \n",
       "4   Pos   moviemaking is a lot like being the general m...   \n",
       "\n",
       "                                             text_wt  \\\n",
       "0  [films, adapted, from, comic, books, have, had...   \n",
       "1  [every, now, and, then, a, movie, comes, along...   \n",
       "2  [you, ve, got, mail, works, alot, better, than...   \n",
       "3  [jaws, is, a, rare, film, that, grabs, your, a...   \n",
       "4  [moviemaking, is, a, lot, like, being, the, ge...   \n",
       "\n",
       "                                             text_SW  \\\n",
       "0  [films, adapted, comic, books, plenty, success...   \n",
       "1  [every, movie, comes, along, suspect, studio, ...   \n",
       "2  [got, mail, works, alot, better, deserves, ord...   \n",
       "3  [jaws, rare, film, grabs, attention, shows, si...   \n",
       "4  [moviemaking, lot, like, general, manager, nfl...   \n",
       "\n",
       "                                               lemma  \n",
       "0  [film, adapt, comic, book, plenty, success, wh...  \n",
       "1  [every, movie, come, along, suspect, studio, e...  \n",
       "2  [get, mail, work, alot, good, deserves, order,...  \n",
       "3  [jaw, rare, film, grab, attention, show, singl...  \n",
       "4  [moviemaking, lot, like, general, manager, nfl...  "
      ]
     },
     "execution_count": 11,
     "metadata": {},
     "output_type": "execute_result"
    }
   ],
   "source": [
    "#nltk.download('averaged_perceptron_tagger')\n",
    "#lemmatization\n",
    "from nltk.stem import WordNetLemmatizer \n",
    " # Initializing WordNetLemmatizer()\n",
    "lemmatizer = WordNetLemmatizer()\n",
    "\n",
    "df['lemma']=[[lemmatizer.lemmatize(word,tag_map[tag[0]]) for word ,tag in pos_tag(i)] for i in df['text_SW']] \n",
    "df.head()"
   ]
  },
  {
   "cell_type": "code",
   "execution_count": 12,
   "metadata": {},
   "outputs": [],
   "source": [
    " df['lemma2']= df['lemma'].apply(lambda x: ' '.join(x))"
   ]
  },
  {
   "cell_type": "code",
   "execution_count": 13,
   "metadata": {},
   "outputs": [
    {
     "data": {
      "text/plain": [
       "0    film adapt comic book plenty success whether s...\n",
       "1    every movie come along suspect studio every in...\n",
       "2    get mail work alot good deserves order make fi...\n",
       "3    jaw rare film grab attention show single image...\n",
       "4    moviemaking lot like general manager nfl team ...\n",
       "Name: lemma2, dtype: object"
      ]
     },
     "execution_count": 13,
     "metadata": {},
     "output_type": "execute_result"
    }
   ],
   "source": [
    "df['lemma2'].head()"
   ]
  },
  {
   "cell_type": "markdown",
   "metadata": {},
   "source": [
    "class gensim.models.word2vec.Word2Vec(sentences=None, corpus_file=None, size=100, alpha=0.025, window=5, min_count=5, max_vocab_size=None, sample=0.001, seed=1, workers=3, min_alpha=0.0001, sg=0, hs=0, negative=5, ns_exponent=0.75, cbow_mean=1, hashfxn=<built-in function hash>, iter=5, null_word=0, trim_rule=None, sorted_vocab=1, batch_words=10000, compute_loss=False, callbacks=(), max_final_vocab=None)\n",
    "    \n",
    "Min_count: It will ignore all the words with a total frequency lower than this.\n",
    "Size: It tells the dimensionality of the word vectors.\n",
    "Workers: These are the threads to train the model\n",
    "Window: Maximum distance between the current and predicted word within a sentence.\n",
    "Sg: It is a training algorithm and 1 for skip-gram and 0 for a Continuous bag of words. \n",
    "Hs: If this is 1 then we are using hierarchical softmax for training and if 0 then negative sampling is used.\n",
    "Alpha: Initial learning rate"
   ]
  },
  {
   "cell_type": "code",
   "execution_count": 14,
   "metadata": {},
   "outputs": [
    {
     "name": "stdout",
     "output_type": "stream",
     "text": [
      "Here is the Vocabulary Size.. 32325\n"
     ]
    }
   ],
   "source": [
    "#Train a Word2Vec model using Gensim\n",
    "import gensim\n",
    "Min_count=1      #It will ignore all the words with a total frequency lower than this\n",
    "Size = 200      #It tells the dimensionality of the word vectors\n",
    "Workers=4        #These are the threads to train the model\n",
    "Window=5         #Maximum distance between the current and predicted word within a sentence\n",
    "#train word2vec model\n",
    "model = gensim.models.Word2Vec(sentences = df['lemma'], size = Size,window=Window, workers = Workers, min_count = Min_count)\n",
    "#Vocabulary size\n",
    "words = list(model.wv.vocab)\n",
    "print('Here is the Vocabulary Size.. %d' % len(words))"
   ]
  },
  {
   "cell_type": "code",
   "execution_count": 15,
   "metadata": {},
   "outputs": [
    {
     "data": {
      "text/plain": [
       "['adapt',\n",
       " 'comic',\n",
       " 'book',\n",
       " 'plenty',\n",
       " 'success',\n",
       " 'whether',\n",
       " 'superheroes',\n",
       " 'batman',\n",
       " 'superman']"
      ]
     },
     "execution_count": 15,
     "metadata": {},
     "output_type": "execute_result"
    }
   ],
   "source": [
    "#first 10 words\n",
    "words[1:10]"
   ]
  },
  {
   "cell_type": "code",
   "execution_count": 16,
   "metadata": {},
   "outputs": [
    {
     "name": "stderr",
     "output_type": "stream",
     "text": [
      "C:\\Users\\Shashi\\anaconda3\\lib\\site-packages\\ipykernel_launcher.py:2: DeprecationWarning: Call to deprecated `most_similar` (Method will be removed in 4.0.0, use self.wv.most_similar() instead).\n",
      "  \n"
     ]
    },
    {
     "data": {
      "text/plain": [
       "[('movie', 0.9607198238372803),\n",
       " ('picture', 0.9193545579910278),\n",
       " ('flick', 0.9138396978378296),\n",
       " ('moment', 0.9018254280090332),\n",
       " ('sequence', 0.896909236907959),\n",
       " ('comedy', 0.8907702565193176),\n",
       " ('genre', 0.8868932127952576),\n",
       " ('credit', 0.8852279782295227),\n",
       " ('thriller', 0.8828378915786743),\n",
       " ('pervasive', 0.8828272819519043)]"
      ]
     },
     "execution_count": 16,
     "metadata": {},
     "output_type": "execute_result"
    }
   ],
   "source": [
    "# This will print the most similar words  present in the model\n",
    "model.most_similar(\"film\")"
   ]
  },
  {
   "cell_type": "code",
   "execution_count": 17,
   "metadata": {},
   "outputs": [
    {
     "data": {
      "text/html": [
       "\n",
       "    <div class=\"bk-root\">\n",
       "        <a href=\"https://bokeh.org\" target=\"_blank\" class=\"bk-logo bk-logo-small bk-logo-notebook\"></a>\n",
       "        <span id=\"1001\">Loading BokehJS ...</span>\n",
       "    </div>"
      ]
     },
     "metadata": {},
     "output_type": "display_data"
    },
    {
     "data": {
      "application/javascript": [
       "\n",
       "(function(root) {\n",
       "  function now() {\n",
       "    return new Date();\n",
       "  }\n",
       "\n",
       "  var force = true;\n",
       "\n",
       "  if (typeof root._bokeh_onload_callbacks === \"undefined\" || force === true) {\n",
       "    root._bokeh_onload_callbacks = [];\n",
       "    root._bokeh_is_loading = undefined;\n",
       "  }\n",
       "\n",
       "  var JS_MIME_TYPE = 'application/javascript';\n",
       "  var HTML_MIME_TYPE = 'text/html';\n",
       "  var EXEC_MIME_TYPE = 'application/vnd.bokehjs_exec.v0+json';\n",
       "  var CLASS_NAME = 'output_bokeh rendered_html';\n",
       "\n",
       "  /**\n",
       "   * Render data to the DOM node\n",
       "   */\n",
       "  function render(props, node) {\n",
       "    var script = document.createElement(\"script\");\n",
       "    node.appendChild(script);\n",
       "  }\n",
       "\n",
       "  /**\n",
       "   * Handle when an output is cleared or removed\n",
       "   */\n",
       "  function handleClearOutput(event, handle) {\n",
       "    var cell = handle.cell;\n",
       "\n",
       "    var id = cell.output_area._bokeh_element_id;\n",
       "    var server_id = cell.output_area._bokeh_server_id;\n",
       "    // Clean up Bokeh references\n",
       "    if (id != null && id in Bokeh.index) {\n",
       "      Bokeh.index[id].model.document.clear();\n",
       "      delete Bokeh.index[id];\n",
       "    }\n",
       "\n",
       "    if (server_id !== undefined) {\n",
       "      // Clean up Bokeh references\n",
       "      var cmd = \"from bokeh.io.state import curstate; print(curstate().uuid_to_server['\" + server_id + \"'].get_sessions()[0].document.roots[0]._id)\";\n",
       "      cell.notebook.kernel.execute(cmd, {\n",
       "        iopub: {\n",
       "          output: function(msg) {\n",
       "            var id = msg.content.text.trim();\n",
       "            if (id in Bokeh.index) {\n",
       "              Bokeh.index[id].model.document.clear();\n",
       "              delete Bokeh.index[id];\n",
       "            }\n",
       "          }\n",
       "        }\n",
       "      });\n",
       "      // Destroy server and session\n",
       "      var cmd = \"import bokeh.io.notebook as ion; ion.destroy_server('\" + server_id + \"')\";\n",
       "      cell.notebook.kernel.execute(cmd);\n",
       "    }\n",
       "  }\n",
       "\n",
       "  /**\n",
       "   * Handle when a new output is added\n",
       "   */\n",
       "  function handleAddOutput(event, handle) {\n",
       "    var output_area = handle.output_area;\n",
       "    var output = handle.output;\n",
       "\n",
       "    // limit handleAddOutput to display_data with EXEC_MIME_TYPE content only\n",
       "    if ((output.output_type != \"display_data\") || (!output.data.hasOwnProperty(EXEC_MIME_TYPE))) {\n",
       "      return\n",
       "    }\n",
       "\n",
       "    var toinsert = output_area.element.find(\".\" + CLASS_NAME.split(' ')[0]);\n",
       "\n",
       "    if (output.metadata[EXEC_MIME_TYPE][\"id\"] !== undefined) {\n",
       "      toinsert[toinsert.length - 1].firstChild.textContent = output.data[JS_MIME_TYPE];\n",
       "      // store reference to embed id on output_area\n",
       "      output_area._bokeh_element_id = output.metadata[EXEC_MIME_TYPE][\"id\"];\n",
       "    }\n",
       "    if (output.metadata[EXEC_MIME_TYPE][\"server_id\"] !== undefined) {\n",
       "      var bk_div = document.createElement(\"div\");\n",
       "      bk_div.innerHTML = output.data[HTML_MIME_TYPE];\n",
       "      var script_attrs = bk_div.children[0].attributes;\n",
       "      for (var i = 0; i < script_attrs.length; i++) {\n",
       "        toinsert[toinsert.length - 1].firstChild.setAttribute(script_attrs[i].name, script_attrs[i].value);\n",
       "      }\n",
       "      // store reference to server id on output_area\n",
       "      output_area._bokeh_server_id = output.metadata[EXEC_MIME_TYPE][\"server_id\"];\n",
       "    }\n",
       "  }\n",
       "\n",
       "  function register_renderer(events, OutputArea) {\n",
       "\n",
       "    function append_mime(data, metadata, element) {\n",
       "      // create a DOM node to render to\n",
       "      var toinsert = this.create_output_subarea(\n",
       "        metadata,\n",
       "        CLASS_NAME,\n",
       "        EXEC_MIME_TYPE\n",
       "      );\n",
       "      this.keyboard_manager.register_events(toinsert);\n",
       "      // Render to node\n",
       "      var props = {data: data, metadata: metadata[EXEC_MIME_TYPE]};\n",
       "      render(props, toinsert[toinsert.length - 1]);\n",
       "      element.append(toinsert);\n",
       "      return toinsert\n",
       "    }\n",
       "\n",
       "    /* Handle when an output is cleared or removed */\n",
       "    events.on('clear_output.CodeCell', handleClearOutput);\n",
       "    events.on('delete.Cell', handleClearOutput);\n",
       "\n",
       "    /* Handle when a new output is added */\n",
       "    events.on('output_added.OutputArea', handleAddOutput);\n",
       "\n",
       "    /**\n",
       "     * Register the mime type and append_mime function with output_area\n",
       "     */\n",
       "    OutputArea.prototype.register_mime_type(EXEC_MIME_TYPE, append_mime, {\n",
       "      /* Is output safe? */\n",
       "      safe: true,\n",
       "      /* Index of renderer in `output_area.display_order` */\n",
       "      index: 0\n",
       "    });\n",
       "  }\n",
       "\n",
       "  // register the mime type if in Jupyter Notebook environment and previously unregistered\n",
       "  if (root.Jupyter !== undefined) {\n",
       "    var events = require('base/js/events');\n",
       "    var OutputArea = require('notebook/js/outputarea').OutputArea;\n",
       "\n",
       "    if (OutputArea.prototype.mime_types().indexOf(EXEC_MIME_TYPE) == -1) {\n",
       "      register_renderer(events, OutputArea);\n",
       "    }\n",
       "  }\n",
       "\n",
       "  \n",
       "  if (typeof (root._bokeh_timeout) === \"undefined\" || force === true) {\n",
       "    root._bokeh_timeout = Date.now() + 5000;\n",
       "    root._bokeh_failed_load = false;\n",
       "  }\n",
       "\n",
       "  var NB_LOAD_WARNING = {'data': {'text/html':\n",
       "     \"<div style='background-color: #fdd'>\\n\"+\n",
       "     \"<p>\\n\"+\n",
       "     \"BokehJS does not appear to have successfully loaded. If loading BokehJS from CDN, this \\n\"+\n",
       "     \"may be due to a slow or bad network connection. Possible fixes:\\n\"+\n",
       "     \"</p>\\n\"+\n",
       "     \"<ul>\\n\"+\n",
       "     \"<li>re-rerun `output_notebook()` to attempt to load from CDN again, or</li>\\n\"+\n",
       "     \"<li>use INLINE resources instead, as so:</li>\\n\"+\n",
       "     \"</ul>\\n\"+\n",
       "     \"<code>\\n\"+\n",
       "     \"from bokeh.resources import INLINE\\n\"+\n",
       "     \"output_notebook(resources=INLINE)\\n\"+\n",
       "     \"</code>\\n\"+\n",
       "     \"</div>\"}};\n",
       "\n",
       "  function display_loaded() {\n",
       "    var el = document.getElementById(\"1001\");\n",
       "    if (el != null) {\n",
       "      el.textContent = \"BokehJS is loading...\";\n",
       "    }\n",
       "    if (root.Bokeh !== undefined) {\n",
       "      if (el != null) {\n",
       "        el.textContent = \"BokehJS \" + root.Bokeh.version + \" successfully loaded.\";\n",
       "      }\n",
       "    } else if (Date.now() < root._bokeh_timeout) {\n",
       "      setTimeout(display_loaded, 100)\n",
       "    }\n",
       "  }\n",
       "\n",
       "\n",
       "  function run_callbacks() {\n",
       "    try {\n",
       "      root._bokeh_onload_callbacks.forEach(function(callback) {\n",
       "        if (callback != null)\n",
       "          callback();\n",
       "      });\n",
       "    } finally {\n",
       "      delete root._bokeh_onload_callbacks\n",
       "    }\n",
       "    console.debug(\"Bokeh: all callbacks have finished\");\n",
       "  }\n",
       "\n",
       "  function load_libs(css_urls, js_urls, callback) {\n",
       "    if (css_urls == null) css_urls = [];\n",
       "    if (js_urls == null) js_urls = [];\n",
       "\n",
       "    root._bokeh_onload_callbacks.push(callback);\n",
       "    if (root._bokeh_is_loading > 0) {\n",
       "      console.debug(\"Bokeh: BokehJS is being loaded, scheduling callback at\", now());\n",
       "      return null;\n",
       "    }\n",
       "    if (js_urls == null || js_urls.length === 0) {\n",
       "      run_callbacks();\n",
       "      return null;\n",
       "    }\n",
       "    console.debug(\"Bokeh: BokehJS not loaded, scheduling load and callback at\", now());\n",
       "    root._bokeh_is_loading = css_urls.length + js_urls.length;\n",
       "\n",
       "    function on_load() {\n",
       "      root._bokeh_is_loading--;\n",
       "      if (root._bokeh_is_loading === 0) {\n",
       "        console.debug(\"Bokeh: all BokehJS libraries/stylesheets loaded\");\n",
       "        run_callbacks()\n",
       "      }\n",
       "    }\n",
       "\n",
       "    function on_error() {\n",
       "      console.error(\"failed to load \" + url);\n",
       "    }\n",
       "\n",
       "    for (var i = 0; i < css_urls.length; i++) {\n",
       "      var url = css_urls[i];\n",
       "      const element = document.createElement(\"link\");\n",
       "      element.onload = on_load;\n",
       "      element.onerror = on_error;\n",
       "      element.rel = \"stylesheet\";\n",
       "      element.type = \"text/css\";\n",
       "      element.href = url;\n",
       "      console.debug(\"Bokeh: injecting link tag for BokehJS stylesheet: \", url);\n",
       "      document.body.appendChild(element);\n",
       "    }\n",
       "\n",
       "    for (var i = 0; i < js_urls.length; i++) {\n",
       "      var url = js_urls[i];\n",
       "      var element = document.createElement('script');\n",
       "      element.onload = on_load;\n",
       "      element.onerror = on_error;\n",
       "      element.async = false;\n",
       "      element.src = url;\n",
       "      console.debug(\"Bokeh: injecting script tag for BokehJS library: \", url);\n",
       "      document.head.appendChild(element);\n",
       "    }\n",
       "  };var element = document.getElementById(\"1001\");\n",
       "  if (element == null) {\n",
       "    console.error(\"Bokeh: ERROR: autoload.js configured with elementid '1001' but no matching script tag was found. \")\n",
       "    return false;\n",
       "  }\n",
       "\n",
       "  function inject_raw_css(css) {\n",
       "    const element = document.createElement(\"style\");\n",
       "    element.appendChild(document.createTextNode(css));\n",
       "    document.body.appendChild(element);\n",
       "  }\n",
       "\n",
       "  \n",
       "  var js_urls = [\"https://cdn.pydata.org/bokeh/release/bokeh-1.4.0.min.js\", \"https://cdn.pydata.org/bokeh/release/bokeh-widgets-1.4.0.min.js\", \"https://cdn.pydata.org/bokeh/release/bokeh-tables-1.4.0.min.js\", \"https://cdn.pydata.org/bokeh/release/bokeh-gl-1.4.0.min.js\"];\n",
       "  var css_urls = [];\n",
       "  \n",
       "\n",
       "  var inline_js = [\n",
       "    function(Bokeh) {\n",
       "      Bokeh.set_log_level(\"info\");\n",
       "    },\n",
       "    function(Bokeh) {\n",
       "    \n",
       "    \n",
       "    }\n",
       "  ];\n",
       "\n",
       "  function run_inline_js() {\n",
       "    \n",
       "    if (root.Bokeh !== undefined || force === true) {\n",
       "      \n",
       "    for (var i = 0; i < inline_js.length; i++) {\n",
       "      inline_js[i].call(root, root.Bokeh);\n",
       "    }\n",
       "    if (force === true) {\n",
       "        display_loaded();\n",
       "      }} else if (Date.now() < root._bokeh_timeout) {\n",
       "      setTimeout(run_inline_js, 100);\n",
       "    } else if (!root._bokeh_failed_load) {\n",
       "      console.log(\"Bokeh: BokehJS failed to load within specified timeout.\");\n",
       "      root._bokeh_failed_load = true;\n",
       "    } else if (force !== true) {\n",
       "      var cell = $(document.getElementById(\"1001\")).parents('.cell').data().cell;\n",
       "      cell.output_area.append_execute_result(NB_LOAD_WARNING)\n",
       "    }\n",
       "\n",
       "  }\n",
       "\n",
       "  if (root._bokeh_is_loading === 0) {\n",
       "    console.debug(\"Bokeh: BokehJS loaded, going straight to plotting\");\n",
       "    run_inline_js();\n",
       "  } else {\n",
       "    load_libs(css_urls, js_urls, function() {\n",
       "      console.debug(\"Bokeh: BokehJS plotting callback run at\", now());\n",
       "      run_inline_js();\n",
       "    });\n",
       "  }\n",
       "}(window));"
      ],
      "application/vnd.bokehjs_load.v0+json": "\n(function(root) {\n  function now() {\n    return new Date();\n  }\n\n  var force = true;\n\n  if (typeof root._bokeh_onload_callbacks === \"undefined\" || force === true) {\n    root._bokeh_onload_callbacks = [];\n    root._bokeh_is_loading = undefined;\n  }\n\n  \n\n  \n  if (typeof (root._bokeh_timeout) === \"undefined\" || force === true) {\n    root._bokeh_timeout = Date.now() + 5000;\n    root._bokeh_failed_load = false;\n  }\n\n  var NB_LOAD_WARNING = {'data': {'text/html':\n     \"<div style='background-color: #fdd'>\\n\"+\n     \"<p>\\n\"+\n     \"BokehJS does not appear to have successfully loaded. If loading BokehJS from CDN, this \\n\"+\n     \"may be due to a slow or bad network connection. Possible fixes:\\n\"+\n     \"</p>\\n\"+\n     \"<ul>\\n\"+\n     \"<li>re-rerun `output_notebook()` to attempt to load from CDN again, or</li>\\n\"+\n     \"<li>use INLINE resources instead, as so:</li>\\n\"+\n     \"</ul>\\n\"+\n     \"<code>\\n\"+\n     \"from bokeh.resources import INLINE\\n\"+\n     \"output_notebook(resources=INLINE)\\n\"+\n     \"</code>\\n\"+\n     \"</div>\"}};\n\n  function display_loaded() {\n    var el = document.getElementById(\"1001\");\n    if (el != null) {\n      el.textContent = \"BokehJS is loading...\";\n    }\n    if (root.Bokeh !== undefined) {\n      if (el != null) {\n        el.textContent = \"BokehJS \" + root.Bokeh.version + \" successfully loaded.\";\n      }\n    } else if (Date.now() < root._bokeh_timeout) {\n      setTimeout(display_loaded, 100)\n    }\n  }\n\n\n  function run_callbacks() {\n    try {\n      root._bokeh_onload_callbacks.forEach(function(callback) {\n        if (callback != null)\n          callback();\n      });\n    } finally {\n      delete root._bokeh_onload_callbacks\n    }\n    console.debug(\"Bokeh: all callbacks have finished\");\n  }\n\n  function load_libs(css_urls, js_urls, callback) {\n    if (css_urls == null) css_urls = [];\n    if (js_urls == null) js_urls = [];\n\n    root._bokeh_onload_callbacks.push(callback);\n    if (root._bokeh_is_loading > 0) {\n      console.debug(\"Bokeh: BokehJS is being loaded, scheduling callback at\", now());\n      return null;\n    }\n    if (js_urls == null || js_urls.length === 0) {\n      run_callbacks();\n      return null;\n    }\n    console.debug(\"Bokeh: BokehJS not loaded, scheduling load and callback at\", now());\n    root._bokeh_is_loading = css_urls.length + js_urls.length;\n\n    function on_load() {\n      root._bokeh_is_loading--;\n      if (root._bokeh_is_loading === 0) {\n        console.debug(\"Bokeh: all BokehJS libraries/stylesheets loaded\");\n        run_callbacks()\n      }\n    }\n\n    function on_error() {\n      console.error(\"failed to load \" + url);\n    }\n\n    for (var i = 0; i < css_urls.length; i++) {\n      var url = css_urls[i];\n      const element = document.createElement(\"link\");\n      element.onload = on_load;\n      element.onerror = on_error;\n      element.rel = \"stylesheet\";\n      element.type = \"text/css\";\n      element.href = url;\n      console.debug(\"Bokeh: injecting link tag for BokehJS stylesheet: \", url);\n      document.body.appendChild(element);\n    }\n\n    for (var i = 0; i < js_urls.length; i++) {\n      var url = js_urls[i];\n      var element = document.createElement('script');\n      element.onload = on_load;\n      element.onerror = on_error;\n      element.async = false;\n      element.src = url;\n      console.debug(\"Bokeh: injecting script tag for BokehJS library: \", url);\n      document.head.appendChild(element);\n    }\n  };var element = document.getElementById(\"1001\");\n  if (element == null) {\n    console.error(\"Bokeh: ERROR: autoload.js configured with elementid '1001' but no matching script tag was found. \")\n    return false;\n  }\n\n  function inject_raw_css(css) {\n    const element = document.createElement(\"style\");\n    element.appendChild(document.createTextNode(css));\n    document.body.appendChild(element);\n  }\n\n  \n  var js_urls = [\"https://cdn.pydata.org/bokeh/release/bokeh-1.4.0.min.js\", \"https://cdn.pydata.org/bokeh/release/bokeh-widgets-1.4.0.min.js\", \"https://cdn.pydata.org/bokeh/release/bokeh-tables-1.4.0.min.js\", \"https://cdn.pydata.org/bokeh/release/bokeh-gl-1.4.0.min.js\"];\n  var css_urls = [];\n  \n\n  var inline_js = [\n    function(Bokeh) {\n      Bokeh.set_log_level(\"info\");\n    },\n    function(Bokeh) {\n    \n    \n    }\n  ];\n\n  function run_inline_js() {\n    \n    if (root.Bokeh !== undefined || force === true) {\n      \n    for (var i = 0; i < inline_js.length; i++) {\n      inline_js[i].call(root, root.Bokeh);\n    }\n    if (force === true) {\n        display_loaded();\n      }} else if (Date.now() < root._bokeh_timeout) {\n      setTimeout(run_inline_js, 100);\n    } else if (!root._bokeh_failed_load) {\n      console.log(\"Bokeh: BokehJS failed to load within specified timeout.\");\n      root._bokeh_failed_load = true;\n    } else if (force !== true) {\n      var cell = $(document.getElementById(\"1001\")).parents('.cell').data().cell;\n      cell.output_area.append_execute_result(NB_LOAD_WARNING)\n    }\n\n  }\n\n  if (root._bokeh_is_loading === 0) {\n    console.debug(\"Bokeh: BokehJS loaded, going straight to plotting\");\n    run_inline_js();\n  } else {\n    load_libs(css_urls, js_urls, function() {\n      console.debug(\"Bokeh: BokehJS plotting callback run at\", now());\n      run_inline_js();\n    });\n  }\n}(window));"
     },
     "metadata": {},
     "output_type": "display_data"
    },
    {
     "name": "stderr",
     "output_type": "stream",
     "text": [
      "C:\\Users\\Shashi\\anaconda3\\lib\\site-packages\\ipykernel_launcher.py:15: DeprecationWarning: Call to deprecated `__getitem__` (Method will be removed in 4.0.0, use self.wv.__getitem__() instead).\n",
      "  from ipykernel import kernelapp as app\n"
     ]
    },
    {
     "name": "stdout",
     "output_type": "stream",
     "text": [
      "[t-SNE] Computing 91 nearest neighbors...\n",
      "[t-SNE] Indexed 3000 samples in 0.267s...\n",
      "[t-SNE] Computed neighbors for 3000 samples in 3.305s...\n",
      "[t-SNE] Computed conditional probabilities for sample 1000 / 3000\n",
      "[t-SNE] Computed conditional probabilities for sample 2000 / 3000\n",
      "[t-SNE] Computed conditional probabilities for sample 3000 / 3000\n",
      "[t-SNE] Mean sigma: 0.052500\n",
      "[t-SNE] KL divergence after 250 iterations with early exaggeration: 65.422470\n",
      "[t-SNE] KL divergence after 1000 iterations: 0.906188\n"
     ]
    },
    {
     "data": {
      "text/html": [
       "\n",
       "\n",
       "\n",
       "\n",
       "\n",
       "\n",
       "  <div class=\"bk-root\" id=\"c7435b55-2fbb-48eb-bef7-ac074e7e3fa9\" data-root-id=\"1002\"></div>\n"
      ]
     },
     "metadata": {},
     "output_type": "display_data"
    },
    {
     "data": {
      "application/javascript": [
       "(function(root) {\n",
       "  function embed_document(root) {\n",
       "    \n",
       "  var docs_json = {\"45b4af20-6d07-48e3-b0cc-0722ed3b00c9\":{\"roots\":{\"references\":[{\"attributes\":{\"min_border\":1,\"plot_width\":700,\"renderers\":[{\"id\":\"1028\",\"type\":\"GlyphRenderer\"}],\"title\":{\"id\":\"1003\",\"type\":\"Title\"},\"toolbar\":{\"id\":\"1018\",\"type\":\"Toolbar\"},\"x_range\":{\"id\":\"1005\",\"type\":\"DataRange1d\"},\"x_scale\":{\"id\":\"1009\",\"type\":\"LinearScale\"},\"y_range\":{\"id\":\"1007\",\"type\":\"DataRange1d\"},\"y_scale\":{\"id\":\"1011\",\"type\":\"LinearScale\"}},\"id\":\"1002\",\"subtype\":\"Figure\",\"type\":\"Plot\"},{\"attributes\":{\"active_drag\":\"auto\",\"active_inspect\":\"auto\",\"active_multi\":null,\"active_scroll\":\"auto\",\"active_tap\":\"auto\",\"tools\":[{\"id\":\"1013\",\"type\":\"PanTool\"},{\"id\":\"1014\",\"type\":\"WheelZoomTool\"},{\"id\":\"1015\",\"type\":\"BoxZoomTool\"},{\"id\":\"1016\",\"type\":\"ResetTool\"},{\"id\":\"1017\",\"type\":\"HoverTool\"}]},\"id\":\"1018\",\"type\":\"Toolbar\"},{\"attributes\":{\"bottom_units\":\"screen\",\"fill_alpha\":{\"value\":0.5},\"fill_color\":{\"value\":\"lightgrey\"},\"left_units\":\"screen\",\"level\":\"overlay\",\"line_alpha\":{\"value\":1.0},\"line_color\":{\"value\":\"black\"},\"line_dash\":[4,4],\"line_width\":{\"value\":2},\"render_mode\":\"css\",\"right_units\":\"screen\",\"top_units\":\"screen\"},\"id\":\"1033\",\"type\":\"BoxAnnotation\"},{\"attributes\":{\"data_source\":{\"id\":\"1024\",\"type\":\"ColumnDataSource\"},\"glyph\":{\"id\":\"1026\",\"type\":\"Scatter\"},\"hover_glyph\":null,\"muted_glyph\":null,\"nonselection_glyph\":{\"id\":\"1027\",\"type\":\"Scatter\"},\"selection_glyph\":null,\"view\":{\"id\":\"1029\",\"type\":\"CDSView\"}},\"id\":\"1028\",\"type\":\"GlyphRenderer\"},{\"attributes\":{\"callback\":null,\"data\":{\"index\":[0,1,2,3,4,5,6,7,8,9,10,11,12,13,14,15,16,17,18,19,20,21,22,23,24,25,26,27,28,29,30,31,32,33,34,35,36,37,38,39,40,41,42,43,44,45,46,47,48,49,50,51,52,53,54,55,56,57,58,59,60,61,62,63,64,65,66,67,68,69,70,71,72,73,74,75,76,77,78,79,80,81,82,83,84,85,86,87,88,89,90,91,92,93,94,95,96,97,98,99,100,101,102,103,104,105,106,107,108,109,110,111,112,113,114,115,116,117,118,119,120,121,122,123,124,125,126,127,128,129,130,131,132,133,134,135,136,137,138,139,140,141,142,143,144,145,146,147,148,149,150,151,152,153,154,155,156,157,158,159,160,161,162,163,164,165,166,167,168,169,170,171,172,173,174,175,176,177,178,179,180,181,182,183,184,185,186,187,188,189,190,191,192,193,194,195,196,197,198,199,200,201,202,203,204,205,206,207,208,209,210,211,212,213,214,215,216,217,218,219,220,221,222,223,224,225,226,227,228,229,230,231,232,233,234,235,236,237,238,239,240,241,242,243,244,245,246,247,248,249,250,251,252,253,254,255,256,257,258,259,260,261,262,263,264,265,266,267,268,269,270,271,272,273,274,275,276,277,278,279,280,281,282,283,284,285,286,287,288,289,290,291,292,293,294,295,296,297,298,299,300,301,302,303,304,305,306,307,308,309,310,311,312,313,314,315,316,317,318,319,320,321,322,323,324,325,326,327,328,329,330,331,332,333,334,335,336,337,338,339,340,341,342,343,344,345,346,347,348,349,350,351,352,353,354,355,356,357,358,359,360,361,362,363,364,365,366,367,368,369,370,371,372,373,374,375,376,377,378,379,380,381,382,383,384,385,386,387,388,389,390,391,392,393,394,395,396,397,398,399,400,401,402,403,404,405,406,407,408,409,410,411,412,413,414,415,416,417,418,419,420,421,422,423,424,425,426,427,428,429,430,431,432,433,434,435,436,437,438,439,440,441,442,443,444,445,446,447,448,449,450,451,452,453,454,455,456,457,458,459,460,461,462,463,464,465,466,467,468,469,470,471,472,473,474,475,476,477,478,479,480,481,482,483,484,485,486,487,488,489,490,491,492,493,494,495,496,497,498,499,500,501,502,503,504,505,506,507,508,509,510,511,512,513,514,515,516,517,518,519,520,521,522,523,524,525,526,527,528,529,530,531,532,533,534,535,536,537,538,539,540,541,542,543,544,545,546,547,548,549,550,551,552,553,554,555,556,557,558,559,560,561,562,563,564,565,566,567,568,569,570,571,572,573,574,575,576,577,578,579,580,581,582,583,584,585,586,587,588,589,590,591,592,593,594,595,596,597,598,599,600,601,602,603,604,605,606,607,608,609,610,611,612,613,614,615,616,617,618,619,620,621,622,623,624,625,626,627,628,629,630,631,632,633,634,635,636,637,638,639,640,641,642,643,644,645,646,647,648,649,650,651,652,653,654,655,656,657,658,659,660,661,662,663,664,665,666,667,668,669,670,671,672,673,674,675,676,677,678,679,680,681,682,683,684,685,686,687,688,689,690,691,692,693,694,695,696,697,698,699,700,701,702,703,704,705,706,707,708,709,710,711,712,713,714,715,716,717,718,719,720,721,722,723,724,725,726,727,728,729,730,731,732,733,734,735,736,737,738,739,740,741,742,743,744,745,746,747,748,749,750,751,752,753,754,755,756,757,758,759,760,761,762,763,764,765,766,767,768,769,770,771,772,773,774,775,776,777,778,779,780,781,782,783,784,785,786,787,788,789,790,791,792,793,794,795,796,797,798,799,800,801,802,803,804,805,806,807,808,809,810,811,812,813,814,815,816,817,818,819,820,821,822,823,824,825,826,827,828,829,830,831,832,833,834,835,836,837,838,839,840,841,842,843,844,845,846,847,848,849,850,851,852,853,854,855,856,857,858,859,860,861,862,863,864,865,866,867,868,869,870,871,872,873,874,875,876,877,878,879,880,881,882,883,884,885,886,887,888,889,890,891,892,893,894,895,896,897,898,899,900,901,902,903,904,905,906,907,908,909,910,911,912,913,914,915,916,917,918,919,920,921,922,923,924,925,926,927,928,929,930,931,932,933,934,935,936,937,938,939,940,941,942,943,944,945,946,947,948,949,950,951,952,953,954,955,956,957,958,959,960,961,962,963,964,965,966,967,968,969,970,971,972,973,974,975,976,977,978,979,980,981,982,983,984,985,986,987,988,989,990,991,992,993,994,995,996,997,998,999,1000,1001,1002,1003,1004,1005,1006,1007,1008,1009,1010,1011,1012,1013,1014,1015,1016,1017,1018,1019,1020,1021,1022,1023,1024,1025,1026,1027,1028,1029,1030,1031,1032,1033,1034,1035,1036,1037,1038,1039,1040,1041,1042,1043,1044,1045,1046,1047,1048,1049,1050,1051,1052,1053,1054,1055,1056,1057,1058,1059,1060,1061,1062,1063,1064,1065,1066,1067,1068,1069,1070,1071,1072,1073,1074,1075,1076,1077,1078,1079,1080,1081,1082,1083,1084,1085,1086,1087,1088,1089,1090,1091,1092,1093,1094,1095,1096,1097,1098,1099,1100,1101,1102,1103,1104,1105,1106,1107,1108,1109,1110,1111,1112,1113,1114,1115,1116,1117,1118,1119,1120,1121,1122,1123,1124,1125,1126,1127,1128,1129,1130,1131,1132,1133,1134,1135,1136,1137,1138,1139,1140,1141,1142,1143,1144,1145,1146,1147,1148,1149,1150,1151,1152,1153,1154,1155,1156,1157,1158,1159,1160,1161,1162,1163,1164,1165,1166,1167,1168,1169,1170,1171,1172,1173,1174,1175,1176,1177,1178,1179,1180,1181,1182,1183,1184,1185,1186,1187,1188,1189,1190,1191,1192,1193,1194,1195,1196,1197,1198,1199,1200,1201,1202,1203,1204,1205,1206,1207,1208,1209,1210,1211,1212,1213,1214,1215,1216,1217,1218,1219,1220,1221,1222,1223,1224,1225,1226,1227,1228,1229,1230,1231,1232,1233,1234,1235,1236,1237,1238,1239,1240,1241,1242,1243,1244,1245,1246,1247,1248,1249,1250,1251,1252,1253,1254,1255,1256,1257,1258,1259,1260,1261,1262,1263,1264,1265,1266,1267,1268,1269,1270,1271,1272,1273,1274,1275,1276,1277,1278,1279,1280,1281,1282,1283,1284,1285,1286,1287,1288,1289,1290,1291,1292,1293,1294,1295,1296,1297,1298,1299,1300,1301,1302,1303,1304,1305,1306,1307,1308,1309,1310,1311,1312,1313,1314,1315,1316,1317,1318,1319,1320,1321,1322,1323,1324,1325,1326,1327,1328,1329,1330,1331,1332,1333,1334,1335,1336,1337,1338,1339,1340,1341,1342,1343,1344,1345,1346,1347,1348,1349,1350,1351,1352,1353,1354,1355,1356,1357,1358,1359,1360,1361,1362,1363,1364,1365,1366,1367,1368,1369,1370,1371,1372,1373,1374,1375,1376,1377,1378,1379,1380,1381,1382,1383,1384,1385,1386,1387,1388,1389,1390,1391,1392,1393,1394,1395,1396,1397,1398,1399,1400,1401,1402,1403,1404,1405,1406,1407,1408,1409,1410,1411,1412,1413,1414,1415,1416,1417,1418,1419,1420,1421,1422,1423,1424,1425,1426,1427,1428,1429,1430,1431,1432,1433,1434,1435,1436,1437,1438,1439,1440,1441,1442,1443,1444,1445,1446,1447,1448,1449,1450,1451,1452,1453,1454,1455,1456,1457,1458,1459,1460,1461,1462,1463,1464,1465,1466,1467,1468,1469,1470,1471,1472,1473,1474,1475,1476,1477,1478,1479,1480,1481,1482,1483,1484,1485,1486,1487,1488,1489,1490,1491,1492,1493,1494,1495,1496,1497,1498,1499,1500,1501,1502,1503,1504,1505,1506,1507,1508,1509,1510,1511,1512,1513,1514,1515,1516,1517,1518,1519,1520,1521,1522,1523,1524,1525,1526,1527,1528,1529,1530,1531,1532,1533,1534,1535,1536,1537,1538,1539,1540,1541,1542,1543,1544,1545,1546,1547,1548,1549,1550,1551,1552,1553,1554,1555,1556,1557,1558,1559,1560,1561,1562,1563,1564,1565,1566,1567,1568,1569,1570,1571,1572,1573,1574,1575,1576,1577,1578,1579,1580,1581,1582,1583,1584,1585,1586,1587,1588,1589,1590,1591,1592,1593,1594,1595,1596,1597,1598,1599,1600,1601,1602,1603,1604,1605,1606,1607,1608,1609,1610,1611,1612,1613,1614,1615,1616,1617,1618,1619,1620,1621,1622,1623,1624,1625,1626,1627,1628,1629,1630,1631,1632,1633,1634,1635,1636,1637,1638,1639,1640,1641,1642,1643,1644,1645,1646,1647,1648,1649,1650,1651,1652,1653,1654,1655,1656,1657,1658,1659,1660,1661,1662,1663,1664,1665,1666,1667,1668,1669,1670,1671,1672,1673,1674,1675,1676,1677,1678,1679,1680,1681,1682,1683,1684,1685,1686,1687,1688,1689,1690,1691,1692,1693,1694,1695,1696,1697,1698,1699,1700,1701,1702,1703,1704,1705,1706,1707,1708,1709,1710,1711,1712,1713,1714,1715,1716,1717,1718,1719,1720,1721,1722,1723,1724,1725,1726,1727,1728,1729,1730,1731,1732,1733,1734,1735,1736,1737,1738,1739,1740,1741,1742,1743,1744,1745,1746,1747,1748,1749,1750,1751,1752,1753,1754,1755,1756,1757,1758,1759,1760,1761,1762,1763,1764,1765,1766,1767,1768,1769,1770,1771,1772,1773,1774,1775,1776,1777,1778,1779,1780,1781,1782,1783,1784,1785,1786,1787,1788,1789,1790,1791,1792,1793,1794,1795,1796,1797,1798,1799,1800,1801,1802,1803,1804,1805,1806,1807,1808,1809,1810,1811,1812,1813,1814,1815,1816,1817,1818,1819,1820,1821,1822,1823,1824,1825,1826,1827,1828,1829,1830,1831,1832,1833,1834,1835,1836,1837,1838,1839,1840,1841,1842,1843,1844,1845,1846,1847,1848,1849,1850,1851,1852,1853,1854,1855,1856,1857,1858,1859,1860,1861,1862,1863,1864,1865,1866,1867,1868,1869,1870,1871,1872,1873,1874,1875,1876,1877,1878,1879,1880,1881,1882,1883,1884,1885,1886,1887,1888,1889,1890,1891,1892,1893,1894,1895,1896,1897,1898,1899,1900,1901,1902,1903,1904,1905,1906,1907,1908,1909,1910,1911,1912,1913,1914,1915,1916,1917,1918,1919,1920,1921,1922,1923,1924,1925,1926,1927,1928,1929,1930,1931,1932,1933,1934,1935,1936,1937,1938,1939,1940,1941,1942,1943,1944,1945,1946,1947,1948,1949,1950,1951,1952,1953,1954,1955,1956,1957,1958,1959,1960,1961,1962,1963,1964,1965,1966,1967,1968,1969,1970,1971,1972,1973,1974,1975,1976,1977,1978,1979,1980,1981,1982,1983,1984,1985,1986,1987,1988,1989,1990,1991,1992,1993,1994,1995,1996,1997,1998,1999,2000,2001,2002,2003,2004,2005,2006,2007,2008,2009,2010,2011,2012,2013,2014,2015,2016,2017,2018,2019,2020,2021,2022,2023,2024,2025,2026,2027,2028,2029,2030,2031,2032,2033,2034,2035,2036,2037,2038,2039,2040,2041,2042,2043,2044,2045,2046,2047,2048,2049,2050,2051,2052,2053,2054,2055,2056,2057,2058,2059,2060,2061,2062,2063,2064,2065,2066,2067,2068,2069,2070,2071,2072,2073,2074,2075,2076,2077,2078,2079,2080,2081,2082,2083,2084,2085,2086,2087,2088,2089,2090,2091,2092,2093,2094,2095,2096,2097,2098,2099,2100,2101,2102,2103,2104,2105,2106,2107,2108,2109,2110,2111,2112,2113,2114,2115,2116,2117,2118,2119,2120,2121,2122,2123,2124,2125,2126,2127,2128,2129,2130,2131,2132,2133,2134,2135,2136,2137,2138,2139,2140,2141,2142,2143,2144,2145,2146,2147,2148,2149,2150,2151,2152,2153,2154,2155,2156,2157,2158,2159,2160,2161,2162,2163,2164,2165,2166,2167,2168,2169,2170,2171,2172,2173,2174,2175,2176,2177,2178,2179,2180,2181,2182,2183,2184,2185,2186,2187,2188,2189,2190,2191,2192,2193,2194,2195,2196,2197,2198,2199,2200,2201,2202,2203,2204,2205,2206,2207,2208,2209,2210,2211,2212,2213,2214,2215,2216,2217,2218,2219,2220,2221,2222,2223,2224,2225,2226,2227,2228,2229,2230,2231,2232,2233,2234,2235,2236,2237,2238,2239,2240,2241,2242,2243,2244,2245,2246,2247,2248,2249,2250,2251,2252,2253,2254,2255,2256,2257,2258,2259,2260,2261,2262,2263,2264,2265,2266,2267,2268,2269,2270,2271,2272,2273,2274,2275,2276,2277,2278,2279,2280,2281,2282,2283,2284,2285,2286,2287,2288,2289,2290,2291,2292,2293,2294,2295,2296,2297,2298,2299,2300,2301,2302,2303,2304,2305,2306,2307,2308,2309,2310,2311,2312,2313,2314,2315,2316,2317,2318,2319,2320,2321,2322,2323,2324,2325,2326,2327,2328,2329,2330,2331,2332,2333,2334,2335,2336,2337,2338,2339,2340,2341,2342,2343,2344,2345,2346,2347,2348,2349,2350,2351,2352,2353,2354,2355,2356,2357,2358,2359,2360,2361,2362,2363,2364,2365,2366,2367,2368,2369,2370,2371,2372,2373,2374,2375,2376,2377,2378,2379,2380,2381,2382,2383,2384,2385,2386,2387,2388,2389,2390,2391,2392,2393,2394,2395,2396,2397,2398,2399,2400,2401,2402,2403,2404,2405,2406,2407,2408,2409,2410,2411,2412,2413,2414,2415,2416,2417,2418,2419,2420,2421,2422,2423,2424,2425,2426,2427,2428,2429,2430,2431,2432,2433,2434,2435,2436,2437,2438,2439,2440,2441,2442,2443,2444,2445,2446,2447,2448,2449,2450,2451,2452,2453,2454,2455,2456,2457,2458,2459,2460,2461,2462,2463,2464,2465,2466,2467,2468,2469,2470,2471,2472,2473,2474,2475,2476,2477,2478,2479,2480,2481,2482,2483,2484,2485,2486,2487,2488,2489,2490,2491,2492,2493,2494,2495,2496,2497,2498,2499,2500,2501,2502,2503,2504,2505,2506,2507,2508,2509,2510,2511,2512,2513,2514,2515,2516,2517,2518,2519,2520,2521,2522,2523,2524,2525,2526,2527,2528,2529,2530,2531,2532,2533,2534,2535,2536,2537,2538,2539,2540,2541,2542,2543,2544,2545,2546,2547,2548,2549,2550,2551,2552,2553,2554,2555,2556,2557,2558,2559,2560,2561,2562,2563,2564,2565,2566,2567,2568,2569,2570,2571,2572,2573,2574,2575,2576,2577,2578,2579,2580,2581,2582,2583,2584,2585,2586,2587,2588,2589,2590,2591,2592,2593,2594,2595,2596,2597,2598,2599,2600,2601,2602,2603,2604,2605,2606,2607,2608,2609,2610,2611,2612,2613,2614,2615,2616,2617,2618,2619,2620,2621,2622,2623,2624,2625,2626,2627,2628,2629,2630,2631,2632,2633,2634,2635,2636,2637,2638,2639,2640,2641,2642,2643,2644,2645,2646,2647,2648,2649,2650,2651,2652,2653,2654,2655,2656,2657,2658,2659,2660,2661,2662,2663,2664,2665,2666,2667,2668,2669,2670,2671,2672,2673,2674,2675,2676,2677,2678,2679,2680,2681,2682,2683,2684,2685,2686,2687,2688,2689,2690,2691,2692,2693,2694,2695,2696,2697,2698,2699,2700,2701,2702,2703,2704,2705,2706,2707,2708,2709,2710,2711,2712,2713,2714,2715,2716,2717,2718,2719,2720,2721,2722,2723,2724,2725,2726,2727,2728,2729,2730,2731,2732,2733,2734,2735,2736,2737,2738,2739,2740,2741,2742,2743,2744,2745,2746,2747,2748,2749,2750,2751,2752,2753,2754,2755,2756,2757,2758,2759,2760,2761,2762,2763,2764,2765,2766,2767,2768,2769,2770,2771,2772,2773,2774,2775,2776,2777,2778,2779,2780,2781,2782,2783,2784,2785,2786,2787,2788,2789,2790,2791,2792,2793,2794,2795,2796,2797,2798,2799,2800,2801,2802,2803,2804,2805,2806,2807,2808,2809,2810,2811,2812,2813,2814,2815,2816,2817,2818,2819,2820,2821,2822,2823,2824,2825,2826,2827,2828,2829,2830,2831,2832,2833,2834,2835,2836,2837,2838,2839,2840,2841,2842,2843,2844,2845,2846,2847,2848,2849,2850,2851,2852,2853,2854,2855,2856,2857,2858,2859,2860,2861,2862,2863,2864,2865,2866,2867,2868,2869,2870,2871,2872,2873,2874,2875,2876,2877,2878,2879,2880,2881,2882,2883,2884,2885,2886,2887,2888,2889,2890,2891,2892,2893,2894,2895,2896,2897,2898,2899,2900,2901,2902,2903,2904,2905,2906,2907,2908,2909,2910,2911,2912,2913,2914,2915,2916,2917,2918,2919,2920,2921,2922,2923,2924,2925,2926,2927,2928,2929,2930,2931,2932,2933,2934,2935,2936,2937,2938,2939,2940,2941,2942,2943,2944,2945,2946,2947,2948,2949,2950,2951,2952,2953,2954,2955,2956,2957,2958,2959,2960,2961,2962,2963,2964,2965,2966,2967,2968,2969,2970,2971,2972,2973,2974,2975,2976,2977,2978,2979,2980,2981,2982,2983,2984,2985,2986,2987,2988,2989,2990,2991,2992,2993,2994,2995,2996,2997,2998,2999],\"words\":[\"film\",\"adapt\",\"comic\",\"book\",\"plenty\",\"success\",\"whether\",\"superheroes\",\"batman\",\"superman\",\"spawn\",\"gear\",\"toward\",\"kid\",\"casper\",\"arthouse\",\"crowd\",\"ghost\",\"world\",\"never\",\"really\",\"like\",\"hell\",\"starter\",\"create\",\"alan\",\"moore\",\"eddie\",\"campbell\",\"bring\",\"medium\",\"whole\",\"new\",\"level\",\"mid\",\"part\",\"series\",\"call\",\"watchman\",\"say\",\"thoroughly\",\"research\",\"subject\",\"jack\",\"ripper\",\"would\",\"michael\",\"jackson\",\"start\",\"look\",\"little\",\"odd\",\"graphic\",\"novel\",\"page\",\"long\",\"include\",\"nearly\",\"consist\",\"nothing\",\"footnote\",\"word\",\"dismiss\",\"source\",\"get\",\"past\",\"thing\",\"might\",\"find\",\"another\",\"stumble\",\"block\",\"director\",\"albert\",\"allen\",\"hughes\",\"brother\",\"direct\",\"seem\",\"almost\",\"ludicrous\",\"cast\",\"carrot\",\"top\",\"well\",\"anything\",\"riddle\",\"set\",\"ghetto\",\"feature\",\"violent\",\"street\",\"crime\",\"mad\",\"genius\",\"behind\",\"menace\",\"ii\",\"society\",\"question\",\"course\",\"whitechapel\",\"london\",\"east\",\"end\",\"filthy\",\"sooty\",\"place\",\"whore\",\"unfortunate\",\"nervous\",\"mysterious\",\"psychopath\",\"carve\",\"profession\",\"surgical\",\"precision\",\"first\",\"stiff\",\"turn\",\"copper\",\"peter\",\"godley\",\"robbie\",\"coltrane\",\"enough\",\"inspector\",\"frederick\",\"abberline\",\"johnny\",\"depp\",\"blow\",\"crack\",\"case\",\"widower\",\"prophetic\",\"dream\",\"unsuccessfully\",\"try\",\"quell\",\"copious\",\"amount\",\"absinthe\",\"opium\",\"upon\",\"arrive\",\"befriends\",\"name\",\"mary\",\"kelly\",\"heather\",\"graham\",\"proceeds\",\"investigate\",\"horribly\",\"gruesome\",\"even\",\"police\",\"surgeon\",\"stomach\",\"think\",\"anyone\",\"need\",\"briefed\",\"go\",\"particular\",\"unique\",\"interesting\",\"theory\",\"identity\",\"killer\",\"reason\",\"choose\",\"slay\",\"bother\",\"cloak\",\"screenwriter\",\"terry\",\"hayes\",\"vertical\",\"limit\",\"rafael\",\"yglesias\",\"les\",\"mis\",\"rables\",\"good\",\"job\",\"keep\",\"hidden\",\"viewer\",\"funny\",\"watch\",\"local\",\"blindly\",\"point\",\"finger\",\"blame\",\"jew\",\"indian\",\"englishman\",\"could\",\"capable\",\"commit\",\"ghastly\",\"act\",\"whistle\",\"stonecutter\",\"song\",\"simpson\",\"day\",\"hold\",\"back\",\"electric\",\"car\",\"make\",\"steve\",\"guttenberg\",\"star\",\"worry\",\"sense\",\"see\",\"onto\",\"appearance\",\"certainly\",\"dark\",\"bleak\",\"surprising\",\"much\",\"tim\",\"burton\",\"planet\",\"ape\",\"times\",\"sleepy\",\"hollow\",\"print\",\"saw\",\"completely\",\"finish\",\"color\",\"music\",\"finalize\",\"comment\",\"marilyn\",\"manson\",\"cinematographer\",\"deming\",\"ably\",\"capture\",\"dreariness\",\"victorian\",\"era\",\"help\",\"flashy\",\"kill\",\"scene\",\"remind\",\"crazy\",\"flashback\",\"twin\",\"peak\",\"though\",\"violence\",\"pale\",\"comparison\",\"black\",\"white\",\"oscar\",\"winner\",\"martin\",\"child\",\"shakespeare\",\"love\",\"production\",\"design\",\"original\",\"prague\",\"surroundings\",\"one\",\"creepy\",\"solid\",\"dreamy\",\"typically\",\"strong\",\"performance\",\"deftly\",\"handle\",\"british\",\"accent\",\"ians\",\"holm\",\"joe\",\"gould\",\"secret\",\"richardson\",\"dalmatian\",\"log\",\"great\",\"support\",\"role\",\"big\",\"surprise\",\"cringe\",\"time\",\"open\",\"mouth\",\"imagine\",\"attempt\",\"irish\",\"actually\",\"half\",\"bad\",\"however\",\"r\",\"gore\",\"sexuality\",\"language\",\"drug\",\"content\",\"every\",\"movie\",\"come\",\"along\",\"suspect\",\"studio\",\"indication\",\"stinker\",\"everybody\",\"perhaps\",\"become\",\"critical\",\"darling\",\"mtv\",\"election\",\"high\",\"school\",\"comedy\",\"matthew\",\"broderick\",\"reese\",\"witherspoon\",\"current\",\"example\",\"anybody\",\"know\",\"exist\",\"week\",\"plot\",\"deceptively\",\"simple\",\"george\",\"washington\",\"carver\",\"student\",\"tracy\",\"flick\",\"achiever\",\"hand\",\"raise\",\"way\",\"mr\",\"sick\",\"megalomaniac\",\"encourage\",\"paul\",\"popular\",\"slow\",\"jock\",\"run\",\"nihilistic\",\"sister\",\"jump\",\"race\",\"personal\",\"side\",\"sleeper\",\"expectation\",\"low\",\"fact\",\"quality\",\"stuff\",\"review\",\"enthusiastic\",\"right\",\"baggage\",\"glow\",\"contrast\",\"negative\",\"reviewer\",\"likely\",\"live\",\"hype\",\"disappointing\",\"contain\",\"significant\",\"detail\",\"lift\",\"directly\",\"rushmore\",\"release\",\"month\",\"earlier\",\"similarity\",\"stagger\",\"president\",\"extraordinary\",\"number\",\"club\",\"involve\",\"play\",\"max\",\"fischer\",\"tension\",\"potential\",\"relationship\",\"teacher\",\"single\",\"parent\",\"home\",\"contribute\",\"drive\",\"male\",\"bumble\",\"adult\",\"pursues\",\"extramarital\",\"affair\",\"catch\",\"life\",\"ruin\",\"bee\",\"sting\",\"bill\",\"murray\",\"several\",\"happen\",\"individual\",\"screenplay\",\"many\",\"yet\",\"probably\",\"aware\",\"two\",\"different\",\"genre\",\"geek\",\"revenge\",\"fully\",\"form\",\"strengths\",\"rely\",\"fantastic\",\"newcomer\",\"jessica\",\"anti\",\"social\",\"tammy\",\"rooney\",\"ferris\",\"bueller\",\"fun\",\"since\",\"revelation\",\"early\",\"year\",\"teenager\",\"clout\",\"money\",\"deserve\",\"nomination\",\"character\",\"speech\",\"gymnasium\",\"bothering\",\"suppose\",\"expect\",\"less\",\"light\",\"airy\",\"sitcom\",\"screw\",\"tighten\",\"mount\",\"alexander\",\"payne\",\"decide\",\"add\",\"element\",\"frankly\",\"distract\",\"story\",\"determination\",\"win\",\"cost\",\"throw\",\"logical\",\"lot\",\"tonal\",\"nosedive\",\"take\",\"explicitly\",\"sex\",\"driven\",\"mark\",\"disappointment\",\"mail\",\"work\",\"alot\",\"deserves\",\"order\",\"extremely\",\"attractive\",\"share\",\"screen\",\"hour\",\"collect\",\"profit\",\"real\",\"inventive\",\"bone\",\"body\",\"basically\",\"complete\",\"shoot\",\"shop\",\"around\",\"corner\",\"modern\",\"twist\",\"essentially\",\"defies\",\"concept\",\"contemporary\",\"filmmaking\",\"overly\",\"sentimental\",\"terribly\",\"mushy\",\"mention\",\"manipulative\",\"oh\",\"enjoyable\",\"manipulation\",\"must\",\"something\",\"absolutely\",\"hat\",\"previous\",\"ryan\",\"hank\",\"team\",\"sleepless\",\"seattle\",\"helm\",\"woman\",\"quite\",\"figure\",\"important\",\"storyline\",\"cliched\",\"tom\",\"fox\",\"insanely\",\"likeable\",\"owner\",\"discount\",\"chain\",\"meg\",\"kathleen\",\"kelley\",\"proprietor\",\"family\",\"nice\",\"homage\",\"soon\",\"bitter\",\"rival\",\"store\",\"across\",\"small\",\"business\",\"already\",\"internet\",\"neither\",\"party\",\"person\",\"true\",\"rest\",\"serve\",\"mere\",\"backdrop\",\"sure\",\"mildly\",\"subplots\",\"fail\",\"utter\",\"cuteness\",\"main\",\"lead\",\"predictable\",\"climax\",\"foreseeable\",\"damn\",\"cute\",\"do\",\"doubt\",\"entire\",\"evokes\",\"pure\",\"joy\",\"discovers\",\"online\",\"fill\",\"lack\",\"happiness\",\"leave\",\"theater\",\"smile\",\"jaw\",\"rare\",\"grab\",\"attention\",\"show\",\"image\",\"blackness\",\"distant\",\"alien\",\"underwater\",\"sound\",\"ominous\",\"bar\",\"composer\",\"john\",\"williams\",\"infamous\",\"score\",\"dah\",\"dum\",\"steven\",\"spielberg\",\"waste\",\"u\",\"water\",\"midnight\",\"swim\",\"beautiful\",\"girl\",\"deadly\",\"away\",\"let\",\"vulnerable\",\"float\",\"ocean\",\"attack\",\"relinquishes\",\"grip\",\"outstanding\",\"build\",\"theatrical\",\"second\",\"unlike\",\"filmmaker\",\"deal\",\"restraint\",\"refuse\",\"shark\",\"middle\",\"merely\",\"suggest\",\"presence\",\"subjective\",\"shot\",\"building\",\"bit\",\"arrival\",\"truly\",\"terrify\",\"bore\",\"imagery\",\"opens\",\"chief\",\"brody\",\"roy\",\"scheider\",\"york\",\"cop\",\"easy\",\"peaceful\",\"station\",\"amity\",\"island\",\"fictitious\",\"england\",\"resort\",\"town\",\"murder\",\"gun\",\"fire\",\"shake\",\"vicious\",\"fourth\",\"july\",\"mayor\",\"larry\",\"vaughn\",\"hamilton\",\"want\",\"shut\",\"beach\",\"reliant\",\"summer\",\"tourist\",\"join\",\"matt\",\"hooper\",\"richard\",\"dreyfus\",\"young\",\"ambitious\",\"expert\",\"marine\",\"institute\",\"fascinate\",\"determine\",\"stop\",\"knowledge\",\"exact\",\"working\",\"perfect\",\"engine\",\"eating\",\"machine\",\"terrifying\",\"finally\",\"relent\",\"crusty\",\"old\",\"quint\",\"robert\",\"shaw\",\"decrepit\",\"boat\",\"orca\",\"search\",\"three\",\"men\",\"hunt\",\"inevitably\",\"jaws\",\"thriller\",\"keen\",\"humor\",\"incredible\",\"pace\",\"horror\",\"ten\",\"roll\",\"wonder\",\"america\",\"storm\",\"crown\",\"box\",\"office\",\"champ\",\"unceremoniously\",\"dethrone\",\"war\",\"today\",\"fascination\",\"par\",\"hitchcock\",\"psycho\",\"age\",\"although\",\"grand\",\"technology\",\"technical\",\"sequence\",\"mechanical\",\"obsolete\",\"none\",\"improve\",\"overkill\",\"limitation\",\"face\",\"may\",\"produce\",\"force\",\"traditional\",\"cinematic\",\"characterization\",\"sharp\",\"edit\",\"creative\",\"photography\",\"instead\",\"simply\",\"douse\",\"audience\",\"digital\",\"effect\",\"dreyfuss\",\"actor\",\"draw\",\"redford\",\"newman\",\"nevertheless\",\"guarantee\",\"successful\",\"career\",\"give\",\"overshadow\",\"hit\",\"note\",\"sympathetic\",\"husband\",\"father\",\"political\",\"quagmire\",\"warn\",\"previously\",\"american\",\"graffiti\",\"apprenticeship\",\"duddy\",\"kravitz\",\"surprisingly\",\"mature\",\"complex\",\"someone\",\"literally\",\"gnarled\",\"captain\",\"ahab\",\"sorely\",\"overlook\",\"academy\",\"award\",\"border\",\"parody\",\"grizzle\",\"loner\",\"whose\",\"machismo\",\"masochism\",\"slightly\",\"derange\",\"caricature\",\"late\",\"deck\",\"compare\",\"scar\",\"drawn\",\"tell\",\"experience\",\"aboard\",\"indianapolis\",\"navy\",\"ship\",\"sunk\",\"japanese\",\"tale\",\"swarm\",\"slowly\",\"devour\",\"hair\",\"put\",\"delivers\",\"best\",\"eye\",\"endless\",\"row\",\"teeth\",\"insatiable\",\"urge\",\"eat\",\"epitome\",\"mankind\",\"fear\",\"unknown\",\"threatening\",\"nature\",\"nemesis\",\"survive\",\"sinch\",\"dinosaur\",\"large\",\"threat\",\"feel\",\"queasy\",\"bunch\",\"writihing\",\"dangle\",\"unprotected\",\"leg\",\"ready\",\"chomp\",\"combination\",\"actual\",\"footage\",\"five\",\"nickname\",\"bruce\",\"crew\",\"angle\",\"forget\",\"sort\",\"precursor\",\"waterworld\",\"soggy\",\"overrun\",\"universal\",\"bomb\",\"overcame\",\"obstacle\",\"deliver\",\"fine\",\"primal\",\"scare\",\"ever\",\"hollywood\",\"moviemaking\",\"general\",\"manager\",\"nfl\",\"post\",\"salary\",\"cap\",\"allocate\",\"resource\",\"dollar\",\"spend\",\"free\",\"agent\",\"defensive\",\"tackle\",\"linebacker\",\"safeties\",\"center\",\"detroit\",\"lion\",\"boast\",\"superstar\",\"huge\",\"contract\",\"field\",\"guy\",\"herb\",\"special\",\"budget\",\"hire\",\"recognizable\",\"jackie\",\"chan\",\"barry\",\"sander\",\"spin\",\"dart\",\"cut\",\"line\",\"operation\",\"condor\",\"motorcycle\",\"madrid\",\"flee\",\"armada\",\"pursuer\",\"identical\",\"compact\",\"reminiscent\",\"daylight\",\"chicago\",\"bear\",\"hot\",\"pursuit\",\"except\",\"rescue\",\"runaway\",\"baby\",\"carriage\",\"cent\",\"invest\",\"stunt\",\"pay\",\"hospital\",\"directs\",\"script\",\"dub\",\"hideous\",\"title\",\"also\",\"explain\",\"morocco\",\"spain\",\"country\",\"rumble\",\"bronx\",\"supposedly\",\"vancouver\",\"chase\",\"canadian\",\"rockies\",\"clearly\",\"visible\",\"heck\",\"haircut\",\"hairstylist\",\"always\",\"mixture\",\"lee\",\"master\",\"kung\",\"fu\",\"slapstick\",\"send\",\"un\",\"retrieve\",\"cache\",\"lose\",\"nazi\",\"gold\",\"north\",\"african\",\"desert\",\"horde\",\"neo\",\"sympathizer\",\"stereotypical\",\"arab\",\"correctness\",\"scream\",\"save\",\"misuse\",\"firearm\",\"villain\",\"break\",\"base\",\"carry\",\"everywhere\",\"pathetic\",\"evil\",\"en\",\"route\",\"extend\",\"hilarious\",\"fight\",\"moroccan\",\"version\",\"motel\",\"nazis\",\"confrontation\",\"savage\",\"native\",\"chop\",\"socky\",\"follow\",\"centerpiece\",\"wind\",\"tunnel\",\"choreograph\",\"giant\",\"kevlar\",\"hamster\",\"ball\",\"smash\",\"crate\",\"bananas\",\"scorpion\",\"ignore\",\"gap\",\"hole\",\"exactly\",\"escape\",\"key\",\"value\",\"hitchhike\",\"sahara\",\"pretentions\",\"raider\",\"ark\",\"knockoff\",\"raiders\",\"franchise\",\"lawrence\",\"kazdan\",\"lucas\",\"got\",\"talent\",\"mainstream\",\"ought\",\"utilize\",\"june\",\"self\",\"teach\",\"idealistic\",\"pragmatic\",\"man\",\"head\",\"government\",\"newly\",\"independent\",\"state\",\"formerly\",\"belgian\",\"congo\",\"later\",\"oust\",\"powerful\",\"position\",\"troop\",\"brutally\",\"aide\",\"known\",\"meteoric\",\"rise\",\"fall\",\"international\",\"raoul\",\"peck\",\"lumumba\",\"patrice\",\"eriq\",\"ebouaney\",\"helmer\",\"documentary\",\"death\",\"prophet\",\"virtually\",\"fictional\",\"account\",\"patriot\",\"remain\",\"co\",\"writer\",\"pascal\",\"bonitzer\",\"begin\",\"leader\",\"perform\",\"task\",\"dismember\",\"hatchet\",\"fast\",\"empty\",\"whiskey\",\"bottle\",\"accompany\",\"grisly\",\"meeting\",\"among\",\"own\",\"third\",\"class\",\"postal\",\"worker\",\"speak\",\"mind\",\"tribes\",\"proclaim\",\"tribal\",\"regional\",\"national\",\"mobile\",\"congolese\",\"movement\",\"mnc\",\"gain\",\"prominence\",\"clerical\",\"sell\",\"beer\",\"bustling\",\"capital\",\"stanleyville\",\"colonial\",\"empire\",\"savvy\",\"chess\",\"achieves\",\"leadership\",\"date\",\"independence\",\"approach\",\"tactically\",\"nation\",\"prime\",\"minister\",\"defense\",\"presidency\",\"joseph\",\"kasa\",\"vubu\",\"maka\",\"kotto\",\"coalition\",\"apart\",\"former\",\"continue\",\"exert\",\"influence\",\"struggle\",\"strive\",\"maintain\",\"economic\",\"vast\",\"natural\",\"diamond\",\"seek\",\"de\",\"facto\",\"control\",\"fledgling\",\"initial\",\"investigation\",\"soviet\",\"assistance\",\"immediately\",\"tags\",\"communist\",\"integrity\",\"cold\",\"russian\",\"domination\",\"situation\",\"army\",\"mutiny\",\"evacuate\",\"arm\",\"violently\",\"intervene\",\"lucrative\",\"katanga\",\"province\",\"succeed\",\"moise\",\"tschombe\",\"nzonzi\",\"access\",\"return\",\"conference\",\"abroad\",\"tumultuous\",\"period\",\"history\",\"sometimes\",\"odious\",\"colonialist\",\"rule\",\"european\",\"seat\",\"power\",\"century\",\"focus\",\"familiar\",\"material\",\"strives\",\"honest\",\"portrayal\",\"friend\",\"foes\",\"africa\",\"nigeria\",\"somalia\",\"born\",\"vary\",\"degree\",\"failure\",\"usually\",\"dependent\",\"colonize\",\"better\",\"others\",\"effort\",\"camera\",\"slice\",\"unexplored\",\"decade\",\"rate\",\"standard\",\"realistic\",\"setting\",\"nicely\",\"travel\",\"zimbabwe\",\"mozambique\",\"cover\",\"ground\",\"yeoman\",\"provide\",\"detailed\",\"justice\",\"evenly\",\"linear\",\"straightforward\",\"manner\",\"preaches\",\"concentrate\",\"deed\",\"bite\",\"stalwart\",\"saint\",\"embellish\",\"persona\",\"perfunctory\",\"brief\",\"interlude\",\"talk\",\"embrace\",\"wife\",\"lament\",\"intent\",\"flesh\",\"short\",\"shrift\",\"lopsided\",\"convince\",\"charismatic\",\"multifaceted\",\"politically\",\"deft\",\"people\",\"ambition\",\"docudrama\",\"tradition\",\"outshine\",\"complement\",\"educational\",\"appeal\",\"buff\",\"politicos\",\"intelligence\",\"b\",\"apparently\",\"tony\",\"kaye\",\"major\",\"battle\",\"regard\",\"x\",\"happy\",\"final\",\"product\",\"remove\",\"credit\",\"altogether\",\"hear\",\"kind\",\"input\",\"found\",\"touchy\",\"racism\",\"edward\",\"norton\",\"hard\",\"believe\",\"performer\",\"derek\",\"vinyard\",\"skinhead\",\"venice\",\"danny\",\"furlong\",\"mother\",\"beverly\",\"angelo\",\"davin\",\"jennifer\",\"lien\",\"vandalize\",\"land\",\"prison\",\"present\",\"eager\",\"footstep\",\"path\",\"adoption\",\"supremacy\",\"full\",\"understand\",\"interest\",\"stupid\",\"thoughtless\",\"intelligent\",\"articulate\",\"voice\",\"belief\",\"disturbingly\",\"term\",\"controversial\",\"preach\",\"redemption\",\"phase\",\"partially\",\"disagree\",\"advocate\",\"loud\",\"obnoxious\",\"smart\",\"believable\",\"arbitrarily\",\"group\",\"clear\",\"passionate\",\"punk\",\"excuse\",\"beat\",\"talented\",\"astonish\",\"frighten\",\"shave\",\"swastika\",\"chest\",\"addition\",\"require\",\"depth\",\"shout\",\"ease\",\"mean\",\"likable\",\"gutsy\",\"subplot\",\"principal\",\"avery\",\"brook\",\"becomes\",\"obsess\",\"purge\",\"hatred\",\"terrific\",\"standouts\",\"visually\",\"indulges\",\"artistic\",\"choice\",\"lots\",\"motion\",\"strange\",\"moody\",\"atmosphere\",\"lately\",\"skim\",\"greatness\",\"last\",\"minute\",\"climactic\",\"move\",\"picture\",\"pretentious\",\"preachy\",\"resolution\",\"narration\",\"subtle\",\"felt\",\"slap\",\"feed\",\"theme\",\"simplistic\",\"dislike\",\"problem\",\"least\",\"pleased\",\"timid\",\"weak\",\"manages\",\"compelling\",\"argument\",\"without\",\"colleague\",\"told\",\"willing\",\"betsy\",\"wed\",\"shock\",\"reaction\",\"understandable\",\"consider\",\"revolve\",\"molly\",\"ringwald\",\"worthwhile\",\"alda\",\"dud\",\"four\",\"noteworthy\",\"project\",\"misdemeanor\",\"write\",\"vibrant\",\"mix\",\"dramatic\",\"moment\",\"bowl\",\"whimsical\",\"elixir\",\"smooth\",\"refreshing\",\"welcome\",\"change\",\"usual\",\"fare\",\"bride\",\"groom\",\"dylan\",\"walsh\",\"pivotal\",\"far\",\"nonentity\",\"door\",\"knob\",\"unbearable\",\"easily\",\"link\",\"crop\",\"orange\",\"red\",\"lip\",\"stick\",\"grotesque\",\"outfit\",\"dress\",\"designer\",\"clown\",\"matter\",\"match\",\"thankfully\",\"minimum\",\"interested\",\"colorful\",\"periphery\",\"device\",\"together\",\"italian\",\"rich\",\"gentile\",\"folk\",\"homey\",\"earth\",\"spirit\",\"madeline\",\"kahn\",\"practical\",\"ally\",\"sheedy\",\"lonely\",\"clan\",\"prim\",\"proper\",\"ostentatious\",\"meet\",\"mingle\",\"culture\",\"clash\",\"versus\",\"wonderfully\",\"understated\",\"pleasant\",\"express\",\"anthony\",\"lapaglia\",\"seizes\",\"spotlight\",\"stevie\",\"dee\",\"suave\",\"polite\",\"mafioso\",\"formally\",\"court\",\"fashion\",\"chivalry\",\"sincere\",\"dim\",\"witted\",\"riot\",\"uncanny\",\"dead\",\"ringer\",\"niro\",\"alec\",\"baldwin\",\"measure\",\"attend\",\"gangster\",\"inspired\",\"partly\",\"tribute\",\"model\",\"rip\",\"miss\",\"scrumptious\",\"beyond\",\"pesci\",\"sink\",\"unscrupulous\",\"law\",\"slum\",\"lord\",\"mob\",\"tie\",\"cheat\",\"catherine\",\"hara\",\"challenge\",\"somehow\",\"touch\",\"financially\",\"strap\",\"carpenter\",\"wallet\",\"adopts\",\"psychological\",\"view\",\"plan\",\"style\",\"remarkably\",\"restrain\",\"tasteful\",\"woody\",\"possess\",\"inspiration\",\"entertain\",\"slop\",\"pass\",\"bloody\",\"pander\",\"condescend\",\"paternalistic\",\"officer\",\"particularly\",\"janssens\",\"rudi\",\"delhem\",\"publique\",\"cause\",\"rebellion\",\"undermine\",\"outrage\",\"rape\",\"unrest\",\"tshombe\",\"percent\",\"secession\",\"replace\",\"mobutu\",\"colonel\",\"pacification\",\"tour\",\"drown\",\"dog\",\"rabies\",\"prophesies\",\"fate\",\"exemplary\",\"complicate\",\"myriad\",\"player\",\"frequently\",\"succumb\",\"cliche\",\"private\",\"illuminate\",\"bantu\",\"saying\",\"us\",\"ambassador\",\"direction\",\"le\",\"assure\",\"unfortunately\",\"television\",\"dynamic\",\"radiating\",\"fierce\",\"passion\",\"ability\",\"strategize\",\"insurmountable\",\"odds\",\"elevate\",\"mediocre\",\"tragedy\",\"personally\",\"action\",\"sea\",\"asian\",\"wire\",\"copycat\",\"pretty\",\"schwartznager\",\"stallone\",\"van\",\"damme\",\"wear\",\"cement\",\"galosh\",\"bottom\",\"result\",\"spectacle\",\"amaze\",\"excite\",\"matrix\",\"gem\",\"often\",\"wrong\",\"chinese\",\"fly\",\"ninjas\",\"karate\",\"soar\",\"detective\",\"kick\",\"scientist\",\"mostly\",\"laughable\",\"rush\",\"emulate\",\"trademark\",\"choreography\",\"joke\",\"art\",\"iron\",\"monkey\",\"import\",\"reissue\",\"th\",\"vigilante\",\"rongguang\",\"yu\",\"shaolin\",\"oppress\",\"belly\",\"hungry\",\"piece\",\"narrative\",\"legendary\",\"hero\",\"wong\",\"fei\",\"hong\",\"recently\",\"possibly\",\"drunken\",\"legend\",\"sze\",\"tsang\",\"kei\",\"ying\",\"yen\",\"chi\",\"dan\",\"thrust\",\"oppression\",\"especially\",\"devolve\",\"ridiculous\",\"twinkle\",\"toed\",\"crouch\",\"tiger\",\"dragon\",\"yuen\",\"wo\",\"ping\",\"eventually\",\"remembers\",\"heart\",\"hardcore\",\"rather\",\"drama\",\"la\",\"profoundness\",\"outlaw\",\"hearted\",\"misguided\",\"enemy\",\"transcend\",\"mindless\",\"equal\",\"masterpiece\",\"dance\",\"invade\",\"tune\",\"aka\",\"siunin\",\"hung\",\"tsi\",\"titmalau\",\"rat\",\"notice\",\"cheek\",\"sore\",\"realize\",\"laugh\",\"aloud\",\"grin\",\"saturday\",\"night\",\"sneak\",\"preview\",\"enjoy\",\"goofy\",\"delight\",\"dandy\",\"energetic\",\"inspire\",\"sight\",\"gag\",\"flat\",\"silliness\",\"zippy\",\"retro\",\"torn\",\"straight\",\"animate\",\"photo\",\"attached\",\"herky\",\"jerky\",\"bound\",\"setup\",\"donald\",\"sinclair\",\"cleese\",\"venetian\",\"hotel\",\"casino\",\"las\",\"vega\",\"concoct\",\"unusual\",\"bet\",\"client\",\"dozen\",\"token\",\"slot\",\"gather\",\"lucky\",\"holder\",\"chance\",\"game\",\"six\",\"competition\",\"contestant\",\"locker\",\"silver\",\"city\",\"n\",\"million\",\"cash\",\"transmitter\",\"crony\",\"track\",\"ahead\",\"whichever\",\"reach\",\"spoil\",\"use\",\"next\",\"paragraph\",\"profile\",\"racer\",\"trashy\",\"clothing\",\"sport\",\"vera\",\"baker\",\"whoopi\",\"goldberg\",\"reunite\",\"daughter\",\"grown\",\"merrill\",\"lanai\",\"chapman\",\"erudite\",\"conservative\",\"wary\",\"stranger\",\"thrown\",\"competitive\",\"owen\",\"templeton\",\"cuba\",\"gooding\",\"jr\",\"currently\",\"referee\",\"gambler\",\"enormous\",\"vengeful\",\"cab\",\"driver\",\"mexico\",\"masquerade\",\"busload\",\"lucy\",\"ricardo\",\"impersonator\",\"convention\",\"pollini\",\"rowan\",\"atkinson\",\"cheerful\",\"holiday\",\"narcoleptic\",\"asleep\",\"inopportune\",\"hitch\",\"ride\",\"zack\",\"wayne\",\"knight\",\"hyper\",\"tense\",\"ambulance\",\"human\",\"transplant\",\"randy\",\"pear\",\"jon\",\"lovitz\",\"promise\",\"kathy\",\"najimy\",\"vacation\",\"fearful\",\"angry\",\"involvement\",\"claim\",\"interview\",\"insist\",\"stay\",\"hop\",\"mini\",\"tear\",\"duane\",\"seth\",\"green\",\"blaine\",\"vince\",\"vieluf\",\"cody\",\"crook\",\"impediment\",\"due\",\"poorly\",\"tongue\",\"pierce\",\"close\",\"understanding\",\"boy\",\"goal\",\"nick\",\"shaffer\",\"breckin\",\"meyer\",\"nonsense\",\"lawyer\",\"train\",\"recruit\",\"helicopter\",\"pilot\",\"faucet\",\"amy\",\"journey\",\"glance\",\"blandly\",\"wholesome\",\"buzz\",\"boyfriend\",\"shawn\",\"dean\",\"cain\",\"spy\",\"jerry\",\"zucker\",\"airplane\",\"leap\",\"periodically\",\"vegas\",\"grisham\",\"dave\",\"thomas\",\"personality\",\"impair\",\"cook\",\"bizarre\",\"momentum\",\"zoom\",\"misstep\",\"bates\",\"roadside\",\"squirrel\",\"salesperson\",\"intricately\",\"museum\",\"outdoor\",\"rally\",\"utterly\",\"tasteless\",\"screamingly\",\"ditch\",\"drop\",\"clothes\",\"cleavage\",\"doze\",\"matron\",\"squirm\",\"induce\",\"hint\",\"molestation\",\"select\",\"band\",\"concert\",\"god\",\"carping\",\"barred\",\"diverse\",\"dvd\",\"buy\",\"surely\",\"outtakes\",\"die\",\"noticed\",\"pseudo\",\"substance\",\"fake\",\"deep\",\"meaning\",\"rehearse\",\"melodramatic\",\"evoke\",\"connotation\",\"step\",\"aside\",\"reflect\",\"discover\",\"elegantly\",\"fluff\",\"angel\",\"somewhere\",\"falter\",\"underneath\",\"seemingly\",\"poetic\",\"beauty\",\"gigantic\",\"somebody\",\"iridescent\",\"glossy\",\"cinematography\",\"shattered\",\"hope\",\"angels\",\"worth\",\"nicolas\",\"cage\",\"guardian\",\"hundred\",\"thousand\",\"eternity\",\"citizen\",\"mortality\",\"celestial\",\"intervention\",\"occur\",\"subdue\",\"maggie\",\"doctor\",\"ponder\",\"alive\",\"losing\",\"patient\",\"surgery\",\"table\",\"envelope\",\"oversee\",\"transition\",\"afterlife\",\"captivate\",\"observe\",\"everyday\",\"quickly\",\"learn\",\"sensation\",\"taste\",\"desire\",\"adoration\",\"resist\",\"appear\",\"regularly\",\"taboo\",\"angelic\",\"community\",\"interestingly\",\"dressed\",\"hitman\",\"glowing\",\"entity\",\"uniqueness\",\"versatile\",\"arizona\",\"combo\",\"slip\",\"heavenly\",\"threaten\",\"sappiness\",\"pick\",\"courage\",\"comparable\",\"deviate\",\"intelligently\",\"ditzy\",\"romantic\",\"impressive\",\"goer\",\"rarely\",\"dennis\",\"franz\",\"interpretation\",\"shame\",\"stage\",\"realization\",\"emotionally\",\"impact\",\"conclusion\",\"painful\",\"thud\",\"exhilarate\",\"impression\",\"linger\",\"remember\",\"convey\",\"thru\",\"glorious\",\"dishearten\",\"mediocrity\",\"german\",\"wing\",\"english\",\"ninety\",\"forgive\",\"shortcoming\",\"devastatingly\",\"non\",\"cynic\",\"anyway\",\"wrap\",\"surreal\",\"criticism\",\"criticize\",\"nonetheless\",\"beautifully\",\"satisfy\",\"appreciate\",\"delve\",\"emotional\",\"territory\",\"synopsis\",\"bobby\",\"garfield\",\"yelchin\",\"mirthless\",\"widow\",\"davis\",\"spritely\",\"carol\",\"boorem\",\"boarder\",\"house\",\"ted\",\"brautigan\",\"hopkins\",\"enigmatic\",\"immediate\",\"bond\",\"deepens\",\"privy\",\"event\",\"forever\",\"enchant\",\"atlantis\",\"recall\",\"king\",\"coming\",\"stand\",\"sentiment\",\"conveys\",\"hearts\",\"magic\",\"childhood\",\"neverending\",\"supernatural\",\"prominent\",\"benefit\",\"greatly\",\"superb\",\"innocence\",\"resignation\",\"splendid\",\"still\",\"praised\",\"highly\",\"spider\",\"radiant\",\"despite\",\"quiet\",\"introspective\",\"commands\",\"onscreen\",\"strident\",\"elizabeth\",\"cartoonish\",\"sully\",\"frame\",\"hick\",\"lovely\",\"cloy\",\"incident\",\"cease\",\"weave\",\"spell\",\"spice\",\"courtroom\",\"prisoner\",\"cinque\",\"djimon\",\"hounsou\",\"sierra\",\"leone\",\"kidnap\",\"slavery\",\"fellow\",\"shore\",\"spanish\",\"slave\",\"trader\",\"haul\",\"legally\",\"technically\",\"trade\",\"adams\",\"mcconaughey\",\"prove\",\"lengthy\",\"portray\",\"panache\",\"facial\",\"ups\",\"adam\",\"anticlimax\",\"subtitle\",\"various\",\"opinion\",\"fiction\",\"invent\",\"purposeful\",\"conflict\",\"stretch\",\"boredom\",\"thought\",\"resolve\",\"spicy\",\"historically\",\"accurate\",\"excellent\",\"negotiator\",\"entirely\",\"unenviable\",\"zero\",\"dangerous\",\"criminal\",\"whatever\",\"intend\",\"stake\",\"mentally\",\"unstable\",\"prone\",\"therefore\",\"psychologist\",\"sham\",\"artist\",\"able\",\"foot\",\"either\",\"failing\",\"prepare\",\"facilitate\",\"crisis\",\"firepower\",\"enter\",\"scenario\",\"possible\",\"dominate\",\"conversation\",\"perpetrator\",\"hostage\",\"trick\",\"favor\",\"circumstance\",\"basis\",\"f\",\"gary\",\"gray\",\"roman\",\"samuel\",\"l\",\"tip\",\"partner\",\"corruption\",\"within\",\"internal\",\"incriminate\",\"evidence\",\"embezzle\",\"disability\",\"fund\",\"scorn\",\"department\",\"scrutiny\",\"badge\",\"typical\",\"hate\",\"luckily\",\"conventionalism\",\"premise\",\"offer\",\"district\",\"attorney\",\"walking\",\"niebaum\",\"j\",\"compressed\",\"motivational\",\"redeem\",\"negotiation\",\"chris\",\"sabian\",\"kevin\",\"spacey\",\"ensue\",\"miscast\",\"identify\",\"protagonist\",\"notable\",\"exception\",\"brown\",\"difficult\",\"preconception\",\"sap\",\"suspenseful\",\"left\",\"largely\",\"attribute\",\"steal\",\"negotiate\",\"hopelessly\",\"sears\",\"tower\",\"bedroom\",\"phone\",\"swat\",\"commander\",\"david\",\"morse\",\"itch\",\"fbi\",\"wait\",\"pressure\",\"lucked\",\"beck\",\"ron\",\"rifkin\",\"frost\",\"spencer\",\"al\",\"travis\",\"competent\",\"typecast\",\"similar\",\"rock\",\"confidential\",\"forgiven\",\"giamatti\",\"rudy\",\"hostages\",\"relief\",\"initially\",\"slimy\",\"shifty\",\"fortunately\",\"seriousness\",\"breather\",\"manage\",\"sustain\",\"throughout\",\"suspicious\",\"clock\",\"sadly\",\"underrated\",\"february\",\"pleasantville\",\"morning\",\"vietnam\",\"backdraft\",\"nixon\",\"check\",\"sling\",\"blade\",\"mental\",\"ward\",\"billy\",\"bob\",\"thornton\",\"nicholson\",\"accept\",\"march\",\"dedicate\",\"characterize\",\"type\",\"famous\",\"plotline\",\"parallel\",\"reality\",\"equally\",\"suit\",\"entertainment\",\"heavy\",\"metal\",\"steel\",\"devote\",\"sings\",\"launched\",\"stardom\",\"rid\",\"singer\",\"critique\",\"sucker\",\"humble\",\"background\",\"lofty\",\"devotes\",\"energy\",\"patience\",\"ultimately\",\"certain\",\"luck\",\"yup\",\"equation\",\"generally\",\"closely\",\"entry\",\"adaptation\",\"lifestyle\",\"preface\",\"definitely\",\"enhance\",\"appreciation\",\"teen\",\"anymore\",\"motley\",\"crue\",\"anthrax\",\"cd\",\"blast\",\"watching\",\"listen\",\"standout\",\"wahlberg\",\"wow\",\"fella\",\"prop\",\"totally\",\"incidentally\",\"ask\",\"regular\",\"ethic\",\"fulfill\",\"aniston\",\"girlfriend\",\"romance\",\"sweet\",\"pull\",\"impress\",\"musician\",\"zakk\",\"wylde\",\"ozzy\",\"osbourne\",\"jeff\",\"pilson\",\"dokken\",\"stephan\",\"jenkins\",\"blind\",\"blas\",\"elias\",\"slaughter\",\"dominic\",\"west\",\"kirk\",\"cuddy\",\"member\",\"sing\",\"judas\",\"priest\",\"admit\",\"gay\",\"record\",\"recommend\",\"originality\",\"covered\",\"uplift\",\"central\",\"yeah\",\"dig\",\"soundtrack\",\"dreams\",\"joblo\",\"boogie\",\"girlfight\",\"goodfellas\",\"sid\",\"james\",\"gang\",\"contraceptive\",\"pill\",\"maternity\",\"kenneth\",\"sir\",\"bernard\",\"hypochondriac\",\"hattie\",\"jacques\",\"charles\",\"hawtrey\",\"psychiatrist\",\"dr\",\"goode\",\"laughs\",\"humorous\",\"antic\",\"visit\",\"swear\",\"secrecy\",\"ear\",\"cameo\",\"joan\",\"sims\",\"expectant\",\"overdue\",\"constantly\",\"connor\",\"railway\",\"cyril\",\"son\",\"cope\",\"nurse\",\"room\",\"barbara\",\"windsor\",\"robbery\",\"panic\",\"subdued\",\"quieter\",\"scarce\",\"making\",\"flounder\",\"genuinely\",\"ultimate\",\"untouchable\",\"examine\",\"rivalry\",\"exaggeration\",\"fit\",\"perfectly\",\"memorable\",\"clever\",\"prohibition\",\"mobster\",\"ruthless\",\"capone\",\"underground\",\"market\",\"liquor\",\"demand\",\"public\",\"elliot\",\"ness\",\"impossible\",\"peace\",\"stabilize\",\"bend\",\"apparent\",\"scenes\",\"deniro\",\"declare\",\"firm\",\"believer\",\"transfer\",\"restaurant\",\"contains\",\"innocent\",\"hesitation\",\"lie\",\"bastard\",\"palma\",\"towards\",\"develop\",\"introduce\",\"duration\",\"admiration\",\"formation\",\"overcoat\",\"walk\",\"unison\",\"forward\",\"feared\",\"pistol\",\"future\",\"morpheus\",\"trinity\",\"virtual\",\"futuristic\",\"countless\",\"hippest\",\"brave\",\"characteristic\",\"separate\",\"ingenuity\",\"costner\",\"grow\",\"unfair\",\"beliefs\",\"shatter\",\"realizes\",\"trust\",\"stability\",\"adversary\",\"anger\",\"thunderous\",\"longer\",\"sean\",\"connery\",\"malone\",\"decides\",\"untouchables\",\"mentor\",\"knife\",\"wit\",\"andy\",\"garcia\",\"wonderful\",\"stone\",\"valuable\",\"lesson\",\"taught\",\"smith\",\"income\",\"tax\",\"offense\",\"intense\",\"western\",\"execute\",\"ingeniously\",\"excitement\",\"pound\",\"drum\",\"rhythm\",\"effective\",\"excessively\",\"glorify\",\"blend\",\"baseball\",\"bat\",\"vivid\",\"roger\",\"rabbit\",\"besides\",\"liked\",\"rent\",\"struck\",\"brilliant\",\"milestone\",\"animation\",\"combine\",\"cartoon\",\"interact\",\"convincingly\",\"mystery\",\"somewhat\",\"herman\",\"trouble\",\"boil\",\"valiant\",\"hoskins\",\"k\",\"maroon\",\"tilvern\",\"unfaithfulness\",\"distraction\",\"photos\",\"reshoots\",\"patty\",\"cake\",\"marvin\",\"acme\",\"stubby\",\"toontown\",\"destroy\",\"judge\",\"doom\",\"christopher\",\"lloyd\",\"jury\",\"executioner\",\"toon\",\"achievement\",\"creation\",\"zemekis\",\"praise\",\"animator\",\"accord\",\"database\",\"study\",\"imaginary\",\"guess\",\"scared\",\"p\",\"please\",\"ben\",\"stiller\",\"circulation\",\"lay\",\"acerbic\",\"neighbor\",\"talkative\",\"sexually\",\"frustrated\",\"coach\",\"jerri\",\"permanent\",\"heroin\",\"addict\",\"stahl\",\"industry\",\"push\",\"bankable\",\"addiction\",\"commercially\",\"ewan\",\"mcgregor\",\"spring\",\"emma\",\"brassed\",\"receive\",\"respect\",\"renton\",\"boyle\",\"transatlantic\",\"junk\",\"fest\",\"trainspotting\",\"philosophy\",\"em\",\"seriously\",\"eighty\",\"churn\",\"plotlines\",\"disposable\",\"tv\",\"habit\",\"size\",\"utah\",\"command\",\"chronicle\",\"abuse\",\"maintenance\",\"observation\",\"casual\",\"reference\",\"naked\",\"lunch\",\"author\",\"william\",\"burroughs\",\"responds\",\"puncture\",\"vein\",\"thrill\",\"occasionally\",\"wobble\",\"writing\",\"autobiography\",\"veloz\",\"pointed\",\"convenient\",\"marriage\",\"exec\",\"hurley\",\"impossibly\",\"profanity\",\"conceive\",\"random\",\"hirings\",\"firing\",\"narrates\",\"lover\",\"kitty\",\"norristown\",\"maria\",\"bello\",\"rehab\",\"janeane\",\"garofalo\",\"heavily\",\"bespectacled\",\"hook\",\"dope\",\"wordsmith\",\"playing\",\"jade\",\"clinic\",\"counselor\",\"unshaven\",\"mascara\",\"wreck\",\"pop\",\"needle\",\"jab\",\"ubiquitous\",\"strangely\",\"absorb\",\"assist\",\"living\",\"phil\",\"curtolo\",\"mel\",\"gibson\",\"braveheart\",\"howard\",\"ransom\",\"mullen\",\"wealthy\",\"tycoon\",\"haunt\",\"sinise\",\"forrest\",\"gump\",\"thug\",\"kate\",\"rene\",\"russo\",\"tin\",\"cup\",\"instruct\",\"inform\",\"contact\",\"elite\",\"delroy\",\"lindo\",\"broken\",\"arrow\",\"average\",\"suddenly\",\"news\",\"broadcast\",\"reward\",\"thicken\",\"unusually\",\"suspense\",\"collide\",\"cellular\",\"gleiberman\",\"weekly\",\"kidnapper\",\"cell\",\"mice\",\"apollo\",\"devilish\",\"worthy\",\"trek\",\"serious\",\"science\",\"purpose\",\"stories\",\"compel\",\"enterprise\",\"numerous\",\"mission\",\"insurrection\",\"mine\",\"engage\",\"episode\",\"cheesy\",\"strictly\",\"generation\",\"introduces\",\"ba\",\"ku\",\"radiation\",\"ring\",\"fountain\",\"youth\",\"archenemies\",\"ru\",\"afo\",\"abraham\",\"mess\",\"everything\",\"disfigure\",\"daily\",\"reconstructive\",\"aesthetically\",\"acceptable\",\"strike\",\"federation\",\"elsewhere\",\"exploit\",\"picard\",\"patrick\",\"stewart\",\"donna\",\"murphy\",\"trusty\",\"habitat\",\"necessary\",\"fan\",\"aspect\",\"bold\",\"magnetic\",\"jonathan\",\"frakes\",\"riker\",\"data\",\"brent\",\"spiner\",\"fairly\",\"overact\",\"aptitude\",\"computer\",\"employ\",\"space\",\"suck\",\"clean\",\"impressively\",\"complaint\",\"moral\",\"stance\",\"appropriate\",\"inherent\",\"camp\",\"factor\",\"equipped\",\"issue\",\"prefer\",\"load\",\"website\",\"ace\",\"ventura\",\"truman\",\"burbank\",\"jim\",\"carrey\",\"gamut\",\"cable\",\"breakthrough\",\"zany\",\"darker\",\"everyone\",\"stellar\",\"pan\",\"critic\",\"gene\",\"siskel\",\"dug\",\"theatre\",\"super\",\"mode\",\"hbo\",\"lean\",\"relax\",\"stalk\",\"robin\",\"leslie\",\"mann\",\"creep\",\"alias\",\"tate\",\"chip\",\"douglas\",\"ricky\",\"etc\",\"manic\",\"karaoke\",\"jam\",\"apartment\",\"medieval\",\"bathroom\"],\"x\":{\"__ndarray__\":\"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\",\"dtype\":\"float32\",\"shape\":[3000]},\"y\":{\"__ndarray__\":\"OThhwvCF4cC9uUbCFx4Qwj7fHcJCC+7BMZofwqBRQUJT4wXC/AD3QaR4y8FVz4XAFYiYwYeWGMIulstBv6scQQPRnMGcmXbBeC0HwtLzPMJKUlbCfps0wpl7GMJ8AghC13QbwmaGlUDVfqNAQZPcwGYLoEB8AcHBSaZlwVB9QMJ/8hnAspMuwsZSLsA541DC0pn5wT7qN8Gj8InBtvhCwjnPy8EcLo4/p7Ywwis/zUAzxQBCcsJEwkn5QEG6LtxA5qwRwrDBYsK1LzjCgEHKwTBw+8HvmpnBn+HfwACX68FqzpnBW2EiwnO+okAO2FnCXUukQNW3LsI4jQVB3/xmwTQIIMLwvtXBnR5JwiO3UsI71x3BZwIbwtUC478b5jLATIVIwhJV6kCWZwLBqFiYQcG1f0AMekjCPf9ewg1lR8J97C1ASU5Rwrm7LkLBjgrCqoNewpF8V8IunglCYdUWwtXqpkGGoErCfyeQwZ+8pcBgIZLBO7HYwHvoFsHVFlvBibF6wdXgEMFUE3XB9ugqwo+TFsKdraI/0oIQv8ZCjUB4vjbC/koBQjfsXsFZMwTC9qIsQsCKYsGj6ytAaXolQFqwI0JQ0TxCdYqBQNBu8T/zXzhCiErjwevG70CLKcjB5M78QUoOOUFq5k3BcW85QXEan0H4G1XCfFWcQOhVKEJiPlZBODuBQPtuE0FrZZXBCTwTwdctEsIKXCJCb46TQURmW8GamyJC52Iawl+vokHsCfRBXHUZwkWCDkGKF35Aan3rwHTvg8AcsghCl2AyQUGXBsCTB6NAyHaCQK+lvMBdWXVB1toeQGdD8sCQytZB+MFWwnXASUAh/1JCX98QQZXEQ8LjwT/Cu640wuwrgsEsDCHCeO4JwgNPEsK+gVPCuTYawc8yRcGBuEfB2X9Owm8qpMGegBtC2al9wW8PCEI379TAH64tQEHQJkI6FT5Cn4xuwUEtE0JiCsJB4hYeQmrNtEFWrxBBu8RkwjULC8LLpyLC3TA1wRSqQMJAxV3CovxIwgMYe0Agv2ZBxARCwrJ1/8CXe+PBEpOKQPXWPECwJxtChBlUwrWbnsGXU22/wp0VQiJ5UcIlA8tBmTmAwVpdAsJYTM1BKiDEwVDrusHBnQbBFy/bQRWVyMBdq1DC7pweQbsGh0HXykfCBEJbwQSHWMKN70PCM3VTwTSlqMHaq07CdpqSweW+4sCFo/XBz2dawgzeCUGkrG3BywCdwLFNWcHlHO9BkmWgwASHKsGIp2vAfigawuhgO8LCAanBPZiXwZ8rRcLoTw/BjRaaweuOIkIE4zxCaH+QQNr400DZKkhCS0ekwIlyeMEWz/tBEetmwfHlzsHkQODAaesRwcQEWMKAXgbCcJf6wMA2lMElOp0+X51zwEMVW8KPcybCoDbcQeoaA8KyBl1AVc2SQMopC8ILrVbBXfUgQZccF8FpOOXBXwZBwaWPR8LCvBLCObRRwrYIhcGtONRB0rEZwrEdx8E2hEHCHXcVQtz0HkEE50HC10BTwhLWxkGJwCnCC9njQMkZFMH6/H3BnIAKQgUFwkACi0BCgQd8wFTTikGvZaJBMsjqQbQLT8I2iVDC+nhSwrhv+8FIFUrC6CI1QGHJ7MF/uOXB08qTwalnHcJlDbrBBjmRQG6AUcJFDOnBsQxlwuVoRsLEeuHBcW0AwumsBkE2PufBIQmHwBGg6sEN7z/C/klhwmcJE8LmaQ/C1tOGwe2d08EwBfhBYTgNQqir5MHwdUvCM5FfwRLfeMGT8oNBh+8awUM9H0GmJqG/LASIQFUAUsKDI+ZAfd0UQTpGxECxD4NBWOYOwXOMJMJx9gfAY5tBwsRDGMIz4MbB5JxXwhyyL0EIhCrCm0UfQWYRxsDDQZFBQK8AQO7mpEFRKkrCVb9NwfKm18GlkRbBaDctwtJaKkG/qenBAzHyQVYyBkJkRh9BSYu3wY6VN8Je5mxBporjwYOiOULwdIdAoWabwWsIEMEMUp3BInwRwmV/J0L4Uc/BI9gkwsasTsKaMDzCqEwdwsULSMI4/QlCnV4uwu+5LkK6owlCIQRmwdM9NsBPGhhAkH0jwnmyBsFlRTPBN+A6wXTH8sFNBIbBQecxwnDaHMFoACnBv9guQmju3MEx0cXBqr61wZkP10FLvTtC6INpQOXyY8Ht3SLCat6pwGCJtsE44ElBDAA6QCkI6kEezhDCB9IawkV6QsE7gpNAIPCxwaJFEcHh2gbBn0XMwKcbBcEQsT3BFurYQLpE5cFEoEhC2Sg4QfnUFD/QMVTBfoAywbxa+MHDKi9Cr8cZQsWgBUE3qCVB5zDtwbPUN8J7bnTBwRdGwg7FQsK0airCeklJwvYib8HVqdLBrfk6wvpQS8J1yqpBmqijwN0rEML7NZrBli6mQd5qksHBRp3BbNE2QZHZwEDPGCrBOSA1wRPOskEnHIJBpKk3QmDDwkGqlU/CHe8dwuCwgsFwr+rBZU/YwQYriMGJAwdCMagbwuyiLMJG0q/B2ZlUwlraScGX7Gg/CGZiwXaOMsL1kE7CpcdGwsPXJMJSV9xB6h9dwVvBjcAZ48lAGdysQYeD8kC/MEFCN2CNwXguScIZq0fCW9VswR4A88Hwi1jC8yAlQsPlwsEt4kjBgR3GwRDG5EFF5VrCWXsZwcY0vUG4EQrCWFw7QmdogMEMPApCyRztwLlijcFNIfq/3QBIwieX1UEeTRzBE2PfwG/uNMIrRfrALS6nwTsBRsKChefBLHe2QFtklkGdGDbCapORwfKPJcHpd9nA2WQrwppdJsIInUnBFwRivp9DB8I9sQPBwtKWwbmZN8LaV4XBsIdEQk7yEMJ8hWDBvIfTwXHu0MHeEK3AdsGRwdpTOkF3TS7CHCucwMOLGsKsTzPCoIDaQXvNFMJCjkHCrRM0wjYGjMFFKQDCNYe7QH6LsUDwMuRA/F5DQr3dykE0rPVA1drDP45nWcLeDA7CeJwywmEVAMInbnLBiJ0fQbhwRMDpwyhC2oMgwbINUkB3kTdC5wmwPlfWOEECPKBBqWRQQvPA9EECjQHB3jU6wjn+VMHBDgHBD94ZQCurS0Bix5nAaCbwwEbQ6UDapBHBZqkdwg1qQ0DMOwzCoOoJwQfcKcJcvSjCGDFGwquCu8HqAjLBv+AEwCgLUsL5/RLB4rlwwfUyMcLqnoPBwkkhQu5GOsLedCpBYUA2wjfWBcISj3nBVy0lwh+/kcEo4VjC79Mlwuj8OsLW0HJBVKHswe3D6sHQ1+Y/knkEQvDtIcJwLEzCdAmZQJC6D8IwXhrCVi8Lwtk3IcH7FwLCOAiJQN5SI8Jpqx/C22fvwRaJEsCQVUVBpkqTwaET3EFu82DCs9vMQfZsor0s6TtBWhRKQeuIMEFvlJVAd7YTwj52bkD3h4nBalPRwD/w4sEycT3CMc88wnOC68AV3XXAqRApQYzHu8DJaZg/csy+P7JbGMLL2DHC18cQQTObecCQyUS/JtW6wLMijcEeuqTA64LGwSfMoMFtjWTBFATuwc3s7sGf3S7CltfgwSRGs0D8CmjBwf16QMMzEcGcCh7Cy3LfwSVDCsLvGPRBmNPfwQA0sb7HdlPCr0ObPyb/QMKTaCfAtno+wmVRfsCAUYTBVCl5QMBJVEKFZ5ZB3/yLQZqLFsDFgg4/qpQrwhlf8EE0bqQ/NLN1wUAes8AO/CZCus1uvj/4VMDeGCJA5QmUv8peAcF6rxvBEmhTwCIAm0AduBhBPQeZQXAEI0Fa7se/PwouQpbEP0LgySPCOX+iwFdfk712agdBHc/vwdWMBULzBaU/8lXrQJ9fx0Fn4xRBtNOnQQTHlUAFl6XAlfOjQIJRpUGcREpCQg/1wT0N576Rzw/Ct9sVwed5X8GbaSxCiZkvwpO4GULBAihC9B8TwX1iqsAYII7B2J9KwIZrNUHC6sbBUZ1hQXxPP0GNwoVBD/s+QX8jCL4HZXQ/s1MswJEl18H+a5S/7URmvwBKH0F23JjAUw1Iwt9oO0LzIEvCGQf6wZW9Q8KIt1HCo+DZwUKK1MG7EC7CGPcxweSKSj7nXCNCrSnGwULZwME3YfhBdGKrQZM+oUAnw+7BRn0hwooo6EEa75HBp7lJwTVYt8A78RLB2iRYwgDdVsEY3CLBbGj3wWSYV8JxI5NBbLnWQQx2L8LHjBHBUVAWQhvV+EHkE2nBm5pNwtztAcLE4NXATiZhwfz12sHgc+vBEHHRwYAxHcJtypPB9RLjwEk348Hox0rCzjsHQmzAUcKZqqDBfLRbwkX0g0GdW1LC8qLGwUpKKEEkqo9Bn8FmwT6enb8YdefBZYQIwrNKPsKl9d1B+4DYwSDsQcJmYNrBhAZQQIMzfEDtYJHB0HFjQOAElcEeSUfB/szJwAu+qUHRxFbBPuFeQU33PcFYQDPCd/wawSlqD8LefyLCgNN5wR8ChMFDEJVAEmeHwUUiI0KeW4BAYZgHwY3tnsFriOzA1fIMwtB+JECnEC1C5JYaQZ24J0J67jPBp6wEwlTaTUJZBRTByQyzwe0Vh0EmoyvC4iyiwUZUn0Dd2BHCS2k3whZ5DUFL5+k9IpyWQbKMrMBpmS9C9DGAv4rp+sCrRR9C43t/wanOmUDuGEXBiVoiwrfeC8KDmBfCHOttwSw0BcH8ZjNBhPEivzc2y0GN4JNAP9VnwRuZK0LABV5B9U2AwRIwAsF6rRZCyPjUwfiOlUFkcBPBx5xvwfItaEGRoKDBiOaFwK7kW8JqBPNARJaIweXGvsBZyh1C6IR5QAyOYEBI6HfBRftuQZOObsGocBrCfN7DwbHq18G7WgNCbeUsQY9dGcC0OMXBsrwdwkC7DsKdxDFBALwvQmwUoUEZPjVCH6/KwAoANcCGTI5BvJ5yQYP1LcIbR0TC339AQr9m8sHM40jCMw1Iwo6SJ0K4VZfBknykQGz+7UGVkELAki29QXFCjEAunTtBAdOiQcKzt8Ex79/Bq9sfwQkg4kDmMatBMkY2QdxBL8E2FC7BGOg7wT9MA0LES+hAxRo5wbR7SULVU8TBlYo2QQaGhr2TFAzCdf6KwRQtXMJiUEvCdaxwQOMmIkJiFffB85QJwri+sUAfVy5CJKNqwUW0DELtcQHC5udSwjlfNb9/mUFCDg7EQbdci7+SzydBfxL7QXcjQ0LN9BtC+S8mQpvjZsEYVgpBjakSQO9duMAJPyQ/D+QkQRZtG8KiwKg/l+xHQm6S1MCUFfhBGjAlQmtYHj+FKebBkMkRwuZG3r6LufNBc/5RwmqJy0A7AZtB7eUBwg45SMLKVCXCuu13QZ5BHkIOAt3A5dbZQKhlLUK3+vjA0K+xQaXtd8GjLoVAfZ7SQUlVBcIGbyJCUVcAQNNXE0Lqp6bA5OozwvxNBEL0yzBBRLHIwA7lI8EOpCDBlhCQwe1LXED/qqG/2V6OQStXG0K0dQnCa0fAP0lEZD/UWSlAskUdQChHvD+v4i9Csj7jvjH0T0GEdPbAfrANQskLjUG9pyPC6PdGwdGuiUGvqztCN1cJwhYq9cDqRpbBzgTowYCiEj5s7NrBstIHP78tEEJEwT1Bam8fwTdyLsKDHnrBZj/lwCBI9MGrZRlCCc3JQc4IG8EkviNBhLEnQVTKUkF0JgvBbyvewWgm4kH8P37BPB2KQc0pIEGPhs3AD5B/wUcP80CzEWDBIY69QDk9KkGqF/9BL6fIQa8uhMGDbKxAAsAAwiSnL8KpE6g9oBv4wSR7FMKCTORBBpM0Qj6mIMANQ+pAQc8KQjOKpkFwJN5Bv1sZwIHM40CrIbbA6fZTwQNaEUJmREXCB9NgwCwsEUJiBS1BVW0kQtBphMDFqq7A/KBLQuPR0j6pdrQ/ThrIwKytiMAomN8/6nirwKOis8BVckhCy/c2QpO/VkLx18rB4QbvwOMdu8GUNjnB5nMiQfm4L0EQ8EdCtVqQQKAPPsHsTq7Ae309wX0oxcCeQVpCE7RXQttAx0EwEO9BRbXhv2E9rUHbKENCiWbJwQFw+8Bjx+pBmf7ZwYY+CUIg0D3AfN1HQjLoqcGVO0tBz6ZHwn8LR0Jv/0LBKZ8HwvVxp0B+fArBARhAwQRwez9WIpHBRIT+wZRchcHxBy9CX55FQM534z+gYSxCzR4VwHn9v8GmE09AsqnVwfwef8B6DEhCL5aPQOkG3sHaPSLCx0dpwVOfSEGhrPxBruuIPxMDBMEtzUhC6wxTQb1OL8GlZO4/HU9Ywf0KUEHl/w2/OFuEwAIxCkEtXljBVXUIQiQpEsFLzK1BUgj5QBtrOUJUdfhBLmJBQv9OEUJRi8PBbFEiwTkQ0ME8POHArlISQH7zKMEN1wdCdn3HwKAuhkEjAwJBUn6dQZJvhkGQdW5BGjVKQb9p0MDDmafBLjLWQAelxMGLylLBebIcwUxwiL4JQoVBJflZwXetLkL5yQLAF1gNwQb6MUCN1R8+4FM7QcSRhEAUWafAZfXhQYzDtMAOrgS/3O14QckPxkFjW0bBNPz2P9IkPELZrTNC8DJwwRm6A0A+b+1B6fQtwpF5Nz+kSyhAT2c1QqcDycDysytCeMi+QddTNEJkWsxByQ/CQZfOGcKI3LpBC5Lkv6m6zEEDFhRCsQWqvznjOUJ9GR9CT60cQktp2MHzfu/BkVw/wvS1AUI8o3fBkq2IwRKmn0GjU6rBBOi/wJCqD8E75d3B4mEnwgbfOMLgWwRCh6HtwdPFE8HaibQ/XVqDwQjcC0E4llzBD8tYwUJEGUHoLtpBAaIiwd3Ax8Eh0CnCWWohQoQtnkGTcXLBC4gQwkbwAMJqVR/CNL6RQUQzMUFK57rBL00Lwvi5GMJsAhzCc6yFwHBu6cFeLrG/7MRmwStQS8EfPVnBJzOdwd16yEBTc0TCwXwQQsUlXMGXqNBBs+4oQtpLr8BrAfvBi2lSQXMad0ALTe1BCw/xwVbPMMHEel9B/SsUQaPb1sDs7Q1C1S9ywfboFkJyCR7CNWdUQVs+gEApli5CDxVMQQ2DPcFojQLCucFPv2ZyicFmAsjB7yzcQKN3eEHn5pFBgo1MQowIKMK2qrdATo27QXjZ1cD17qpBSCEfQlhqIUENzDDCUCSBQMHbT8Gqi+7Bm+4FwokJf8GCdBxAogE+QmFx/MHy3THBJoJHwegqDMIwyxHCGsX6wb5s18F7ShfBMVRCwl9eh8AP5hvCpCUzwtudHkEDYANCsHCUQb6LWEEHdrZAj7DzwFMxNsJ2qS7CcrvNwY6mD0Cgg4HBrfcIQiZRfEGsNKJAzEAiQv6MYUB9hw1BP+c9QuU5ZcG4y5ZAWLIzQt5umMFXpUu+CwCpv13YA8LITxI/+6xWQi4pfsE9pO1Bjvm6QfpB4MFaYyLCz6M8wtqbMsKR6TLAryEowvN9MkLbATZBVmDDwFFlCEEwDx3CmOipwK2hLkK/Jes//YEmQtZfDUKexxJCIj+fP14QF8LltcHAG+Ypwt+tE8KxaDDBBSHGveyPHsIlINVBOE0jQuqy68FCD4LBK5IFwqyI/0CKy8TBxY4ZQrm/+UHfCGpBhGIDwoyyGsJrrxLChEmYwewQs0CWtS3C76OiwTswVkEgYUTBSQTbwOPKJkL+PcrA2PxLwZxIg0BbRRlBglYRQujHBcJIpuBBNHz0wZIyjUHQnm/B5yImwurTJEKnLQHC+O+TwRGR9kFFBRPCqFwLQvcpicCgp0dAEjrawZp55sH4OBnB31ELwptFSsJiJ90/izQUQbAJSL8P/ljBezYawn0bJcJxDBZBXuzEvth9J8KI6wtCmIsdQJDpLcLK70fC/04YQvowL0LWXxTCVDT5wYkabUDsuAbBqm42wmURwkAD+A1CSA2ZwVVmKUJdrHjAB78Ewphen8E9xghCv6VFwkngn0HmPA9B0EY1QvsqAECiyylCC+3eQQsby8FslAhCm4P/wU1qIMHRxUrCENQMQpAA4cFMdzXCVtBSwj1rVsA9lRRCDUA6waQsJEGaNsNBtnpWwQDpHsIO/wbCNt3UwVuSBj/1GVNCbTMOQogMj0EHDKRBjlhHwkKrZcEUYi/Bx7Q3wbG9DkKYcCbCRUG4wJCgJkLvNKJB1rXRwIrSo8BH+qnBGIMiQukoob9q7j3BCFkKwa4VZUATvzjCAm4vwZCj9sFtwA5CdugJwvMCF8FhyKZBn6cAws73D8KBI3hA0baPvhU0hMB4GJrBzPGGwMlZAcE9jw7BQEtRQr11WEKwWA9C80YzQR4gK0LZAENAx7INQszn0UHNhhU/cn/HQNgwQ0AX86s+p7CDwVFlkT77wBxCdOPLwXWg+kFtXQfB1wlWwfK2x0A+HjBC8sP1vpy8kUH8hfW+4M1FQh1OqUHwETBCOL8MQsLajkGVpVY/aiSMwZovH0LUsRtB1siaQaIGvEEr5ZBB7/EiQk31D8GYTSNBiS5LQYUvEUEuyaTAfgomwe/KFj1jvR/BJtP6QW/y0UH/uMpBXn0Swbco2cHpsSfCQV/Av+Pu4sFT6TBCIrUtweS1L0JT2ZY/PeklQk/qfUDSh9k/eY9Bwe8cgMAq28FAbPgUQqGJAsLRVNDB58g0wh3tDUKzzLFBXKxDwThAN0JcXzdC2Q1pwWyQBcLbdNHA7oFBwn5Hm0C0EdhBn2jhQOaOrr6YNBLBhLuEQM07TcJdRYNByoWgwZerMMEEHzBCJuAmQuqKz0EgKqRAjVAxwp92ZkGUiVTA02jqPhHMb8B5XFHBfc9BQh7RIEJ17Q5CZU7dQPE9FkEk5PW/67kkQvPDAD/8hLs/AQo9QqEYxEA6SyDADC27QI3IlEH/McHAN641QHLVlj9GDGDBqQ/NQOmxicEBaBhCwXbvwJiNhMGyMCBC9aoWwhuQHUB7cAhCKTAywTPrtkBypzFBkOYPQot0RsJHpmjBhB3QwAAqQMKFSdjBvk+fwKZ9SsHH8UtCAklWwRYhDcKFkcO9pKGHQZkiikBkGBlC91uawdeDisFq+Ne8aaBXwupQAUA/qJpAjoL3PzkJAULKv1rCwktywZ6+T8HaBCFBYdkqwY2Pq8BO9ThCTFlJwaIYBsJX+jDC1a/VQAiJC8JoNyLCxED7wa8grcBSeEDCC/Iwwmmmc0AmpSLBjhuawAHVREKIFTdCVUOoQHIjd8E/Xl5AEowwwocExsHW3b7B3TMEQhAFMMD3nxdC/jlQwkOOFMI6R4o/RdAXwZIKJEJ7PwpCb/wNwUmhMEKmHErB8AFBQkDNAEIDIg9A8ZoMQrAzXUGo/kXCRK/Twbro/kBcuKjB2kn/QM/6REGdicLA79c6wHrgH8KvP/7AgXDSwRQ/O8GBTDPB4rEhQt5kSkLp7ipCs+8UQlAxzkCoYLdBL2IeQs3dQcIdhBdCw/gdwjUYPMCT4cfAfMJAQnXPcUHkz/fAKhNQQvi7y0EIW0NC77PrwIWvIUJt49DBo0kUQuSVPMIhnz/CvNInwEVuJ8E+sRBCuQZ/wUbg/0EvLQHBaccQQvSnL0B1voLBs8IIwvOxjcGHp5FABYU+wYF1WEKN+aI+v1LWQXwS1z4sV8jAw6XWwXkVF8Ku9XHAs6IRQmyoI8KB2k7CgrbZQBg6jEGfACe/eJvDwVvmLEB/4IbBRutMws3NnMFEUnHBVXcZQuLaFsG+QPTBPlixwXdqEsJ1j+fBFYYXQj4OkMA9pitCYQyAQbRRqsH1qgzChKeSQD7unUFCG1RBObQWQnu3F8H1G4bBiCACQco0KkKvxYxBvlBYQPgPyz+jHkhBJVwdQnlTGEAKWi5CLlWRwGCQV8F/E5hANd6oweu70b5DckJBECYkQJpzksG9uk9Bxi8ZwuQcwcGCK8jBgLrOQE6KMkKAcTlCaWmvwEm8XMBE+/U/SO7awa5Ph8BI5VtAARpPQiMAGcEDGKLB+ij3QCFApsFoh1PBORwawuyj3MHwSgxClrAvQmKJ7EEtTA9Cb3qrQemFF8E0qkNCe1PiQIyLSEI9PaFBIxcAQnixaEDs+5tB/YYwQgoVJ0E4oZpBi94Hwc7aDEIyTy9C22H+v8VBIcGYE+lBH0fYQFzATkFM079ALOGlQSYX+UBaVx9BMXhEQUQ+O0KL/brAKJIyQj5OPEHNpWpA/jQGQdNMP0I44oZB8D9fQJOwRUJc/iRCNHghwZPKtUEmGIBBjZjCQaBXRULCpxdA2alEwWaNIkHvFrK+Oic8QuC0gsG1az9CRc+SQNQLK0CHaRBCDruKwZtQIUK1+dbBeI1VQnY5z0AawhVC306tQEHyOUIw7qHBR0ycQaG7asEODfe/zhkxQiUxIb/GPq9BHEZ7wR+4EMH305VBQrYUwmcGrMHl3Z5Bq+FvwWg2RUIyiAs/Ktd3PxVzPEKj5eZACa/EQZU0gEHQwAhB1BSBQY4sxsH5NfXB95/fPuXpTUHQirbBBRrxQQDyqj+1zZHBfSivP9QKiUG9ZSxCK4UuQSe0xMDNP3i/LSAAwdwwsUDZswFCtakKQFyFZ8H4Tlk/Y1N6wYr8H8Ba5v9BkO9EQp6ssMAnkRpAVjhZQmWyMkAPZadBSAOrv5g2QkD7mEJC3k68wPaeAcErZTNC/flaQRllBULgGZxBW9v6QCS7B8KvGZxBPN6dQOyrgsF5jAhBWW8KQmBjF0JuYUFCYXnvv+w5LEK6vRTAFYAjQk2bLEEElSRCxboUQuDI18HsYxJCR9hvwQxWlUHEPZLBYY+bwLXG4EE4REI/AYtIQh/W3UHo+g/B9J8OwiRHvEEJCIjA/fFvQGZzf0HmRdDBYZRdwLG408Dd/uBB54j1wS3Qq8EfY23B9yMlQWRSFMHMrB9BiKhKPcqokcFrqlfBndbiwU6LTEAOdhRAgAitwGw6IEGmRDlBSXOJwVc5DcL0a3DBKoDNwLfH0EEU7YZAGoIxwZR9lME1EQtCSciuQbmFWsFgthRChb+kwdYzbkFNwTQ+G1m+QL5a8EH8CBPCTMFtwQ84FMJO6QdCg7dFwtkADEJS9QHBmee9QaxJtsHvGYTBuLoPQuOW9r8AAwVCyCPaQZniDkJa1tLBfGgFQl99CEGNa7G/2pHsQWvkkMH1j0bBt3q1wO2+SELuwDa+OuwKQkvzPUJZg9lBQLCVQeUapED3dq3AVJpfQL3tCcLdigvC86ctQlXe98H191vBmxuuwIkwDEKkq/HBi6UXQlUzzEEyifFB7OIYP/EaK0Lkd8NBn99gQbwQS0Hvcy1C6JD8QSXI+kGibIhB8z4nQvxUG8ECtD1CdrFEPwVJ00F7YVLBUjOQvbq01kG5iRxCcXkaQjB1JkLm1THCEcpEwqy9wEAuIQXCZ/ztQP8H9EFuJJpApH39weJ9KMEq/4pA3xhFwcoNHMLL7hjCqTZtwTgR0D+CXghCF+f9wYiqtkAYzSPC9JqRwc//J0LKJQlCW9nTQcSLL0Kww9M/fjfqwP1vc8DJhxhB2G1lP6ekC0LxPovACBr4wTA730E/gx3CqV1mwZnyZ8HM1EXBSMCwQGkUWMFQhyfB4n0Awu9cIsLhcApC/wg1wsHYur8SDIVAoFsxQGbMYUHdlMNBwT2AwQYliUEWG/9AOOKUwV2OpUCbBNBBoWaQQGQSl8DdIjNAsLGEQELPFkF+tilC8j6AQT30WsEXAHHBb/WQQbTZA8JJ057BfigrQvrc/kED72zBsHTGQHL1V0EzKLvBKVIqQeAkMkLeDCBCAiTPwe4EC7411QHBrzV8wLZYFUG4lGLBmnoFwV8o5sFtTuvAq2F8QW2YRUJQZ0jCIpdiwY8a9sFRkAlCIawrQhMVMMKflTHBTOwkQj2aJsEVmo1AOYUiwQFvIUCmFaZABj5iwSmKw8EilwlCzK6ZQFmNMUFwa73AtMsjQjTPq78NrF2/4Ve4wHk/jMFE3p6/pXUQQnt4SkISpERCXKuUQQWxKULx5fU/1SHiQeBrBEDNscNBcn9vQf2XDUDq2C1CnjM5Ql3OJEJYeARCWBKOv1XmDkL1841B5EDjwYLIA0LxoF/A06gkQvp6LUGTAAXBpL0UwUBAjsFmrllA70ZVwYDSA8KL/U7C5rmVQfDPCUKVXEXBzRmjwZ00EEHkUyHC7x8EQGHMu0Hyzi5C3o2fwPPbP8I0cytCTD4QwnaAQEF15ZnB3WxFwVwVPcEpxBPCbsEKwoMMVUGWLolA2nM4QhSuyEGR7vjBQTSeQe96CUIzZCu/pp0pwg3TJcFCy1PC7uKgQdz9sT/OdwhCydNKwDHeBkIBSRw+7gfwwABtJsLWRfZBM6CPwV/e7kFuadtAi6vEwQG9YsBSW/zA11ljwZvLW8FDVt1A+JAKQkRzlEDJ8TVBAyWLQHxOh0EHz2BAM9fAQQBo3MFix6BBoHfYQfzbe8GScDzBn4FIQSU/HkHiEKJBw3UiwaTtK0Iz+VFBtb/dwaf1HcKY3kHA6T6AwXXkJsJDRt3BJsFJQjv7r0CTmiRC35I9v0YnCEEhU4W+kn7JQfSCScGFVkFCrp8YQefaEsAPGTRBEqkNQUg/FUGh39xA+TZKwSsCSsEIryzB6X8IwtSM0sAgzyHCFLiowGxtLEKpn1PBxY4UQXP7UcGqHuFBtmdAwfRCKUI5uHpBDGdzwX5ImUEu6RlCz4q0wF2e5UFNrEpBDBsxQar1FEJ4ez7BVll8QFR+GMJLJoRBhOgAQg3CBkI9f+lAOUHKQaT0KUL3OqBB3yY5QI6bTkEidRlCGQz4QVVY9cGqeH3ADb8WQndUDELnki9CtVSfQWkhQEFAA8jBnLMnwetIp0EvhQ1CTs0fwdhnD0KjLjxByS8mwodQl0BqF0TCKBmtQOMBMEHwmfjBpMPhQWqnKEJpEd1BIupZwMQ8SEG3M5RBmL4uQpqjn8Exx5dBqK1wwSd9dz4S86dBq/rfQNogz0CN/apBA84rQWkDh8H8TrpAj5P/QBaUIkJ1RS3CRdXQwEf2CEKfvGTAftziwVZ0AsGksCjB52Uswl6l7cG/IntA9vufQVHtC0Btj6VByQt4wcjM6EHEHwW/uh8Twa1pbsHdNhtCw/ckQt9r+MHn/CdC441YQV8m9sFYpw5CwYjkweDoMMKN4HbBTQglQqZFHkJIm+DBw7tzQOvyXcHyBVzB6wKvwJ+GjkEm/yzCwBh6wP9WPkJFB8LBTSolP9qvREJ6hV7BKyWCwVjWREIPq0fAcNoDQsckk8EaP/NBBA5DQUim5UBqyBBCG2EWQn/qHMKbu9FBNGoUwkPQYcHkSi9CfLETQraDUEK6xFtAxhTdwbdewcHmFxjCSAyhwEfByUAFYQPAWatrPERZCj+D772+3nW8QEWZ1j7sMG5AcC0YQhX7BULmPMo/iqmiQapESEKve2hBG3koQiHKGr3HWldC+Thfwcxxk8B+2CTBKIgNQAYVzz9tbCDCHuttvyDrLMEBKyXCcThKwQYpHULYqxRCHNr+wTTEgsFcFZbA4eUHwpVO7UH7w4tBMCLHwCFzjMGhcAZCKNCMQT/XQEGn0AhAT1pCwefznkGilGPBaim5QE0TpUA3oBVCimFQQbytVEKBvaFBaJphQM7XNEJ60JJBH7XbQLDn0D/qBAZCxRPvwd9eLz+c6mDA4lhBwHviKELbtaPAIbr3wDXBmEANWw9CSbBTwVtrA0Iy5H/BXK7DQFnjOEKcXodBWxpWQNTS/0EvZrxADELZwF4tPkFwq0NChkPEQMq1iEFzRSLB48aiQTWBm0BhKnrBQ3qqQVTs9cHQBRPBxxMeQvJnxz4sCwVCuQ/7QfusG8LJmQ/C6nwxwmdAM8JfDtlBc52PQf/MSUFqmklCgzjQPoMhLMHvr0lC50ROweu/bMFf8KNBr7A2QoEEGcLlkqVArXR2wVA+MEKVc4TBohkswUyprUFnealBWHOlQDVlLkIQJYdB8x3tPyRDM8Gy3czAVGKYQUJJzcGATmzAcL7vQZuP/cEm0DXCbXi2wWn+C0KRLRFC4y81QjZ3RkGyBg7Cr9nkQavrr8FqK4zBL0xIQhcWn8H+YkZC1PEEQoLjTUHXMBtBJzg6wG2fG8GfxFpBcs3rQcBEKcDBU39BBXsPQagZasEm+xFCRG4sQtY3VUHMtnZB33GdwcBSHULeyHBBreAZwZiKfUEjhf7BlCzdQBFrmEG/iFdCIepyP7w0bMEru5RB7lStQLIe5METkO0/PeooQglqMsLkhRzAHIoeQg5JbcEAHTxCND0jQUOX2kFE2oRBIRLFQWQC3sEAHDrBcYGLwYhTL8Euz0PBaGudQL6LK0JKYRBCpx44wsuIAkKR4xdC6R8QweCRjUDX+SjBWUnfQaD8BsHoJiNCyIqOwUmWCEKVN6zB5eIvQryPC8JD1BNBpl/3wdtX68FLz83BKMQOQs7F60HHlALCUnkYwiDMJEL612jBdDezwLVd4EHLc7xB5doNQYZCqkF2lXfB7eSIwTRtD0Hseo5BJh3jQefSPcB+GcBBH9hHQv/XaUEiJU3Af0mxv5rj+8DiHPPBAcJbwVdb8kAqYeFA8t8aQguwfEHcLBvBXU6JweCOFsFFR4rBMbNkwSNO0UEs88nAOrEBQuD6PME3oNlBi8IuwgTmEkHVqmFAaIERwjSeEkGdNQdB1ycnwRbKCsHlBitCbmfLPQlSj0FPOXVBG7nxQfmq2kAikEfBp8wlQqhcfEELeZlAgK7nQCB8wMGf14bBX2B6QN9lx0Gl9ZdB2vxbQZoQyECNMG3AIquaQKtGacHfyFzBExoGwkIdB0JKGp5BdIzNwC7vJEGkIxZCuTsgQsasZMALeG1BFJYgwjiUEkGsFgdC0Y4qQiERHEJYX/HBKaObQO8Ylr6c+AJC8ZqZQPEAH0EquqdAbEF7wMnNL0B5ZhlCFWPowTOjKcFxuUhCJt/CwKfOH0GTANVBAwIwQrImN0EBTRBCiNkewmEDFMKQe4vB3coPQi/QGUIDR4xB4jaWQSiLFkFG0qK+OxYlQm10ukHV1SpCqUlPQX5/vT5DA0K+6COjP34krEFMAzBCICSAwMqvHEIZOH7Ah9MRQsSVJEKYveVBUvZJQTRgCkFGcjvBOzJiQc0e48DFnTtCkLMDwP828EAgDwVCDTf5QSfVhkEZa99BwbIewanVLcDqOqHBGW5EQuyvLEJmswNC6lrfwB2sC0BqdkBBAOMXwCqiJD/Jqcy+609LwZERT8HDCrHAMoO6QFA9qUAyfCFCPdxJQBsMJELmOW3B1yWOQeqj6UEPN/BB7qEAQVEb5T8VBStCGYnLQVuEgUG1xB9Bv3VXQh9UT0Hf8qvB9fR0QdlrWULsmCxCKSioQLUb2UG2mQHCyL6EwSUTkME7I2fA2ukHwfIEhkGQlTZCgn04wlPUMULJ/EVC67oqQURs1EHLNRRCrfgAwAaLx78aYQ1CoDVEQpd65MHdee/B4B8ywkR1TMLqKAzCsx4gQSqxWMHVQdtAHlTSwVaC2cCTiE8/qa6+wEQbBcIwibjBDBrzwariDEGmFrnB7V74v3Uw9UEO6IVBKEo8QjMCEcHW9jxCJppnP3o4fsF7fSFCR7BRP7WH20H9iyLCD7A3wnUYHkIXqHpBk+ETQRZbv0Fjb5FAmhAiwdK+5z+/qyNCnXZ1wGLCoUGvIPNAqxkPQb1xSkJCwvfAdQVZQm0xNkEFcPXBHKlKwib1QcJtGrdBkOgMQpdEV0CCGcBB9kTQQSbwAMGqCEdC1gA4Qkl4H8IcWQpBPUjJQYrAGcIbcCTBD1yJwfSk7MFC4FnBWKU3QveRVECeFbjBgr7qQbtv/8F4FA5CHgZxwQNvicHa6IFBSc7LwVj74r+pykHBDLkOQtR+BkEQqghC5LQCwq53UEINxRdBEQ3QwR9m0EGD6CTAwKMfQmCgzEG99hhC+w40wlMMGEJ+ExvAF/YrwoQPG0EtgCFC3c0lQvA6icGJywrBaLC+QaHrF0LI86FANdMOQhCtjT9ZpQ1BDndFQh8mEEIhAR5BBHayQZAlRUJ5RrRBiEicwFPwu0CwNwXCrvUYQZ0j/UFXtpRAljswwHBCFELTf0xA\",\"dtype\":\"float32\",\"shape\":[3000]}},\"selected\":{\"id\":\"1031\",\"type\":\"Selection\"},\"selection_policy\":{\"id\":\"1032\",\"type\":\"UnionRenderers\"}},\"id\":\"1024\",\"type\":\"ColumnDataSource\"},{\"attributes\":{},\"id\":\"1013\",\"type\":\"PanTool\"},{\"attributes\":{},\"id\":\"1014\",\"type\":\"WheelZoomTool\"},{\"attributes\":{\"overlay\":{\"id\":\"1033\",\"type\":\"BoxAnnotation\"}},\"id\":\"1015\",\"type\":\"BoxZoomTool\"},{\"attributes\":{},\"id\":\"1016\",\"type\":\"ResetTool\"},{\"attributes\":{},\"id\":\"1011\",\"type\":\"LinearScale\"},{\"attributes\":{\"callback\":null,\"tooltips\":[[\"word\",\"@words\"]]},\"id\":\"1017\",\"type\":\"HoverTool\"},{\"attributes\":{\"text\":\"A map/plot of 3000 word vectors\"},\"id\":\"1003\",\"type\":\"Title\"},{\"attributes\":{\"callback\":null},\"id\":\"1005\",\"type\":\"DataRange1d\"},{\"attributes\":{\"fill_color\":{\"value\":\"#1f77b4\"},\"line_color\":{\"value\":\"#1f77b4\"},\"x\":{\"field\":\"x\"},\"y\":{\"field\":\"y\"}},\"id\":\"1026\",\"type\":\"Scatter\"},{\"attributes\":{\"fill_alpha\":{\"value\":0.1},\"fill_color\":{\"value\":\"#1f77b4\"},\"line_alpha\":{\"value\":0.1},\"line_color\":{\"value\":\"#1f77b4\"},\"x\":{\"field\":\"x\"},\"y\":{\"field\":\"y\"}},\"id\":\"1027\",\"type\":\"Scatter\"},{\"attributes\":{},\"id\":\"1032\",\"type\":\"UnionRenderers\"},{\"attributes\":{},\"id\":\"1031\",\"type\":\"Selection\"},{\"attributes\":{},\"id\":\"1009\",\"type\":\"LinearScale\"},{\"attributes\":{\"callback\":null},\"id\":\"1007\",\"type\":\"DataRange1d\"},{\"attributes\":{\"source\":{\"id\":\"1024\",\"type\":\"ColumnDataSource\"}},\"id\":\"1029\",\"type\":\"CDSView\"}],\"root_ids\":[\"1002\"]},\"title\":\"Bokeh Application\",\"version\":\"1.4.0\"}};\n",
       "  var render_items = [{\"docid\":\"45b4af20-6d07-48e3-b0cc-0722ed3b00c9\",\"roots\":{\"1002\":\"c7435b55-2fbb-48eb-bef7-ac074e7e3fa9\"}}];\n",
       "  root.Bokeh.embed.embed_items_notebook(docs_json, render_items);\n",
       "\n",
       "  }\n",
       "  if (root.Bokeh !== undefined) {\n",
       "    embed_document(root);\n",
       "  } else {\n",
       "    var attempts = 0;\n",
       "    var timer = setInterval(function(root) {\n",
       "      if (root.Bokeh !== undefined) {\n",
       "        clearInterval(timer);\n",
       "        embed_document(root);\n",
       "      } else {\n",
       "        attempts++;\n",
       "        if (attempts > 100) {\n",
       "          clearInterval(timer);\n",
       "          console.log(\"Bokeh: ERROR: Unable to run BokehJS code because BokehJS library is missing\");\n",
       "        }\n",
       "      }\n",
       "    }, 10, root)\n",
       "  }\n",
       "})(window);"
      ],
      "application/vnd.bokehjs_exec.v0+json": ""
     },
     "metadata": {
      "application/vnd.bokehjs_exec.v0+json": {
       "id": "1002"
      }
     },
     "output_type": "display_data"
    }
   ],
   "source": [
    "# Importing bokeh libraries for showing how words of similar context are grouped together\n",
    "import bokeh.plotting as bp\n",
    "from bokeh.models import HoverTool, BoxSelectTool\n",
    "from bokeh.plotting import figure, show, output_notebook\n",
    "import matplotlib.pyplot as plt\n",
    "\n",
    "voc_size=3000\n",
    "#Defining the chart\n",
    "output_notebook()\n",
    "plot_chart = bp.figure(plot_width=700, plot_height=600, title=\"A map/plot of 3000 word vectors\",\n",
    "    tools=\"pan,wheel_zoom,box_zoom,reset,hover\",\n",
    "    x_axis_type=None, y_axis_type=None, min_border=1)\n",
    "\n",
    "#Extracting the list of word vectors, limiting to 1000, each is of 200 dimensions\n",
    "word_vectors = [model[w] for w in list(model.wv.vocab.keys())[:voc_size]]\n",
    "\n",
    "# Reducing dimensionality by converting the vectors to 2d vectors\n",
    "from sklearn.manifold import TSNE\n",
    "tsne_model = TSNE(n_components=2, verbose=1, random_state=0)\n",
    "tsne_w2v = tsne_model.fit_transform(word_vectors)\n",
    "\n",
    "# Storing data in a dataframe\n",
    "tsne_df = pd.DataFrame(tsne_w2v, columns=['x', 'y'])\n",
    "tsne_df['words'] = list(model.wv.vocab.keys())[:voc_size]\n",
    "\n",
    "# Corresponding word appears when you hover on the data point.\n",
    "plot_chart.scatter(x='x', y='y', source=tsne_df)\n",
    "hover = plot_chart.select(dict(type=HoverTool))\n",
    "hover.tooltips={\"word\": \"@words\"}\n",
    "show(plot_chart)"
   ]
  },
  {
   "cell_type": "markdown",
   "metadata": {},
   "source": [
    "Next we have to build word vectors for input text in order to average the value of all word vectors using the following function:"
   ]
  },
  {
   "cell_type": "code",
   "execution_count": 18,
   "metadata": {},
   "outputs": [],
   "source": [
    "import numpy as np \n",
    "#Build word vector set by using the average value of all word vectors , then scale\n",
    "def buildWordVector(text, size):\n",
    "    vec = np.zeros(size).reshape((1, size)) #As word vectors are of zero length size value(i.e 300) \n",
    "    count = 0 # no. of words with a valid vector in the sentence/review\n",
    "    for word in text: #for each word in a sentence/review\n",
    "        try:\n",
    "            vec += model[word].reshape((1, size))\n",
    "            count += 1.\n",
    "        except KeyError:\n",
    "            continue\n",
    "    if count != 0:\n",
    "        vec /= count\n",
    "    return vec"
   ]
  },
  {
   "cell_type": "markdown",
   "metadata": {},
   "source": [
    "Scaling moves our data set is part of the process of standardization where we move our dataset into a gaussian distribution with a mean of zero, meaning that values above the mean will be positive, and those below the mean will be negative. Many ML models require scaled datasets to perform effectively, especially those with many features (like text classifiers)."
   ]
  },
  {
   "cell_type": "code",
   "execution_count": 19,
   "metadata": {},
   "outputs": [
    {
     "name": "stderr",
     "output_type": "stream",
     "text": [
      "C:\\Users\\Shashi\\anaconda3\\lib\\site-packages\\ipykernel_launcher.py:8: DeprecationWarning: Call to deprecated `__getitem__` (Method will be removed in 4.0.0, use self.wv.__getitem__() instead).\n",
      "  \n"
     ]
    }
   ],
   "source": [
    "from sklearn.preprocessing import scale\n",
    "vecs = np.concatenate([buildWordVector(z, Size) for z in df['lemma']])\n",
    "#print(\"Before Scaling:\",vecs[1:2])\n",
    "vecs = scale(vecs)\n",
    "#print(\"After Scaling:\",vecs[1:2])"
   ]
  },
  {
   "cell_type": "code",
   "execution_count": 20,
   "metadata": {},
   "outputs": [
    {
     "name": "stdout",
     "output_type": "stream",
     "text": [
      "Dimension of vector : (2000, 200)\n"
     ]
    }
   ],
   "source": [
    "print(\"Dimension of vector :\",vecs.shape)"
   ]
  },
  {
   "cell_type": "code",
   "execution_count": 21,
   "metadata": {},
   "outputs": [
    {
     "name": "stdout",
     "output_type": "stream",
     "text": [
      "0    1\n",
      "1    1\n",
      "2    1\n",
      "3    1\n",
      "4    1\n",
      "Name: class2, dtype: int32\n"
     ]
    }
   ],
   "source": [
    "#Convert Target varible in numerical form using label encoder method\n",
    "from sklearn.preprocessing import LabelEncoder\n",
    "Encoder = LabelEncoder()\n",
    "df['class2'] = Encoder.fit_transform(df['class'])\n",
    "print(df['class2'].head())\n"
   ]
  },
  {
   "cell_type": "code",
   "execution_count": 22,
   "metadata": {},
   "outputs": [],
   "source": [
    "#Split dataset in Train and Test:\n",
    "#test_size=0.2 (Dataset split ,Test dataset 20% Train dataset =80%)\n",
    "#random_state=342 :Providing a value to random state will be helpful in reproducing the same values \n",
    "                   #in the split when you re-run the program\n",
    "from sklearn.model_selection import train_test_split\n",
    "Train_X, Test_X, Train_Y, Test_Y = train_test_split(vecs,df['class2'],test_size=0.2,random_state=342)"
   ]
  },
  {
   "cell_type": "code",
   "execution_count": 23,
   "metadata": {},
   "outputs": [
    {
     "name": "stdout",
     "output_type": "stream",
     "text": [
      "SVM Accuracy Score ->  79.0 %\n"
     ]
    }
   ],
   "source": [
    "# Classifier - Algorithm - SVM\n",
    "# fit the training dataset on the classifier\n",
    "from sklearn import model_selection,  svm\n",
    "from sklearn.metrics import accuracy_score\n",
    "SVM = svm.SVC(C=1.0, kernel='linear')\n",
    "SVM.fit(Train_X,Train_Y)\n",
    "# predict the labels on validation dataset\n",
    "predictions_SVM = SVM.predict(Test_X)\n",
    "# Use accuracy_score function to get the accuracy\n",
    "print(\"SVM Accuracy Score -> \",round(accuracy_score(predictions_SVM, Test_Y)*100,2),\"%\")"
   ]
  },
  {
   "cell_type": "code",
   "execution_count": 24,
   "metadata": {},
   "outputs": [
    {
     "name": "stdout",
     "output_type": "stream",
     "text": [
      "Wall time: 422 ms\n",
      " ------ Confusion Matrix-----[TN FP  FN TP]\n",
      "[[156  37]\n",
      " [ 51 156]]\n",
      "              precision    recall  f1-score   support\n",
      "\n",
      "           0       0.75      0.81      0.78       193\n",
      "           1       0.81      0.75      0.78       207\n",
      "\n",
      "    accuracy                           0.78       400\n",
      "   macro avg       0.78      0.78      0.78       400\n",
      "weighted avg       0.78      0.78      0.78       400\n",
      "\n",
      "Logistic Regression Accuracy Score ->  78.0 %\n",
      "Logistic Regression Area under curve ->  0.78\n"
     ]
    },
    {
     "name": "stderr",
     "output_type": "stream",
     "text": [
      "C:\\Users\\Shashi\\anaconda3\\lib\\site-packages\\sklearn\\linear_model\\_logistic.py:940: ConvergenceWarning: lbfgs failed to converge (status=1):\n",
      "STOP: TOTAL NO. of ITERATIONS REACHED LIMIT.\n",
      "\n",
      "Increase the number of iterations (max_iter) or scale the data as shown in:\n",
      "    https://scikit-learn.org/stable/modules/preprocessing.html\n",
      "Please also refer to the documentation for alternative solver options:\n",
      "    https://scikit-learn.org/stable/modules/linear_model.html#logistic-regression\n",
      "  extra_warning_msg=_LOGISTIC_SOLVER_CONVERGENCE_MSG)\n"
     ]
    }
   ],
   "source": [
    "# Logistic Regression Model:-\n",
    "# 1. import\n",
    "from sklearn.linear_model import LogisticRegression\n",
    "from sklearn import metrics\n",
    "# 2. instantiate a logistic regression model\n",
    "logreg = LogisticRegression()\n",
    "# 3. train the model using X_train_dtm\n",
    "%time logreg.fit(Train_X, Train_Y)#4. make class predictions for Test_X\n",
    "predictions_log = logreg.predict(Test_X)\n",
    "\n",
    "print(\" ------ Confusion Matrix-----[TN FP  FN TP]\")\n",
    "\n",
    "print(metrics.confusion_matrix(predictions_log, Test_Y))\n",
    "print(metrics.classification_report(predictions_log, Test_Y))\n",
    "# Use accuracy_score function to get the accuracy\n",
    "print(\"Logistic Regression Accuracy Score -> \",round(accuracy_score(predictions_log, Test_Y)*100,2),\"%\")\n",
    "print(\"Logistic Regression Area under curve -> \",round(metrics.roc_auc_score(predictions_log, Test_Y),2))"
   ]
  },
  {
   "cell_type": "markdown",
   "metadata": {},
   "source": [
    "#Neural Network"
   ]
  },
  {
   "cell_type": "code",
   "execution_count": 25,
   "metadata": {
    "scrolled": true
   },
   "outputs": [
    {
     "name": "stdout",
     "output_type": "stream",
     "text": [
      "Epoch 1/30\n",
      "8/8 [==============================] - 1s 102ms/step - loss: 0.7636 - accuracy: 0.5594 - val_loss: 0.6589 - val_accuracy: 0.6275\n",
      "Epoch 2/30\n",
      "8/8 [==============================] - 0s 12ms/step - loss: 0.6667 - accuracy: 0.6100 - val_loss: 0.6697 - val_accuracy: 0.6025\n",
      "Epoch 3/30\n",
      "8/8 [==============================] - 0s 36ms/step - loss: 0.6226 - accuracy: 0.6675 - val_loss: 0.6507 - val_accuracy: 0.6175\n",
      "Epoch 4/30\n",
      "8/8 [==============================] - 0s 39ms/step - loss: 0.5973 - accuracy: 0.6650 - val_loss: 0.6401 - val_accuracy: 0.6400\n",
      "Epoch 5/30\n",
      "8/8 [==============================] - 0s 15ms/step - loss: 0.5827 - accuracy: 0.6931 - val_loss: 0.6531 - val_accuracy: 0.6050\n",
      "Epoch 6/30\n",
      "8/8 [==============================] - 0s 40ms/step - loss: 0.5579 - accuracy: 0.7237 - val_loss: 0.6328 - val_accuracy: 0.6300\n",
      "Epoch 7/30\n",
      "8/8 [==============================] - 0s 15ms/step - loss: 0.5389 - accuracy: 0.7300 - val_loss: 0.6486 - val_accuracy: 0.6450\n",
      "Epoch 8/30\n",
      "8/8 [==============================] - 0s 15ms/step - loss: 0.5274 - accuracy: 0.7406 - val_loss: 0.6700 - val_accuracy: 0.6175\n",
      "Accuracy:  61.75000000000001\n"
     ]
    }
   ],
   "source": [
    "import tensorflow as tf\n",
    "import keras.layers as layers\n",
    "from keras.models import Model\n",
    "\n",
    "from keras.callbacks import EarlyStopping, ModelCheckpoint\n",
    "from keras.layers import Input,Embedding,Dense,Flatten\n",
    "from sklearn.metrics import accuracy_score,classification_report\n",
    "from sklearn.metrics import f1_score\n",
    "\n",
    "epochs = 30\n",
    "batch_size = 200\n",
    "loss = \"binary_crossentropy\"\n",
    "optimizer = \"adam\"\n",
    "metrics = [\"accuracy\"]\n",
    "\n",
    "from keras import models\n",
    "\n",
    "callbacks = [EarlyStopping(monitor='val_loss', patience=2),\n",
    "            ModelCheckpoint(filepath='best_model.h5', monitor='val_loss', save_best_only=True)]\n",
    "\n",
    "# Build neural network\n",
    "model = models.Sequential()\n",
    "model.add(Dense(512, activation='relu', input_shape=(200,)))\n",
    "model.add(Dense(512, activation='relu'))\n",
    "model.add(Dense(1, activation='sigmoid'))\n",
    "model.compile(loss=loss,optimizer=optimizer,metrics= metrics)\n",
    "model.fit(Train_X,Train_Y,epochs=epochs,batch_size=batch_size,callbacks=callbacks,validation_data=(Test_X,Test_Y))\n",
    "\n",
    "\n",
    "predictions = model.predict(Test_X)\n",
    "predictions = [0 if i<0.5 else 1 for i in predictions]\n",
    "\n",
    "f1_score(Test_Y, predictions)\n",
    "print(\"Accuracy: \",accuracy_score(Test_Y,predictions)*100)\n"
   ]
  },
  {
   "cell_type": "code",
   "execution_count": null,
   "metadata": {},
   "outputs": [],
   "source": []
  }
 ],
 "metadata": {
  "kernelspec": {
   "display_name": "Python 3",
   "language": "python",
   "name": "python3"
  },
  "language_info": {
   "codemirror_mode": {
    "name": "ipython",
    "version": 3
   },
   "file_extension": ".py",
   "mimetype": "text/x-python",
   "name": "python",
   "nbconvert_exporter": "python",
   "pygments_lexer": "ipython3",
   "version": "3.7.6"
  }
 },
 "nbformat": 4,
 "nbformat_minor": 2
}
